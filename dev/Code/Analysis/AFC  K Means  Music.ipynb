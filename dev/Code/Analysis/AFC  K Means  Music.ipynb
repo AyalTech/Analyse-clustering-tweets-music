{
 "cells": [
  {
   "cell_type": "markdown",
   "metadata": {},
   "source": [
    "## Occurences des mots"
   ]
  },
  {
   "cell_type": "code",
   "execution_count": 1,
   "metadata": {},
   "outputs": [],
   "source": [
    "occurence_tf_idf = read.csv2(\"../../Data/music_dataframe_all_TFIDF.csv\",sep=',',header=T)"
   ]
  },
  {
   "cell_type": "code",
   "execution_count": 2,
   "metadata": {},
   "outputs": [
    {
     "data": {
      "text/html": [
       "<table>\n",
       "<caption>A data.frame: 5393 × 2</caption>\n",
       "<thead>\n",
       "\t<tr><th scope=col>X</th><th scope=col>counts_by_word</th></tr>\n",
       "\t<tr><th scope=col>&lt;chr&gt;</th><th scope=col>&lt;chr&gt;</th></tr>\n",
       "</thead>\n",
       "<tbody>\n",
       "\t<tr><td>rock   </td><td>62.89687176711089 </td></tr>\n",
       "\t<tr><td>roll   </td><td>62.49269957708621 </td></tr>\n",
       "\t<tr><td>rap    </td><td>43.99474136667022 </td></tr>\n",
       "\t<tr><td>regga  </td><td>40.851880358292306</td></tr>\n",
       "\t<tr><td>pop    </td><td>40.80924608711009 </td></tr>\n",
       "\t<tr><td>jazz   </td><td>34.519201337655666</td></tr>\n",
       "\t<tr><td>music  </td><td>20.25612014156974 </td></tr>\n",
       "\t<tr><td>song   </td><td>18.62987636054765 </td></tr>\n",
       "\t<tr><td>like   </td><td>18.164842658704266</td></tr>\n",
       "\t<tr><td>nowplay</td><td>17.185901512656713</td></tr>\n",
       "\t<tr><td>love   </td><td>17.131081178518237</td></tr>\n",
       "\t<tr><td>listen </td><td>17.067301935031622</td></tr>\n",
       "\t<tr><td>new    </td><td>14.591220343715275</td></tr>\n",
       "\t<tr><td>via    </td><td>13.545790741881051</td></tr>\n",
       "\t<tr><td>one    </td><td>13.525381518139538</td></tr>\n",
       "\t<tr><td>smoke  </td><td>13.245369194512577</td></tr>\n",
       "\t<tr><td>play   </td><td>12.169533968351466</td></tr>\n",
       "\t<tr><td>go     </td><td>11.353697815807793</td></tr>\n",
       "\t<tr><td>make   </td><td>11.255682277705837</td></tr>\n",
       "\t<tr><td>get    </td><td>11.000883000412761</td></tr>\n",
       "\t<tr><td>day    </td><td>10.01917744960172 </td></tr>\n",
       "\t<tr><td>radio  </td><td>9.97692418931027  </td></tr>\n",
       "\t<tr><td>album  </td><td>9.807196554061097 </td></tr>\n",
       "\t<tr><td>got    </td><td>8.435957483243307 </td></tr>\n",
       "\t<tr><td>know   </td><td>8.322290555749788 </td></tr>\n",
       "\t<tr><td>best   </td><td>8.295942645103656 </td></tr>\n",
       "\t<tr><td>good   </td><td>8.004584075860684 </td></tr>\n",
       "\t<tr><td>let    </td><td>7.83926401264158  </td></tr>\n",
       "\t<tr><td>want   </td><td>7.78726508167108  </td></tr>\n",
       "\t<tr><td>live   </td><td>7.782352163095128 </td></tr>\n",
       "\t<tr><td>...</td><td>...</td></tr>\n",
       "\t<tr><td>saudi     </td><td>0.0</td></tr>\n",
       "\t<tr><td>sauci     </td><td>0.0</td></tr>\n",
       "\t<tr><td>bri       </td><td>0.0</td></tr>\n",
       "\t<tr><td>breezi    </td><td>0.0</td></tr>\n",
       "\t<tr><td>livenow   </td><td>0.0</td></tr>\n",
       "\t<tr><td>denni     </td><td>0.0</td></tr>\n",
       "\t<tr><td>semifin   </td><td>0.0</td></tr>\n",
       "\t<tr><td>liferock  </td><td>0.0</td></tr>\n",
       "\t<tr><td>selfnat   </td><td>0.0</td></tr>\n",
       "\t<tr><td>deserv    </td><td>0.0</td></tr>\n",
       "\t<tr><td>dese      </td><td>0.0</td></tr>\n",
       "\t<tr><td>descript  </td><td>0.0</td></tr>\n",
       "\t<tr><td>brain     </td><td>0.0</td></tr>\n",
       "\t<tr><td>sel       </td><td>0.0</td></tr>\n",
       "\t<tr><td>sehun     </td><td>0.0</td></tr>\n",
       "\t<tr><td>limit     </td><td>0.0</td></tr>\n",
       "\t<tr><td>lindenwood</td><td>0.0</td></tr>\n",
       "\t<tr><td>bram      </td><td>0.0</td></tr>\n",
       "\t<tr><td>seek      </td><td>0.0</td></tr>\n",
       "\t<tr><td>describ   </td><td>0.0</td></tr>\n",
       "\t<tr><td>lingfe    </td><td>0.0</td></tr>\n",
       "\t<tr><td>linkinbio </td><td>0.0</td></tr>\n",
       "\t<tr><td>sec       </td><td>0.0</td></tr>\n",
       "\t<tr><td>seat      </td><td>0.0</td></tr>\n",
       "\t<tr><td>deon      </td><td>0.0</td></tr>\n",
       "\t<tr><td>sea       </td><td>0.0</td></tr>\n",
       "\t<tr><td>lite      </td><td>0.0</td></tr>\n",
       "\t<tr><td>sculptur  </td><td>0.0</td></tr>\n",
       "\t<tr><td>dentist   </td><td>0.0</td></tr>\n",
       "\t<tr><td>ffs       </td><td>0.0</td></tr>\n",
       "</tbody>\n",
       "</table>\n"
      ],
      "text/latex": [
       "A data.frame: 5393 × 2\n",
       "\\begin{tabular}{ll}\n",
       " X & counts\\_by\\_word\\\\\n",
       " <chr> & <chr>\\\\\n",
       "\\hline\n",
       "\t rock    & 62.89687176711089 \\\\\n",
       "\t roll    & 62.49269957708621 \\\\\n",
       "\t rap     & 43.99474136667022 \\\\\n",
       "\t regga   & 40.851880358292306\\\\\n",
       "\t pop     & 40.80924608711009 \\\\\n",
       "\t jazz    & 34.519201337655666\\\\\n",
       "\t music   & 20.25612014156974 \\\\\n",
       "\t song    & 18.62987636054765 \\\\\n",
       "\t like    & 18.164842658704266\\\\\n",
       "\t nowplay & 17.185901512656713\\\\\n",
       "\t love    & 17.131081178518237\\\\\n",
       "\t listen  & 17.067301935031622\\\\\n",
       "\t new     & 14.591220343715275\\\\\n",
       "\t via     & 13.545790741881051\\\\\n",
       "\t one     & 13.525381518139538\\\\\n",
       "\t smoke   & 13.245369194512577\\\\\n",
       "\t play    & 12.169533968351466\\\\\n",
       "\t go      & 11.353697815807793\\\\\n",
       "\t make    & 11.255682277705837\\\\\n",
       "\t get     & 11.000883000412761\\\\\n",
       "\t day     & 10.01917744960172 \\\\\n",
       "\t radio   & 9.97692418931027  \\\\\n",
       "\t album   & 9.807196554061097 \\\\\n",
       "\t got     & 8.435957483243307 \\\\\n",
       "\t know    & 8.322290555749788 \\\\\n",
       "\t best    & 8.295942645103656 \\\\\n",
       "\t good    & 8.004584075860684 \\\\\n",
       "\t let     & 7.83926401264158  \\\\\n",
       "\t want    & 7.78726508167108  \\\\\n",
       "\t live    & 7.782352163095128 \\\\\n",
       "\t ... & ...\\\\\n",
       "\t saudi      & 0.0\\\\\n",
       "\t sauci      & 0.0\\\\\n",
       "\t bri        & 0.0\\\\\n",
       "\t breezi     & 0.0\\\\\n",
       "\t livenow    & 0.0\\\\\n",
       "\t denni      & 0.0\\\\\n",
       "\t semifin    & 0.0\\\\\n",
       "\t liferock   & 0.0\\\\\n",
       "\t selfnat    & 0.0\\\\\n",
       "\t deserv     & 0.0\\\\\n",
       "\t dese       & 0.0\\\\\n",
       "\t descript   & 0.0\\\\\n",
       "\t brain      & 0.0\\\\\n",
       "\t sel        & 0.0\\\\\n",
       "\t sehun      & 0.0\\\\\n",
       "\t limit      & 0.0\\\\\n",
       "\t lindenwood & 0.0\\\\\n",
       "\t bram       & 0.0\\\\\n",
       "\t seek       & 0.0\\\\\n",
       "\t describ    & 0.0\\\\\n",
       "\t lingfe     & 0.0\\\\\n",
       "\t linkinbio  & 0.0\\\\\n",
       "\t sec        & 0.0\\\\\n",
       "\t seat       & 0.0\\\\\n",
       "\t deon       & 0.0\\\\\n",
       "\t sea        & 0.0\\\\\n",
       "\t lite       & 0.0\\\\\n",
       "\t sculptur   & 0.0\\\\\n",
       "\t dentist    & 0.0\\\\\n",
       "\t ffs        & 0.0\\\\\n",
       "\\end{tabular}\n"
      ],
      "text/markdown": [
       "\n",
       "A data.frame: 5393 × 2\n",
       "\n",
       "| X &lt;chr&gt; | counts_by_word &lt;chr&gt; |\n",
       "|---|---|\n",
       "| rock    | 62.89687176711089  |\n",
       "| roll    | 62.49269957708621  |\n",
       "| rap     | 43.99474136667022  |\n",
       "| regga   | 40.851880358292306 |\n",
       "| pop     | 40.80924608711009  |\n",
       "| jazz    | 34.519201337655666 |\n",
       "| music   | 20.25612014156974  |\n",
       "| song    | 18.62987636054765  |\n",
       "| like    | 18.164842658704266 |\n",
       "| nowplay | 17.185901512656713 |\n",
       "| love    | 17.131081178518237 |\n",
       "| listen  | 17.067301935031622 |\n",
       "| new     | 14.591220343715275 |\n",
       "| via     | 13.545790741881051 |\n",
       "| one     | 13.525381518139538 |\n",
       "| smoke   | 13.245369194512577 |\n",
       "| play    | 12.169533968351466 |\n",
       "| go      | 11.353697815807793 |\n",
       "| make    | 11.255682277705837 |\n",
       "| get     | 11.000883000412761 |\n",
       "| day     | 10.01917744960172  |\n",
       "| radio   | 9.97692418931027   |\n",
       "| album   | 9.807196554061097  |\n",
       "| got     | 8.435957483243307  |\n",
       "| know    | 8.322290555749788  |\n",
       "| best    | 8.295942645103656  |\n",
       "| good    | 8.004584075860684  |\n",
       "| let     | 7.83926401264158   |\n",
       "| want    | 7.78726508167108   |\n",
       "| live    | 7.782352163095128  |\n",
       "| ... | ... |\n",
       "| saudi      | 0.0 |\n",
       "| sauci      | 0.0 |\n",
       "| bri        | 0.0 |\n",
       "| breezi     | 0.0 |\n",
       "| livenow    | 0.0 |\n",
       "| denni      | 0.0 |\n",
       "| semifin    | 0.0 |\n",
       "| liferock   | 0.0 |\n",
       "| selfnat    | 0.0 |\n",
       "| deserv     | 0.0 |\n",
       "| dese       | 0.0 |\n",
       "| descript   | 0.0 |\n",
       "| brain      | 0.0 |\n",
       "| sel        | 0.0 |\n",
       "| sehun      | 0.0 |\n",
       "| limit      | 0.0 |\n",
       "| lindenwood | 0.0 |\n",
       "| bram       | 0.0 |\n",
       "| seek       | 0.0 |\n",
       "| describ    | 0.0 |\n",
       "| lingfe     | 0.0 |\n",
       "| linkinbio  | 0.0 |\n",
       "| sec        | 0.0 |\n",
       "| seat       | 0.0 |\n",
       "| deon       | 0.0 |\n",
       "| sea        | 0.0 |\n",
       "| lite       | 0.0 |\n",
       "| sculptur   | 0.0 |\n",
       "| dentist    | 0.0 |\n",
       "| ffs        | 0.0 |\n",
       "\n"
      ],
      "text/plain": [
       "     X          counts_by_word    \n",
       "1    rock       62.89687176711089 \n",
       "2    roll       62.49269957708621 \n",
       "3    rap        43.99474136667022 \n",
       "4    regga      40.851880358292306\n",
       "5    pop        40.80924608711009 \n",
       "6    jazz       34.519201337655666\n",
       "7    music      20.25612014156974 \n",
       "8    song       18.62987636054765 \n",
       "9    like       18.164842658704266\n",
       "10   nowplay    17.185901512656713\n",
       "11   love       17.131081178518237\n",
       "12   listen     17.067301935031622\n",
       "13   new        14.591220343715275\n",
       "14   via        13.545790741881051\n",
       "15   one        13.525381518139538\n",
       "16   smoke      13.245369194512577\n",
       "17   play       12.169533968351466\n",
       "18   go         11.353697815807793\n",
       "19   make       11.255682277705837\n",
       "20   get        11.000883000412761\n",
       "21   day        10.01917744960172 \n",
       "22   radio      9.97692418931027  \n",
       "23   album      9.807196554061097 \n",
       "24   got        8.435957483243307 \n",
       "25   know       8.322290555749788 \n",
       "26   best       8.295942645103656 \n",
       "27   good       8.004584075860684 \n",
       "28   let        7.83926401264158  \n",
       "29   want       7.78726508167108  \n",
       "30   live       7.782352163095128 \n",
       "...  ...        ...               \n",
       "5364 saudi      0.0               \n",
       "5365 sauci      0.0               \n",
       "5366 bri        0.0               \n",
       "5367 breezi     0.0               \n",
       "5368 livenow    0.0               \n",
       "5369 denni      0.0               \n",
       "5370 semifin    0.0               \n",
       "5371 liferock   0.0               \n",
       "5372 selfnat    0.0               \n",
       "5373 deserv     0.0               \n",
       "5374 dese       0.0               \n",
       "5375 descript   0.0               \n",
       "5376 brain      0.0               \n",
       "5377 sel        0.0               \n",
       "5378 sehun      0.0               \n",
       "5379 limit      0.0               \n",
       "5380 lindenwood 0.0               \n",
       "5381 bram       0.0               \n",
       "5382 seek       0.0               \n",
       "5383 describ    0.0               \n",
       "5384 lingfe     0.0               \n",
       "5385 linkinbio  0.0               \n",
       "5386 sec        0.0               \n",
       "5387 seat       0.0               \n",
       "5388 deon       0.0               \n",
       "5389 sea        0.0               \n",
       "5390 lite       0.0               \n",
       "5391 sculptur   0.0               \n",
       "5392 dentist    0.0               \n",
       "5393 ffs        0.0               "
      ]
     },
     "metadata": {},
     "output_type": "display_data"
    }
   ],
   "source": [
    "occurence_tf_idf"
   ]
  },
  {
   "cell_type": "markdown",
   "metadata": {},
   "source": [
    "### AFC"
   ]
  },
  {
   "cell_type": "code",
   "execution_count": 1,
   "metadata": {},
   "outputs": [],
   "source": [
    "music = read.csv2(\"../../Data/music_dataframe_TFIDF.csv\",sep=',',header=T)\n",
    "music = as.data.frame(music)\n",
    "\n",
    "index = music$id\n",
    "music=music[-1]\n",
    "\n",
    "music.numeric <- data.frame(sapply(music, function(x) as.numeric(as.character(x))))\n",
    "music.numeric = as.data.frame(music.numeric)\n",
    "rownames(music.numeric) = index\n"
   ]
  },
  {
   "cell_type": "code",
   "execution_count": 2,
   "metadata": {},
   "outputs": [
    {
     "name": "stdout",
     "output_type": "stream",
     "text": [
      "Nombre de termes :  450"
     ]
    }
   ],
   "source": [
    "cat(\"Nombre de termes : \",length(music.numeric))"
   ]
  },
  {
   "cell_type": "code",
   "execution_count": 5,
   "metadata": {},
   "outputs": [
    {
     "data": {
      "text/html": [
       "<table>\n",
       "<caption>A data.frame: 1420 × 450</caption>\n",
       "<thead>\n",
       "\t<tr><th></th><th scope=col>rock</th><th scope=col>roll</th><th scope=col>rap</th><th scope=col>regga</th><th scope=col>pop</th><th scope=col>jazz</th><th scope=col>music</th><th scope=col>song</th><th scope=col>like</th><th scope=col>nowplay</th><th scope=col>...</th><th scope=col>loyal</th><th scope=col>flame</th><th scope=col>partyalldj</th><th scope=col>variou</th><th scope=col>tast</th><th scope=col>heart</th><th scope=col>care</th><th scope=col>X50s</th><th scope=col>royalti</th><th scope=col>twitter</th></tr>\n",
       "\t<tr><th></th><th scope=col>&lt;dbl&gt;</th><th scope=col>&lt;dbl&gt;</th><th scope=col>&lt;dbl&gt;</th><th scope=col>&lt;dbl&gt;</th><th scope=col>&lt;dbl&gt;</th><th scope=col>&lt;dbl&gt;</th><th scope=col>&lt;dbl&gt;</th><th scope=col>&lt;dbl&gt;</th><th scope=col>&lt;dbl&gt;</th><th scope=col>&lt;dbl&gt;</th><th scope=col>...</th><th scope=col>&lt;dbl&gt;</th><th scope=col>&lt;dbl&gt;</th><th scope=col>&lt;dbl&gt;</th><th scope=col>&lt;dbl&gt;</th><th scope=col>&lt;dbl&gt;</th><th scope=col>&lt;dbl&gt;</th><th scope=col>&lt;dbl&gt;</th><th scope=col>&lt;dbl&gt;</th><th scope=col>&lt;dbl&gt;</th><th scope=col>&lt;dbl&gt;</th></tr>\n",
       "</thead>\n",
       "<tbody>\n",
       "\t<tr><th scope=row>0</th><td>0.09855091</td><td>0.10152122</td><td>0</td><td>0</td><td>0</td><td>0</td><td>0.1433244</td><td>0.000000</td><td>0.0000000</td><td>0.0000000</td><td>...</td><td>0</td><td>0</td><td>0</td><td>0</td><td>0</td><td>0</td><td>0</td><td>0</td><td>0</td><td>0</td></tr>\n",
       "\t<tr><th scope=row>1</th><td>0.14079988</td><td>0.14504357</td><td>0</td><td>0</td><td>0</td><td>0</td><td>0.2047679</td><td>0.000000</td><td>0.0000000</td><td>0.2252458</td><td>...</td><td>0</td><td>0</td><td>0</td><td>0</td><td>0</td><td>0</td><td>0</td><td>0</td><td>0</td><td>0</td></tr>\n",
       "\t<tr><th scope=row>2</th><td>0.16306292</td><td>0.16797762</td><td>0</td><td>0</td><td>0</td><td>0</td><td>0.0000000</td><td>0.000000</td><td>0.0000000</td><td>0.0000000</td><td>...</td><td>0</td><td>0</td><td>0</td><td>0</td><td>0</td><td>0</td><td>0</td><td>0</td><td>0</td><td>0</td></tr>\n",
       "\t<tr><th scope=row>3</th><td>0.00000000</td><td>0.00000000</td><td>0</td><td>0</td><td>0</td><td>0</td><td>0.0000000</td><td>0.000000</td><td>0.0000000</td><td>0.0000000</td><td>...</td><td>0</td><td>0</td><td>0</td><td>0</td><td>0</td><td>0</td><td>0</td><td>0</td><td>0</td><td>0</td></tr>\n",
       "\t<tr><th scope=row>10</th><td>0.14322178</td><td>0.14753847</td><td>0</td><td>0</td><td>0</td><td>0</td><td>0.0000000</td><td>0.000000</td><td>0.0000000</td><td>0.0000000</td><td>...</td><td>0</td><td>0</td><td>0</td><td>0</td><td>0</td><td>0</td><td>0</td><td>0</td><td>0</td><td>0</td></tr>\n",
       "\t<tr><th scope=row>11</th><td>0.20144047</td><td>0.20751186</td><td>0</td><td>0</td><td>0</td><td>0</td><td>0.0000000</td><td>0.000000</td><td>0.0000000</td><td>0.0000000</td><td>...</td><td>0</td><td>0</td><td>0</td><td>0</td><td>0</td><td>0</td><td>0</td><td>0</td><td>0</td><td>0</td></tr>\n",
       "\t<tr><th scope=row>13</th><td>0.22278624</td><td>0.22950099</td><td>0</td><td>0</td><td>0</td><td>0</td><td>0.0000000</td><td>0.000000</td><td>0.0000000</td><td>0.0000000</td><td>...</td><td>0</td><td>0</td><td>0</td><td>0</td><td>0</td><td>0</td><td>0</td><td>0</td><td>0</td><td>0</td></tr>\n",
       "\t<tr><th scope=row>14</th><td>0.11037018</td><td>0.11369672</td><td>0</td><td>0</td><td>0</td><td>0</td><td>0.0000000</td><td>0.000000</td><td>0.0000000</td><td>0.0000000</td><td>...</td><td>0</td><td>0</td><td>0</td><td>0</td><td>0</td><td>0</td><td>0</td><td>0</td><td>0</td><td>0</td></tr>\n",
       "\t<tr><th scope=row>15</th><td>0.13166914</td><td>0.13563763</td><td>0</td><td>0</td><td>0</td><td>0</td><td>0.0000000</td><td>0.000000</td><td>0.0000000</td><td>0.0000000</td><td>...</td><td>0</td><td>0</td><td>0</td><td>0</td><td>0</td><td>0</td><td>0</td><td>0</td><td>0</td><td>0</td></tr>\n",
       "\t<tr><th scope=row>16</th><td>0.23123564</td><td>0.23820505</td><td>0</td><td>0</td><td>0</td><td>0</td><td>0.0000000</td><td>0.000000</td><td>0.0000000</td><td>0.0000000</td><td>...</td><td>0</td><td>0</td><td>0</td><td>0</td><td>0</td><td>0</td><td>0</td><td>0</td><td>0</td><td>0</td></tr>\n",
       "\t<tr><th scope=row>19</th><td>0.21044920</td><td>0.21679211</td><td>0</td><td>0</td><td>0</td><td>0</td><td>0.0000000</td><td>0.000000</td><td>0.0000000</td><td>0.0000000</td><td>...</td><td>0</td><td>0</td><td>0</td><td>0</td><td>0</td><td>0</td><td>0</td><td>0</td><td>0</td><td>0</td></tr>\n",
       "\t<tr><th scope=row>21</th><td>0.09876080</td><td>0.10173744</td><td>0</td><td>0</td><td>0</td><td>0</td><td>0.0000000</td><td>0.000000</td><td>0.0000000</td><td>0.0000000</td><td>...</td><td>0</td><td>0</td><td>0</td><td>0</td><td>0</td><td>0</td><td>0</td><td>0</td><td>0</td><td>0</td></tr>\n",
       "\t<tr><th scope=row>22</th><td>0.28698517</td><td>0.29563486</td><td>0</td><td>0</td><td>0</td><td>0</td><td>0.0000000</td><td>0.000000</td><td>0.0000000</td><td>0.0000000</td><td>...</td><td>0</td><td>0</td><td>0</td><td>0</td><td>0</td><td>0</td><td>0</td><td>0</td><td>0</td><td>0</td></tr>\n",
       "\t<tr><th scope=row>25</th><td>0.13340768</td><td>0.13742857</td><td>0</td><td>0</td><td>0</td><td>0</td><td>0.0000000</td><td>0.000000</td><td>0.0000000</td><td>0.0000000</td><td>...</td><td>0</td><td>0</td><td>0</td><td>0</td><td>0</td><td>0</td><td>0</td><td>0</td><td>0</td><td>0</td></tr>\n",
       "\t<tr><th scope=row>27</th><td>0.00000000</td><td>0.00000000</td><td>0</td><td>0</td><td>0</td><td>0</td><td>0.0000000</td><td>0.000000</td><td>0.0000000</td><td>0.0000000</td><td>...</td><td>0</td><td>0</td><td>0</td><td>0</td><td>0</td><td>0</td><td>0</td><td>0</td><td>0</td><td>0</td></tr>\n",
       "\t<tr><th scope=row>28</th><td>0.13529695</td><td>0.13937478</td><td>0</td><td>0</td><td>0</td><td>0</td><td>0.0000000</td><td>0.000000</td><td>0.0000000</td><td>0.0000000</td><td>...</td><td>0</td><td>0</td><td>0</td><td>0</td><td>0</td><td>0</td><td>0</td><td>0</td><td>0</td><td>0</td></tr>\n",
       "\t<tr><th scope=row>30</th><td>0.00000000</td><td>0.00000000</td><td>0</td><td>0</td><td>0</td><td>0</td><td>0.0000000</td><td>0.000000</td><td>0.0000000</td><td>0.0000000</td><td>...</td><td>0</td><td>0</td><td>0</td><td>0</td><td>0</td><td>0</td><td>0</td><td>0</td><td>0</td><td>0</td></tr>\n",
       "\t<tr><th scope=row>31</th><td>0.09144951</td><td>0.09420579</td><td>0</td><td>0</td><td>0</td><td>0</td><td>0.0000000</td><td>0.000000</td><td>0.0000000</td><td>0.0000000</td><td>...</td><td>0</td><td>0</td><td>0</td><td>0</td><td>0</td><td>0</td><td>0</td><td>0</td><td>0</td><td>0</td></tr>\n",
       "\t<tr><th scope=row>32</th><td>0.15633708</td><td>0.16104906</td><td>0</td><td>0</td><td>0</td><td>0</td><td>0.0000000</td><td>0.000000</td><td>0.0000000</td><td>0.0000000</td><td>...</td><td>0</td><td>0</td><td>0</td><td>0</td><td>0</td><td>0</td><td>0</td><td>0</td><td>0</td><td>0</td></tr>\n",
       "\t<tr><th scope=row>33</th><td>0.10786029</td><td>0.11111118</td><td>0</td><td>0</td><td>0</td><td>0</td><td>0.0000000</td><td>0.000000</td><td>0.0000000</td><td>0.0000000</td><td>...</td><td>0</td><td>0</td><td>0</td><td>0</td><td>0</td><td>0</td><td>0</td><td>0</td><td>0</td><td>0</td></tr>\n",
       "\t<tr><th scope=row>34</th><td>0.09144951</td><td>0.09420579</td><td>0</td><td>0</td><td>0</td><td>0</td><td>0.0000000</td><td>0.000000</td><td>0.0000000</td><td>0.0000000</td><td>...</td><td>0</td><td>0</td><td>0</td><td>0</td><td>0</td><td>0</td><td>0</td><td>0</td><td>0</td><td>0</td></tr>\n",
       "\t<tr><th scope=row>36</th><td>0.25483170</td><td>0.52502458</td><td>0</td><td>0</td><td>0</td><td>0</td><td>0.0000000</td><td>0.000000</td><td>0.3794853</td><td>0.0000000</td><td>...</td><td>0</td><td>0</td><td>0</td><td>0</td><td>0</td><td>0</td><td>0</td><td>0</td><td>0</td><td>0</td></tr>\n",
       "\t<tr><th scope=row>38</th><td>0.12800254</td><td>0.13186052</td><td>0</td><td>0</td><td>0</td><td>0</td><td>0.0000000</td><td>0.200943</td><td>0.1906163</td><td>0.0000000</td><td>...</td><td>0</td><td>0</td><td>0</td><td>0</td><td>0</td><td>0</td><td>0</td><td>0</td><td>0</td><td>0</td></tr>\n",
       "\t<tr><th scope=row>39</th><td>0.36686673</td><td>0.37792404</td><td>0</td><td>0</td><td>0</td><td>0</td><td>0.0000000</td><td>0.000000</td><td>0.0000000</td><td>0.0000000</td><td>...</td><td>0</td><td>0</td><td>0</td><td>0</td><td>0</td><td>0</td><td>0</td><td>0</td><td>0</td><td>0</td></tr>\n",
       "\t<tr><th scope=row>41</th><td>0.14706449</td><td>0.15149699</td><td>0</td><td>0</td><td>0</td><td>0</td><td>0.0000000</td><td>0.000000</td><td>0.0000000</td><td>0.0000000</td><td>...</td><td>0</td><td>0</td><td>0</td><td>0</td><td>0</td><td>0</td><td>0</td><td>0</td><td>0</td><td>0</td></tr>\n",
       "\t<tr><th scope=row>43</th><td>0.17990069</td><td>0.18532288</td><td>0</td><td>0</td><td>0</td><td>0</td><td>0.0000000</td><td>0.000000</td><td>0.0000000</td><td>0.0000000</td><td>...</td><td>0</td><td>0</td><td>0</td><td>0</td><td>0</td><td>0</td><td>0</td><td>0</td><td>0</td><td>0</td></tr>\n",
       "\t<tr><th scope=row>44</th><td>0.21534673</td><td>0.22183725</td><td>0</td><td>0</td><td>0</td><td>0</td><td>0.0000000</td><td>0.000000</td><td>0.0000000</td><td>0.0000000</td><td>...</td><td>0</td><td>0</td><td>0</td><td>0</td><td>0</td><td>0</td><td>0</td><td>0</td><td>0</td><td>0</td></tr>\n",
       "\t<tr><th scope=row>45</th><td>0.14945973</td><td>0.15396443</td><td>0</td><td>0</td><td>0</td><td>0</td><td>0.0000000</td><td>0.000000</td><td>0.0000000</td><td>0.0000000</td><td>...</td><td>0</td><td>0</td><td>0</td><td>0</td><td>0</td><td>0</td><td>0</td><td>0</td><td>0</td><td>0</td></tr>\n",
       "\t<tr><th scope=row>46</th><td>0.16615438</td><td>0.00000000</td><td>0</td><td>0</td><td>0</td><td>0</td><td>0.0000000</td><td>0.000000</td><td>0.0000000</td><td>0.2658069</td><td>...</td><td>0</td><td>0</td><td>0</td><td>0</td><td>0</td><td>0</td><td>0</td><td>0</td><td>0</td><td>0</td></tr>\n",
       "\t<tr><th scope=row>47</th><td>0.11222869</td><td>0.11561125</td><td>0</td><td>0</td><td>0</td><td>0</td><td>0.0000000</td><td>0.000000</td><td>0.0000000</td><td>0.0000000</td><td>...</td><td>0</td><td>0</td><td>0</td><td>0</td><td>0</td><td>0</td><td>0</td><td>0</td><td>0</td><td>0</td></tr>\n",
       "\t<tr><th scope=row>...</th><td>...</td><td>...</td><td>...</td><td>...</td><td>...</td><td>...</td><td>...</td><td>...</td><td>...</td><td>...</td><td></td><td>...</td><td>...</td><td>...</td><td>...</td><td>...</td><td>...</td><td>...</td><td>...</td><td>...</td><td>...</td></tr>\n",
       "\t<tr><th scope=row>2453</th><td>0</td><td>0</td><td>0</td><td>0</td><td>0</td><td>0.0000000</td><td>0.0000000</td><td>0.0000000</td><td>0.000000</td><td>0.0000000</td><td>...</td><td>0</td><td>0</td><td>0</td><td>0</td><td>0</td><td>0</td><td>0</td><td>0</td><td>0</td><td>0</td></tr>\n",
       "\t<tr><th scope=row>2454</th><td>0</td><td>0</td><td>0</td><td>0</td><td>0</td><td>0.1527810</td><td>0.0000000</td><td>0.0000000</td><td>0.000000</td><td>0.0000000</td><td>...</td><td>0</td><td>0</td><td>0</td><td>0</td><td>0</td><td>0</td><td>0</td><td>0</td><td>0</td><td>0</td></tr>\n",
       "\t<tr><th scope=row>2455</th><td>0</td><td>0</td><td>0</td><td>0</td><td>0</td><td>0.1329924</td><td>0.0000000</td><td>0.0000000</td><td>0.000000</td><td>0.0000000</td><td>...</td><td>0</td><td>0</td><td>0</td><td>0</td><td>0</td><td>0</td><td>0</td><td>0</td><td>0</td><td>0</td></tr>\n",
       "\t<tr><th scope=row>2456</th><td>0</td><td>0</td><td>0</td><td>0</td><td>0</td><td>0.2224093</td><td>0.0000000</td><td>0.0000000</td><td>0.000000</td><td>0.0000000</td><td>...</td><td>0</td><td>0</td><td>0</td><td>0</td><td>0</td><td>0</td><td>0</td><td>0</td><td>0</td><td>0</td></tr>\n",
       "\t<tr><th scope=row>2457</th><td>0</td><td>0</td><td>0</td><td>0</td><td>0</td><td>0.0000000</td><td>0.0000000</td><td>0.0000000</td><td>0.000000</td><td>0.0000000</td><td>...</td><td>0</td><td>0</td><td>0</td><td>0</td><td>0</td><td>0</td><td>0</td><td>0</td><td>0</td><td>0</td></tr>\n",
       "\t<tr><th scope=row>2459</th><td>0</td><td>0</td><td>0</td><td>0</td><td>0</td><td>0.0000000</td><td>0.0000000</td><td>0.1634455</td><td>0.000000</td><td>0.0000000</td><td>...</td><td>0</td><td>0</td><td>0</td><td>0</td><td>0</td><td>0</td><td>0</td><td>0</td><td>0</td><td>0</td></tr>\n",
       "\t<tr><th scope=row>2460</th><td>0</td><td>0</td><td>0</td><td>0</td><td>0</td><td>0.1999073</td><td>0.0000000</td><td>0.0000000</td><td>0.000000</td><td>0.0000000</td><td>...</td><td>0</td><td>0</td><td>0</td><td>0</td><td>0</td><td>0</td><td>0</td><td>0</td><td>0</td><td>0</td></tr>\n",
       "\t<tr><th scope=row>2461</th><td>0</td><td>0</td><td>0</td><td>0</td><td>0</td><td>0.1659380</td><td>0.0000000</td><td>0.0000000</td><td>0.000000</td><td>0.0000000</td><td>...</td><td>0</td><td>0</td><td>0</td><td>0</td><td>0</td><td>0</td><td>0</td><td>0</td><td>0</td><td>0</td></tr>\n",
       "\t<tr><th scope=row>2462</th><td>0</td><td>0</td><td>0</td><td>0</td><td>0</td><td>0.0000000</td><td>0.0000000</td><td>0.0000000</td><td>0.000000</td><td>0.0000000</td><td>...</td><td>0</td><td>0</td><td>0</td><td>0</td><td>0</td><td>0</td><td>0</td><td>0</td><td>0</td><td>0</td></tr>\n",
       "\t<tr><th scope=row>2463</th><td>0</td><td>0</td><td>0</td><td>0</td><td>0</td><td>0.1157662</td><td>0.0000000</td><td>0.0000000</td><td>0.000000</td><td>0.1575585</td><td>...</td><td>0</td><td>0</td><td>0</td><td>0</td><td>0</td><td>0</td><td>0</td><td>0</td><td>0</td><td>0</td></tr>\n",
       "\t<tr><th scope=row>2464</th><td>0</td><td>0</td><td>0</td><td>0</td><td>0</td><td>0.0000000</td><td>0.0000000</td><td>0.0000000</td><td>0.258856</td><td>0.0000000</td><td>...</td><td>0</td><td>0</td><td>0</td><td>0</td><td>0</td><td>0</td><td>0</td><td>0</td><td>0</td><td>0</td></tr>\n",
       "\t<tr><th scope=row>2465</th><td>0</td><td>0</td><td>0</td><td>0</td><td>0</td><td>0.0000000</td><td>0.0000000</td><td>0.0000000</td><td>0.000000</td><td>0.0000000</td><td>...</td><td>0</td><td>0</td><td>0</td><td>0</td><td>0</td><td>0</td><td>0</td><td>0</td><td>0</td><td>0</td></tr>\n",
       "\t<tr><th scope=row>2466</th><td>0</td><td>0</td><td>0</td><td>0</td><td>0</td><td>0.1547775</td><td>0.1915019</td><td>0.0000000</td><td>0.000000</td><td>0.0000000</td><td>...</td><td>0</td><td>0</td><td>0</td><td>0</td><td>0</td><td>0</td><td>0</td><td>0</td><td>0</td><td>0</td></tr>\n",
       "\t<tr><th scope=row>2468</th><td>0</td><td>0</td><td>0</td><td>0</td><td>0</td><td>0.0000000</td><td>0.0000000</td><td>0.0000000</td><td>0.000000</td><td>0.0000000</td><td>...</td><td>0</td><td>0</td><td>0</td><td>0</td><td>0</td><td>0</td><td>0</td><td>0</td><td>0</td><td>0</td></tr>\n",
       "\t<tr><th scope=row>2470</th><td>0</td><td>0</td><td>0</td><td>0</td><td>0</td><td>0.2557379</td><td>0.0000000</td><td>0.0000000</td><td>0.000000</td><td>0.0000000</td><td>...</td><td>0</td><td>0</td><td>0</td><td>0</td><td>0</td><td>0</td><td>0</td><td>0</td><td>0</td><td>0</td></tr>\n",
       "\t<tr><th scope=row>2474</th><td>0</td><td>0</td><td>0</td><td>0</td><td>0</td><td>0.1577014</td><td>0.0000000</td><td>0.0000000</td><td>0.000000</td><td>0.0000000</td><td>...</td><td>0</td><td>0</td><td>0</td><td>0</td><td>0</td><td>0</td><td>0</td><td>0</td><td>0</td><td>0</td></tr>\n",
       "\t<tr><th scope=row>2476</th><td>0</td><td>0</td><td>0</td><td>0</td><td>0</td><td>0.0000000</td><td>0.0000000</td><td>0.0000000</td><td>0.000000</td><td>0.0000000</td><td>...</td><td>0</td><td>0</td><td>0</td><td>0</td><td>0</td><td>0</td><td>0</td><td>0</td><td>0</td><td>0</td></tr>\n",
       "\t<tr><th scope=row>2477</th><td>0</td><td>0</td><td>0</td><td>0</td><td>0</td><td>0.1920081</td><td>0.0000000</td><td>0.0000000</td><td>0.000000</td><td>0.2613243</td><td>...</td><td>0</td><td>0</td><td>0</td><td>0</td><td>0</td><td>0</td><td>0</td><td>0</td><td>0</td><td>0</td></tr>\n",
       "\t<tr><th scope=row>2482</th><td>0</td><td>0</td><td>0</td><td>0</td><td>0</td><td>0.0000000</td><td>0.0000000</td><td>0.0000000</td><td>0.000000</td><td>0.0000000</td><td>...</td><td>0</td><td>0</td><td>0</td><td>0</td><td>0</td><td>0</td><td>0</td><td>0</td><td>0</td><td>0</td></tr>\n",
       "\t<tr><th scope=row>2483</th><td>0</td><td>0</td><td>0</td><td>0</td><td>0</td><td>0.2001699</td><td>0.0000000</td><td>0.0000000</td><td>0.000000</td><td>0.0000000</td><td>...</td><td>0</td><td>0</td><td>0</td><td>0</td><td>0</td><td>0</td><td>0</td><td>0</td><td>0</td><td>0</td></tr>\n",
       "\t<tr><th scope=row>2484</th><td>0</td><td>0</td><td>0</td><td>0</td><td>0</td><td>0.0000000</td><td>0.0000000</td><td>0.0000000</td><td>0.000000</td><td>0.0000000</td><td>...</td><td>0</td><td>0</td><td>0</td><td>0</td><td>0</td><td>0</td><td>0</td><td>0</td><td>0</td><td>0</td></tr>\n",
       "\t<tr><th scope=row>2488</th><td>0</td><td>0</td><td>0</td><td>0</td><td>0</td><td>0.0000000</td><td>0.0000000</td><td>0.0000000</td><td>0.000000</td><td>0.0000000</td><td>...</td><td>0</td><td>0</td><td>0</td><td>0</td><td>0</td><td>0</td><td>0</td><td>0</td><td>0</td><td>0</td></tr>\n",
       "\t<tr><th scope=row>2489</th><td>0</td><td>0</td><td>0</td><td>0</td><td>0</td><td>0.1187218</td><td>0.0000000</td><td>0.0000000</td><td>0.000000</td><td>0.0000000</td><td>...</td><td>0</td><td>0</td><td>0</td><td>0</td><td>0</td><td>0</td><td>0</td><td>0</td><td>0</td><td>0</td></tr>\n",
       "\t<tr><th scope=row>2492</th><td>0</td><td>0</td><td>0</td><td>0</td><td>0</td><td>0.2395080</td><td>0.0000000</td><td>0.0000000</td><td>0.000000</td><td>0.0000000</td><td>...</td><td>0</td><td>0</td><td>0</td><td>0</td><td>0</td><td>0</td><td>0</td><td>0</td><td>0</td><td>0</td></tr>\n",
       "\t<tr><th scope=row>2493</th><td>0</td><td>0</td><td>0</td><td>0</td><td>0</td><td>0.0000000</td><td>0.0000000</td><td>0.0000000</td><td>0.000000</td><td>0.0000000</td><td>...</td><td>0</td><td>0</td><td>0</td><td>0</td><td>0</td><td>0</td><td>0</td><td>0</td><td>0</td><td>0</td></tr>\n",
       "\t<tr><th scope=row>2495</th><td>0</td><td>0</td><td>0</td><td>0</td><td>0</td><td>0.1468327</td><td>0.0000000</td><td>0.0000000</td><td>0.000000</td><td>0.0000000</td><td>...</td><td>0</td><td>0</td><td>0</td><td>0</td><td>0</td><td>0</td><td>0</td><td>0</td><td>0</td><td>0</td></tr>\n",
       "\t<tr><th scope=row>2496</th><td>0</td><td>0</td><td>0</td><td>0</td><td>0</td><td>0.0000000</td><td>0.0000000</td><td>0.0000000</td><td>0.000000</td><td>0.0000000</td><td>...</td><td>0</td><td>0</td><td>0</td><td>0</td><td>0</td><td>0</td><td>0</td><td>0</td><td>0</td><td>0</td></tr>\n",
       "\t<tr><th scope=row>2497</th><td>0</td><td>0</td><td>0</td><td>0</td><td>0</td><td>0.2942741</td><td>0.0000000</td><td>0.0000000</td><td>0.000000</td><td>0.0000000</td><td>...</td><td>0</td><td>0</td><td>0</td><td>0</td><td>0</td><td>0</td><td>0</td><td>0</td><td>0</td><td>0</td></tr>\n",
       "\t<tr><th scope=row>2498</th><td>0</td><td>0</td><td>0</td><td>0</td><td>0</td><td>0.0000000</td><td>0.0000000</td><td>0.0000000</td><td>0.000000</td><td>0.0000000</td><td>...</td><td>0</td><td>0</td><td>0</td><td>0</td><td>0</td><td>0</td><td>0</td><td>0</td><td>0</td><td>0</td></tr>\n",
       "\t<tr><th scope=row>2499</th><td>0</td><td>0</td><td>0</td><td>0</td><td>0</td><td>0.0000000</td><td>0.0000000</td><td>0.0000000</td><td>0.000000</td><td>0.0000000</td><td>...</td><td>0</td><td>0</td><td>0</td><td>0</td><td>0</td><td>0</td><td>0</td><td>0</td><td>0</td><td>0</td></tr>\n",
       "</tbody>\n",
       "</table>\n"
      ],
      "text/latex": [
       "A data.frame: 1420 × 450\n",
       "\\begin{tabular}{r|lllllllllllllllllllll}\n",
       "  & rock & roll & rap & regga & pop & jazz & music & song & like & nowplay & ... & loyal & flame & partyalldj & variou & tast & heart & care & X50s & royalti & twitter\\\\\n",
       "  & <dbl> & <dbl> & <dbl> & <dbl> & <dbl> & <dbl> & <dbl> & <dbl> & <dbl> & <dbl> & ... & <dbl> & <dbl> & <dbl> & <dbl> & <dbl> & <dbl> & <dbl> & <dbl> & <dbl> & <dbl>\\\\\n",
       "\\hline\n",
       "\t0 & 0.09855091 & 0.10152122 & 0 & 0 & 0 & 0 & 0.1433244 & 0.000000 & 0.0000000 & 0.0000000 & ... & 0 & 0 & 0 & 0 & 0 & 0 & 0 & 0 & 0 & 0\\\\\n",
       "\t1 & 0.14079988 & 0.14504357 & 0 & 0 & 0 & 0 & 0.2047679 & 0.000000 & 0.0000000 & 0.2252458 & ... & 0 & 0 & 0 & 0 & 0 & 0 & 0 & 0 & 0 & 0\\\\\n",
       "\t2 & 0.16306292 & 0.16797762 & 0 & 0 & 0 & 0 & 0.0000000 & 0.000000 & 0.0000000 & 0.0000000 & ... & 0 & 0 & 0 & 0 & 0 & 0 & 0 & 0 & 0 & 0\\\\\n",
       "\t3 & 0.00000000 & 0.00000000 & 0 & 0 & 0 & 0 & 0.0000000 & 0.000000 & 0.0000000 & 0.0000000 & ... & 0 & 0 & 0 & 0 & 0 & 0 & 0 & 0 & 0 & 0\\\\\n",
       "\t10 & 0.14322178 & 0.14753847 & 0 & 0 & 0 & 0 & 0.0000000 & 0.000000 & 0.0000000 & 0.0000000 & ... & 0 & 0 & 0 & 0 & 0 & 0 & 0 & 0 & 0 & 0\\\\\n",
       "\t11 & 0.20144047 & 0.20751186 & 0 & 0 & 0 & 0 & 0.0000000 & 0.000000 & 0.0000000 & 0.0000000 & ... & 0 & 0 & 0 & 0 & 0 & 0 & 0 & 0 & 0 & 0\\\\\n",
       "\t13 & 0.22278624 & 0.22950099 & 0 & 0 & 0 & 0 & 0.0000000 & 0.000000 & 0.0000000 & 0.0000000 & ... & 0 & 0 & 0 & 0 & 0 & 0 & 0 & 0 & 0 & 0\\\\\n",
       "\t14 & 0.11037018 & 0.11369672 & 0 & 0 & 0 & 0 & 0.0000000 & 0.000000 & 0.0000000 & 0.0000000 & ... & 0 & 0 & 0 & 0 & 0 & 0 & 0 & 0 & 0 & 0\\\\\n",
       "\t15 & 0.13166914 & 0.13563763 & 0 & 0 & 0 & 0 & 0.0000000 & 0.000000 & 0.0000000 & 0.0000000 & ... & 0 & 0 & 0 & 0 & 0 & 0 & 0 & 0 & 0 & 0\\\\\n",
       "\t16 & 0.23123564 & 0.23820505 & 0 & 0 & 0 & 0 & 0.0000000 & 0.000000 & 0.0000000 & 0.0000000 & ... & 0 & 0 & 0 & 0 & 0 & 0 & 0 & 0 & 0 & 0\\\\\n",
       "\t19 & 0.21044920 & 0.21679211 & 0 & 0 & 0 & 0 & 0.0000000 & 0.000000 & 0.0000000 & 0.0000000 & ... & 0 & 0 & 0 & 0 & 0 & 0 & 0 & 0 & 0 & 0\\\\\n",
       "\t21 & 0.09876080 & 0.10173744 & 0 & 0 & 0 & 0 & 0.0000000 & 0.000000 & 0.0000000 & 0.0000000 & ... & 0 & 0 & 0 & 0 & 0 & 0 & 0 & 0 & 0 & 0\\\\\n",
       "\t22 & 0.28698517 & 0.29563486 & 0 & 0 & 0 & 0 & 0.0000000 & 0.000000 & 0.0000000 & 0.0000000 & ... & 0 & 0 & 0 & 0 & 0 & 0 & 0 & 0 & 0 & 0\\\\\n",
       "\t25 & 0.13340768 & 0.13742857 & 0 & 0 & 0 & 0 & 0.0000000 & 0.000000 & 0.0000000 & 0.0000000 & ... & 0 & 0 & 0 & 0 & 0 & 0 & 0 & 0 & 0 & 0\\\\\n",
       "\t27 & 0.00000000 & 0.00000000 & 0 & 0 & 0 & 0 & 0.0000000 & 0.000000 & 0.0000000 & 0.0000000 & ... & 0 & 0 & 0 & 0 & 0 & 0 & 0 & 0 & 0 & 0\\\\\n",
       "\t28 & 0.13529695 & 0.13937478 & 0 & 0 & 0 & 0 & 0.0000000 & 0.000000 & 0.0000000 & 0.0000000 & ... & 0 & 0 & 0 & 0 & 0 & 0 & 0 & 0 & 0 & 0\\\\\n",
       "\t30 & 0.00000000 & 0.00000000 & 0 & 0 & 0 & 0 & 0.0000000 & 0.000000 & 0.0000000 & 0.0000000 & ... & 0 & 0 & 0 & 0 & 0 & 0 & 0 & 0 & 0 & 0\\\\\n",
       "\t31 & 0.09144951 & 0.09420579 & 0 & 0 & 0 & 0 & 0.0000000 & 0.000000 & 0.0000000 & 0.0000000 & ... & 0 & 0 & 0 & 0 & 0 & 0 & 0 & 0 & 0 & 0\\\\\n",
       "\t32 & 0.15633708 & 0.16104906 & 0 & 0 & 0 & 0 & 0.0000000 & 0.000000 & 0.0000000 & 0.0000000 & ... & 0 & 0 & 0 & 0 & 0 & 0 & 0 & 0 & 0 & 0\\\\\n",
       "\t33 & 0.10786029 & 0.11111118 & 0 & 0 & 0 & 0 & 0.0000000 & 0.000000 & 0.0000000 & 0.0000000 & ... & 0 & 0 & 0 & 0 & 0 & 0 & 0 & 0 & 0 & 0\\\\\n",
       "\t34 & 0.09144951 & 0.09420579 & 0 & 0 & 0 & 0 & 0.0000000 & 0.000000 & 0.0000000 & 0.0000000 & ... & 0 & 0 & 0 & 0 & 0 & 0 & 0 & 0 & 0 & 0\\\\\n",
       "\t36 & 0.25483170 & 0.52502458 & 0 & 0 & 0 & 0 & 0.0000000 & 0.000000 & 0.3794853 & 0.0000000 & ... & 0 & 0 & 0 & 0 & 0 & 0 & 0 & 0 & 0 & 0\\\\\n",
       "\t38 & 0.12800254 & 0.13186052 & 0 & 0 & 0 & 0 & 0.0000000 & 0.200943 & 0.1906163 & 0.0000000 & ... & 0 & 0 & 0 & 0 & 0 & 0 & 0 & 0 & 0 & 0\\\\\n",
       "\t39 & 0.36686673 & 0.37792404 & 0 & 0 & 0 & 0 & 0.0000000 & 0.000000 & 0.0000000 & 0.0000000 & ... & 0 & 0 & 0 & 0 & 0 & 0 & 0 & 0 & 0 & 0\\\\\n",
       "\t41 & 0.14706449 & 0.15149699 & 0 & 0 & 0 & 0 & 0.0000000 & 0.000000 & 0.0000000 & 0.0000000 & ... & 0 & 0 & 0 & 0 & 0 & 0 & 0 & 0 & 0 & 0\\\\\n",
       "\t43 & 0.17990069 & 0.18532288 & 0 & 0 & 0 & 0 & 0.0000000 & 0.000000 & 0.0000000 & 0.0000000 & ... & 0 & 0 & 0 & 0 & 0 & 0 & 0 & 0 & 0 & 0\\\\\n",
       "\t44 & 0.21534673 & 0.22183725 & 0 & 0 & 0 & 0 & 0.0000000 & 0.000000 & 0.0000000 & 0.0000000 & ... & 0 & 0 & 0 & 0 & 0 & 0 & 0 & 0 & 0 & 0\\\\\n",
       "\t45 & 0.14945973 & 0.15396443 & 0 & 0 & 0 & 0 & 0.0000000 & 0.000000 & 0.0000000 & 0.0000000 & ... & 0 & 0 & 0 & 0 & 0 & 0 & 0 & 0 & 0 & 0\\\\\n",
       "\t46 & 0.16615438 & 0.00000000 & 0 & 0 & 0 & 0 & 0.0000000 & 0.000000 & 0.0000000 & 0.2658069 & ... & 0 & 0 & 0 & 0 & 0 & 0 & 0 & 0 & 0 & 0\\\\\n",
       "\t47 & 0.11222869 & 0.11561125 & 0 & 0 & 0 & 0 & 0.0000000 & 0.000000 & 0.0000000 & 0.0000000 & ... & 0 & 0 & 0 & 0 & 0 & 0 & 0 & 0 & 0 & 0\\\\\n",
       "\t... & ... & ... & ... & ... & ... & ... & ... & ... & ... & ... &  & ... & ... & ... & ... & ... & ... & ... & ... & ... & ...\\\\\n",
       "\t2453 & 0 & 0 & 0 & 0 & 0 & 0.0000000 & 0.0000000 & 0.0000000 & 0.000000 & 0.0000000 & ... & 0 & 0 & 0 & 0 & 0 & 0 & 0 & 0 & 0 & 0\\\\\n",
       "\t2454 & 0 & 0 & 0 & 0 & 0 & 0.1527810 & 0.0000000 & 0.0000000 & 0.000000 & 0.0000000 & ... & 0 & 0 & 0 & 0 & 0 & 0 & 0 & 0 & 0 & 0\\\\\n",
       "\t2455 & 0 & 0 & 0 & 0 & 0 & 0.1329924 & 0.0000000 & 0.0000000 & 0.000000 & 0.0000000 & ... & 0 & 0 & 0 & 0 & 0 & 0 & 0 & 0 & 0 & 0\\\\\n",
       "\t2456 & 0 & 0 & 0 & 0 & 0 & 0.2224093 & 0.0000000 & 0.0000000 & 0.000000 & 0.0000000 & ... & 0 & 0 & 0 & 0 & 0 & 0 & 0 & 0 & 0 & 0\\\\\n",
       "\t2457 & 0 & 0 & 0 & 0 & 0 & 0.0000000 & 0.0000000 & 0.0000000 & 0.000000 & 0.0000000 & ... & 0 & 0 & 0 & 0 & 0 & 0 & 0 & 0 & 0 & 0\\\\\n",
       "\t2459 & 0 & 0 & 0 & 0 & 0 & 0.0000000 & 0.0000000 & 0.1634455 & 0.000000 & 0.0000000 & ... & 0 & 0 & 0 & 0 & 0 & 0 & 0 & 0 & 0 & 0\\\\\n",
       "\t2460 & 0 & 0 & 0 & 0 & 0 & 0.1999073 & 0.0000000 & 0.0000000 & 0.000000 & 0.0000000 & ... & 0 & 0 & 0 & 0 & 0 & 0 & 0 & 0 & 0 & 0\\\\\n",
       "\t2461 & 0 & 0 & 0 & 0 & 0 & 0.1659380 & 0.0000000 & 0.0000000 & 0.000000 & 0.0000000 & ... & 0 & 0 & 0 & 0 & 0 & 0 & 0 & 0 & 0 & 0\\\\\n",
       "\t2462 & 0 & 0 & 0 & 0 & 0 & 0.0000000 & 0.0000000 & 0.0000000 & 0.000000 & 0.0000000 & ... & 0 & 0 & 0 & 0 & 0 & 0 & 0 & 0 & 0 & 0\\\\\n",
       "\t2463 & 0 & 0 & 0 & 0 & 0 & 0.1157662 & 0.0000000 & 0.0000000 & 0.000000 & 0.1575585 & ... & 0 & 0 & 0 & 0 & 0 & 0 & 0 & 0 & 0 & 0\\\\\n",
       "\t2464 & 0 & 0 & 0 & 0 & 0 & 0.0000000 & 0.0000000 & 0.0000000 & 0.258856 & 0.0000000 & ... & 0 & 0 & 0 & 0 & 0 & 0 & 0 & 0 & 0 & 0\\\\\n",
       "\t2465 & 0 & 0 & 0 & 0 & 0 & 0.0000000 & 0.0000000 & 0.0000000 & 0.000000 & 0.0000000 & ... & 0 & 0 & 0 & 0 & 0 & 0 & 0 & 0 & 0 & 0\\\\\n",
       "\t2466 & 0 & 0 & 0 & 0 & 0 & 0.1547775 & 0.1915019 & 0.0000000 & 0.000000 & 0.0000000 & ... & 0 & 0 & 0 & 0 & 0 & 0 & 0 & 0 & 0 & 0\\\\\n",
       "\t2468 & 0 & 0 & 0 & 0 & 0 & 0.0000000 & 0.0000000 & 0.0000000 & 0.000000 & 0.0000000 & ... & 0 & 0 & 0 & 0 & 0 & 0 & 0 & 0 & 0 & 0\\\\\n",
       "\t2470 & 0 & 0 & 0 & 0 & 0 & 0.2557379 & 0.0000000 & 0.0000000 & 0.000000 & 0.0000000 & ... & 0 & 0 & 0 & 0 & 0 & 0 & 0 & 0 & 0 & 0\\\\\n",
       "\t2474 & 0 & 0 & 0 & 0 & 0 & 0.1577014 & 0.0000000 & 0.0000000 & 0.000000 & 0.0000000 & ... & 0 & 0 & 0 & 0 & 0 & 0 & 0 & 0 & 0 & 0\\\\\n",
       "\t2476 & 0 & 0 & 0 & 0 & 0 & 0.0000000 & 0.0000000 & 0.0000000 & 0.000000 & 0.0000000 & ... & 0 & 0 & 0 & 0 & 0 & 0 & 0 & 0 & 0 & 0\\\\\n",
       "\t2477 & 0 & 0 & 0 & 0 & 0 & 0.1920081 & 0.0000000 & 0.0000000 & 0.000000 & 0.2613243 & ... & 0 & 0 & 0 & 0 & 0 & 0 & 0 & 0 & 0 & 0\\\\\n",
       "\t2482 & 0 & 0 & 0 & 0 & 0 & 0.0000000 & 0.0000000 & 0.0000000 & 0.000000 & 0.0000000 & ... & 0 & 0 & 0 & 0 & 0 & 0 & 0 & 0 & 0 & 0\\\\\n",
       "\t2483 & 0 & 0 & 0 & 0 & 0 & 0.2001699 & 0.0000000 & 0.0000000 & 0.000000 & 0.0000000 & ... & 0 & 0 & 0 & 0 & 0 & 0 & 0 & 0 & 0 & 0\\\\\n",
       "\t2484 & 0 & 0 & 0 & 0 & 0 & 0.0000000 & 0.0000000 & 0.0000000 & 0.000000 & 0.0000000 & ... & 0 & 0 & 0 & 0 & 0 & 0 & 0 & 0 & 0 & 0\\\\\n",
       "\t2488 & 0 & 0 & 0 & 0 & 0 & 0.0000000 & 0.0000000 & 0.0000000 & 0.000000 & 0.0000000 & ... & 0 & 0 & 0 & 0 & 0 & 0 & 0 & 0 & 0 & 0\\\\\n",
       "\t2489 & 0 & 0 & 0 & 0 & 0 & 0.1187218 & 0.0000000 & 0.0000000 & 0.000000 & 0.0000000 & ... & 0 & 0 & 0 & 0 & 0 & 0 & 0 & 0 & 0 & 0\\\\\n",
       "\t2492 & 0 & 0 & 0 & 0 & 0 & 0.2395080 & 0.0000000 & 0.0000000 & 0.000000 & 0.0000000 & ... & 0 & 0 & 0 & 0 & 0 & 0 & 0 & 0 & 0 & 0\\\\\n",
       "\t2493 & 0 & 0 & 0 & 0 & 0 & 0.0000000 & 0.0000000 & 0.0000000 & 0.000000 & 0.0000000 & ... & 0 & 0 & 0 & 0 & 0 & 0 & 0 & 0 & 0 & 0\\\\\n",
       "\t2495 & 0 & 0 & 0 & 0 & 0 & 0.1468327 & 0.0000000 & 0.0000000 & 0.000000 & 0.0000000 & ... & 0 & 0 & 0 & 0 & 0 & 0 & 0 & 0 & 0 & 0\\\\\n",
       "\t2496 & 0 & 0 & 0 & 0 & 0 & 0.0000000 & 0.0000000 & 0.0000000 & 0.000000 & 0.0000000 & ... & 0 & 0 & 0 & 0 & 0 & 0 & 0 & 0 & 0 & 0\\\\\n",
       "\t2497 & 0 & 0 & 0 & 0 & 0 & 0.2942741 & 0.0000000 & 0.0000000 & 0.000000 & 0.0000000 & ... & 0 & 0 & 0 & 0 & 0 & 0 & 0 & 0 & 0 & 0\\\\\n",
       "\t2498 & 0 & 0 & 0 & 0 & 0 & 0.0000000 & 0.0000000 & 0.0000000 & 0.000000 & 0.0000000 & ... & 0 & 0 & 0 & 0 & 0 & 0 & 0 & 0 & 0 & 0\\\\\n",
       "\t2499 & 0 & 0 & 0 & 0 & 0 & 0.0000000 & 0.0000000 & 0.0000000 & 0.000000 & 0.0000000 & ... & 0 & 0 & 0 & 0 & 0 & 0 & 0 & 0 & 0 & 0\\\\\n",
       "\\end{tabular}\n"
      ],
      "text/markdown": [
       "\n",
       "A data.frame: 1420 × 450\n",
       "\n",
       "| <!--/--> | rock &lt;dbl&gt; | roll &lt;dbl&gt; | rap &lt;dbl&gt; | regga &lt;dbl&gt; | pop &lt;dbl&gt; | jazz &lt;dbl&gt; | music &lt;dbl&gt; | song &lt;dbl&gt; | like &lt;dbl&gt; | nowplay &lt;dbl&gt; | ... ... | loyal &lt;dbl&gt; | flame &lt;dbl&gt; | partyalldj &lt;dbl&gt; | variou &lt;dbl&gt; | tast &lt;dbl&gt; | heart &lt;dbl&gt; | care &lt;dbl&gt; | X50s &lt;dbl&gt; | royalti &lt;dbl&gt; | twitter &lt;dbl&gt; |\n",
       "|---|---|---|---|---|---|---|---|---|---|---|---|---|---|---|---|---|---|---|---|---|---|\n",
       "| 0 | 0.09855091 | 0.10152122 | 0 | 0 | 0 | 0 | 0.1433244 | 0.000000 | 0.0000000 | 0.0000000 | ... | 0 | 0 | 0 | 0 | 0 | 0 | 0 | 0 | 0 | 0 |\n",
       "| 1 | 0.14079988 | 0.14504357 | 0 | 0 | 0 | 0 | 0.2047679 | 0.000000 | 0.0000000 | 0.2252458 | ... | 0 | 0 | 0 | 0 | 0 | 0 | 0 | 0 | 0 | 0 |\n",
       "| 2 | 0.16306292 | 0.16797762 | 0 | 0 | 0 | 0 | 0.0000000 | 0.000000 | 0.0000000 | 0.0000000 | ... | 0 | 0 | 0 | 0 | 0 | 0 | 0 | 0 | 0 | 0 |\n",
       "| 3 | 0.00000000 | 0.00000000 | 0 | 0 | 0 | 0 | 0.0000000 | 0.000000 | 0.0000000 | 0.0000000 | ... | 0 | 0 | 0 | 0 | 0 | 0 | 0 | 0 | 0 | 0 |\n",
       "| 10 | 0.14322178 | 0.14753847 | 0 | 0 | 0 | 0 | 0.0000000 | 0.000000 | 0.0000000 | 0.0000000 | ... | 0 | 0 | 0 | 0 | 0 | 0 | 0 | 0 | 0 | 0 |\n",
       "| 11 | 0.20144047 | 0.20751186 | 0 | 0 | 0 | 0 | 0.0000000 | 0.000000 | 0.0000000 | 0.0000000 | ... | 0 | 0 | 0 | 0 | 0 | 0 | 0 | 0 | 0 | 0 |\n",
       "| 13 | 0.22278624 | 0.22950099 | 0 | 0 | 0 | 0 | 0.0000000 | 0.000000 | 0.0000000 | 0.0000000 | ... | 0 | 0 | 0 | 0 | 0 | 0 | 0 | 0 | 0 | 0 |\n",
       "| 14 | 0.11037018 | 0.11369672 | 0 | 0 | 0 | 0 | 0.0000000 | 0.000000 | 0.0000000 | 0.0000000 | ... | 0 | 0 | 0 | 0 | 0 | 0 | 0 | 0 | 0 | 0 |\n",
       "| 15 | 0.13166914 | 0.13563763 | 0 | 0 | 0 | 0 | 0.0000000 | 0.000000 | 0.0000000 | 0.0000000 | ... | 0 | 0 | 0 | 0 | 0 | 0 | 0 | 0 | 0 | 0 |\n",
       "| 16 | 0.23123564 | 0.23820505 | 0 | 0 | 0 | 0 | 0.0000000 | 0.000000 | 0.0000000 | 0.0000000 | ... | 0 | 0 | 0 | 0 | 0 | 0 | 0 | 0 | 0 | 0 |\n",
       "| 19 | 0.21044920 | 0.21679211 | 0 | 0 | 0 | 0 | 0.0000000 | 0.000000 | 0.0000000 | 0.0000000 | ... | 0 | 0 | 0 | 0 | 0 | 0 | 0 | 0 | 0 | 0 |\n",
       "| 21 | 0.09876080 | 0.10173744 | 0 | 0 | 0 | 0 | 0.0000000 | 0.000000 | 0.0000000 | 0.0000000 | ... | 0 | 0 | 0 | 0 | 0 | 0 | 0 | 0 | 0 | 0 |\n",
       "| 22 | 0.28698517 | 0.29563486 | 0 | 0 | 0 | 0 | 0.0000000 | 0.000000 | 0.0000000 | 0.0000000 | ... | 0 | 0 | 0 | 0 | 0 | 0 | 0 | 0 | 0 | 0 |\n",
       "| 25 | 0.13340768 | 0.13742857 | 0 | 0 | 0 | 0 | 0.0000000 | 0.000000 | 0.0000000 | 0.0000000 | ... | 0 | 0 | 0 | 0 | 0 | 0 | 0 | 0 | 0 | 0 |\n",
       "| 27 | 0.00000000 | 0.00000000 | 0 | 0 | 0 | 0 | 0.0000000 | 0.000000 | 0.0000000 | 0.0000000 | ... | 0 | 0 | 0 | 0 | 0 | 0 | 0 | 0 | 0 | 0 |\n",
       "| 28 | 0.13529695 | 0.13937478 | 0 | 0 | 0 | 0 | 0.0000000 | 0.000000 | 0.0000000 | 0.0000000 | ... | 0 | 0 | 0 | 0 | 0 | 0 | 0 | 0 | 0 | 0 |\n",
       "| 30 | 0.00000000 | 0.00000000 | 0 | 0 | 0 | 0 | 0.0000000 | 0.000000 | 0.0000000 | 0.0000000 | ... | 0 | 0 | 0 | 0 | 0 | 0 | 0 | 0 | 0 | 0 |\n",
       "| 31 | 0.09144951 | 0.09420579 | 0 | 0 | 0 | 0 | 0.0000000 | 0.000000 | 0.0000000 | 0.0000000 | ... | 0 | 0 | 0 | 0 | 0 | 0 | 0 | 0 | 0 | 0 |\n",
       "| 32 | 0.15633708 | 0.16104906 | 0 | 0 | 0 | 0 | 0.0000000 | 0.000000 | 0.0000000 | 0.0000000 | ... | 0 | 0 | 0 | 0 | 0 | 0 | 0 | 0 | 0 | 0 |\n",
       "| 33 | 0.10786029 | 0.11111118 | 0 | 0 | 0 | 0 | 0.0000000 | 0.000000 | 0.0000000 | 0.0000000 | ... | 0 | 0 | 0 | 0 | 0 | 0 | 0 | 0 | 0 | 0 |\n",
       "| 34 | 0.09144951 | 0.09420579 | 0 | 0 | 0 | 0 | 0.0000000 | 0.000000 | 0.0000000 | 0.0000000 | ... | 0 | 0 | 0 | 0 | 0 | 0 | 0 | 0 | 0 | 0 |\n",
       "| 36 | 0.25483170 | 0.52502458 | 0 | 0 | 0 | 0 | 0.0000000 | 0.000000 | 0.3794853 | 0.0000000 | ... | 0 | 0 | 0 | 0 | 0 | 0 | 0 | 0 | 0 | 0 |\n",
       "| 38 | 0.12800254 | 0.13186052 | 0 | 0 | 0 | 0 | 0.0000000 | 0.200943 | 0.1906163 | 0.0000000 | ... | 0 | 0 | 0 | 0 | 0 | 0 | 0 | 0 | 0 | 0 |\n",
       "| 39 | 0.36686673 | 0.37792404 | 0 | 0 | 0 | 0 | 0.0000000 | 0.000000 | 0.0000000 | 0.0000000 | ... | 0 | 0 | 0 | 0 | 0 | 0 | 0 | 0 | 0 | 0 |\n",
       "| 41 | 0.14706449 | 0.15149699 | 0 | 0 | 0 | 0 | 0.0000000 | 0.000000 | 0.0000000 | 0.0000000 | ... | 0 | 0 | 0 | 0 | 0 | 0 | 0 | 0 | 0 | 0 |\n",
       "| 43 | 0.17990069 | 0.18532288 | 0 | 0 | 0 | 0 | 0.0000000 | 0.000000 | 0.0000000 | 0.0000000 | ... | 0 | 0 | 0 | 0 | 0 | 0 | 0 | 0 | 0 | 0 |\n",
       "| 44 | 0.21534673 | 0.22183725 | 0 | 0 | 0 | 0 | 0.0000000 | 0.000000 | 0.0000000 | 0.0000000 | ... | 0 | 0 | 0 | 0 | 0 | 0 | 0 | 0 | 0 | 0 |\n",
       "| 45 | 0.14945973 | 0.15396443 | 0 | 0 | 0 | 0 | 0.0000000 | 0.000000 | 0.0000000 | 0.0000000 | ... | 0 | 0 | 0 | 0 | 0 | 0 | 0 | 0 | 0 | 0 |\n",
       "| 46 | 0.16615438 | 0.00000000 | 0 | 0 | 0 | 0 | 0.0000000 | 0.000000 | 0.0000000 | 0.2658069 | ... | 0 | 0 | 0 | 0 | 0 | 0 | 0 | 0 | 0 | 0 |\n",
       "| 47 | 0.11222869 | 0.11561125 | 0 | 0 | 0 | 0 | 0.0000000 | 0.000000 | 0.0000000 | 0.0000000 | ... | 0 | 0 | 0 | 0 | 0 | 0 | 0 | 0 | 0 | 0 |\n",
       "| ... | ... | ... | ... | ... | ... | ... | ... | ... | ... | ... | <!----> | ... | ... | ... | ... | ... | ... | ... | ... | ... | ... |\n",
       "| 2453 | 0 | 0 | 0 | 0 | 0 | 0.0000000 | 0.0000000 | 0.0000000 | 0.000000 | 0.0000000 | ... | 0 | 0 | 0 | 0 | 0 | 0 | 0 | 0 | 0 | 0 |\n",
       "| 2454 | 0 | 0 | 0 | 0 | 0 | 0.1527810 | 0.0000000 | 0.0000000 | 0.000000 | 0.0000000 | ... | 0 | 0 | 0 | 0 | 0 | 0 | 0 | 0 | 0 | 0 |\n",
       "| 2455 | 0 | 0 | 0 | 0 | 0 | 0.1329924 | 0.0000000 | 0.0000000 | 0.000000 | 0.0000000 | ... | 0 | 0 | 0 | 0 | 0 | 0 | 0 | 0 | 0 | 0 |\n",
       "| 2456 | 0 | 0 | 0 | 0 | 0 | 0.2224093 | 0.0000000 | 0.0000000 | 0.000000 | 0.0000000 | ... | 0 | 0 | 0 | 0 | 0 | 0 | 0 | 0 | 0 | 0 |\n",
       "| 2457 | 0 | 0 | 0 | 0 | 0 | 0.0000000 | 0.0000000 | 0.0000000 | 0.000000 | 0.0000000 | ... | 0 | 0 | 0 | 0 | 0 | 0 | 0 | 0 | 0 | 0 |\n",
       "| 2459 | 0 | 0 | 0 | 0 | 0 | 0.0000000 | 0.0000000 | 0.1634455 | 0.000000 | 0.0000000 | ... | 0 | 0 | 0 | 0 | 0 | 0 | 0 | 0 | 0 | 0 |\n",
       "| 2460 | 0 | 0 | 0 | 0 | 0 | 0.1999073 | 0.0000000 | 0.0000000 | 0.000000 | 0.0000000 | ... | 0 | 0 | 0 | 0 | 0 | 0 | 0 | 0 | 0 | 0 |\n",
       "| 2461 | 0 | 0 | 0 | 0 | 0 | 0.1659380 | 0.0000000 | 0.0000000 | 0.000000 | 0.0000000 | ... | 0 | 0 | 0 | 0 | 0 | 0 | 0 | 0 | 0 | 0 |\n",
       "| 2462 | 0 | 0 | 0 | 0 | 0 | 0.0000000 | 0.0000000 | 0.0000000 | 0.000000 | 0.0000000 | ... | 0 | 0 | 0 | 0 | 0 | 0 | 0 | 0 | 0 | 0 |\n",
       "| 2463 | 0 | 0 | 0 | 0 | 0 | 0.1157662 | 0.0000000 | 0.0000000 | 0.000000 | 0.1575585 | ... | 0 | 0 | 0 | 0 | 0 | 0 | 0 | 0 | 0 | 0 |\n",
       "| 2464 | 0 | 0 | 0 | 0 | 0 | 0.0000000 | 0.0000000 | 0.0000000 | 0.258856 | 0.0000000 | ... | 0 | 0 | 0 | 0 | 0 | 0 | 0 | 0 | 0 | 0 |\n",
       "| 2465 | 0 | 0 | 0 | 0 | 0 | 0.0000000 | 0.0000000 | 0.0000000 | 0.000000 | 0.0000000 | ... | 0 | 0 | 0 | 0 | 0 | 0 | 0 | 0 | 0 | 0 |\n",
       "| 2466 | 0 | 0 | 0 | 0 | 0 | 0.1547775 | 0.1915019 | 0.0000000 | 0.000000 | 0.0000000 | ... | 0 | 0 | 0 | 0 | 0 | 0 | 0 | 0 | 0 | 0 |\n",
       "| 2468 | 0 | 0 | 0 | 0 | 0 | 0.0000000 | 0.0000000 | 0.0000000 | 0.000000 | 0.0000000 | ... | 0 | 0 | 0 | 0 | 0 | 0 | 0 | 0 | 0 | 0 |\n",
       "| 2470 | 0 | 0 | 0 | 0 | 0 | 0.2557379 | 0.0000000 | 0.0000000 | 0.000000 | 0.0000000 | ... | 0 | 0 | 0 | 0 | 0 | 0 | 0 | 0 | 0 | 0 |\n",
       "| 2474 | 0 | 0 | 0 | 0 | 0 | 0.1577014 | 0.0000000 | 0.0000000 | 0.000000 | 0.0000000 | ... | 0 | 0 | 0 | 0 | 0 | 0 | 0 | 0 | 0 | 0 |\n",
       "| 2476 | 0 | 0 | 0 | 0 | 0 | 0.0000000 | 0.0000000 | 0.0000000 | 0.000000 | 0.0000000 | ... | 0 | 0 | 0 | 0 | 0 | 0 | 0 | 0 | 0 | 0 |\n",
       "| 2477 | 0 | 0 | 0 | 0 | 0 | 0.1920081 | 0.0000000 | 0.0000000 | 0.000000 | 0.2613243 | ... | 0 | 0 | 0 | 0 | 0 | 0 | 0 | 0 | 0 | 0 |\n",
       "| 2482 | 0 | 0 | 0 | 0 | 0 | 0.0000000 | 0.0000000 | 0.0000000 | 0.000000 | 0.0000000 | ... | 0 | 0 | 0 | 0 | 0 | 0 | 0 | 0 | 0 | 0 |\n",
       "| 2483 | 0 | 0 | 0 | 0 | 0 | 0.2001699 | 0.0000000 | 0.0000000 | 0.000000 | 0.0000000 | ... | 0 | 0 | 0 | 0 | 0 | 0 | 0 | 0 | 0 | 0 |\n",
       "| 2484 | 0 | 0 | 0 | 0 | 0 | 0.0000000 | 0.0000000 | 0.0000000 | 0.000000 | 0.0000000 | ... | 0 | 0 | 0 | 0 | 0 | 0 | 0 | 0 | 0 | 0 |\n",
       "| 2488 | 0 | 0 | 0 | 0 | 0 | 0.0000000 | 0.0000000 | 0.0000000 | 0.000000 | 0.0000000 | ... | 0 | 0 | 0 | 0 | 0 | 0 | 0 | 0 | 0 | 0 |\n",
       "| 2489 | 0 | 0 | 0 | 0 | 0 | 0.1187218 | 0.0000000 | 0.0000000 | 0.000000 | 0.0000000 | ... | 0 | 0 | 0 | 0 | 0 | 0 | 0 | 0 | 0 | 0 |\n",
       "| 2492 | 0 | 0 | 0 | 0 | 0 | 0.2395080 | 0.0000000 | 0.0000000 | 0.000000 | 0.0000000 | ... | 0 | 0 | 0 | 0 | 0 | 0 | 0 | 0 | 0 | 0 |\n",
       "| 2493 | 0 | 0 | 0 | 0 | 0 | 0.0000000 | 0.0000000 | 0.0000000 | 0.000000 | 0.0000000 | ... | 0 | 0 | 0 | 0 | 0 | 0 | 0 | 0 | 0 | 0 |\n",
       "| 2495 | 0 | 0 | 0 | 0 | 0 | 0.1468327 | 0.0000000 | 0.0000000 | 0.000000 | 0.0000000 | ... | 0 | 0 | 0 | 0 | 0 | 0 | 0 | 0 | 0 | 0 |\n",
       "| 2496 | 0 | 0 | 0 | 0 | 0 | 0.0000000 | 0.0000000 | 0.0000000 | 0.000000 | 0.0000000 | ... | 0 | 0 | 0 | 0 | 0 | 0 | 0 | 0 | 0 | 0 |\n",
       "| 2497 | 0 | 0 | 0 | 0 | 0 | 0.2942741 | 0.0000000 | 0.0000000 | 0.000000 | 0.0000000 | ... | 0 | 0 | 0 | 0 | 0 | 0 | 0 | 0 | 0 | 0 |\n",
       "| 2498 | 0 | 0 | 0 | 0 | 0 | 0.0000000 | 0.0000000 | 0.0000000 | 0.000000 | 0.0000000 | ... | 0 | 0 | 0 | 0 | 0 | 0 | 0 | 0 | 0 | 0 |\n",
       "| 2499 | 0 | 0 | 0 | 0 | 0 | 0.0000000 | 0.0000000 | 0.0000000 | 0.000000 | 0.0000000 | ... | 0 | 0 | 0 | 0 | 0 | 0 | 0 | 0 | 0 | 0 |\n",
       "\n"
      ],
      "text/plain": [
       "     rock       roll       rap regga pop jazz      music     song     \n",
       "0    0.09855091 0.10152122 0   0     0   0         0.1433244 0.000000 \n",
       "1    0.14079988 0.14504357 0   0     0   0         0.2047679 0.000000 \n",
       "2    0.16306292 0.16797762 0   0     0   0         0.0000000 0.000000 \n",
       "3    0.00000000 0.00000000 0   0     0   0         0.0000000 0.000000 \n",
       "10   0.14322178 0.14753847 0   0     0   0         0.0000000 0.000000 \n",
       "11   0.20144047 0.20751186 0   0     0   0         0.0000000 0.000000 \n",
       "13   0.22278624 0.22950099 0   0     0   0         0.0000000 0.000000 \n",
       "14   0.11037018 0.11369672 0   0     0   0         0.0000000 0.000000 \n",
       "15   0.13166914 0.13563763 0   0     0   0         0.0000000 0.000000 \n",
       "16   0.23123564 0.23820505 0   0     0   0         0.0000000 0.000000 \n",
       "19   0.21044920 0.21679211 0   0     0   0         0.0000000 0.000000 \n",
       "21   0.09876080 0.10173744 0   0     0   0         0.0000000 0.000000 \n",
       "22   0.28698517 0.29563486 0   0     0   0         0.0000000 0.000000 \n",
       "25   0.13340768 0.13742857 0   0     0   0         0.0000000 0.000000 \n",
       "27   0.00000000 0.00000000 0   0     0   0         0.0000000 0.000000 \n",
       "28   0.13529695 0.13937478 0   0     0   0         0.0000000 0.000000 \n",
       "30   0.00000000 0.00000000 0   0     0   0         0.0000000 0.000000 \n",
       "31   0.09144951 0.09420579 0   0     0   0         0.0000000 0.000000 \n",
       "32   0.15633708 0.16104906 0   0     0   0         0.0000000 0.000000 \n",
       "33   0.10786029 0.11111118 0   0     0   0         0.0000000 0.000000 \n",
       "34   0.09144951 0.09420579 0   0     0   0         0.0000000 0.000000 \n",
       "36   0.25483170 0.52502458 0   0     0   0         0.0000000 0.000000 \n",
       "38   0.12800254 0.13186052 0   0     0   0         0.0000000 0.200943 \n",
       "39   0.36686673 0.37792404 0   0     0   0         0.0000000 0.000000 \n",
       "41   0.14706449 0.15149699 0   0     0   0         0.0000000 0.000000 \n",
       "43   0.17990069 0.18532288 0   0     0   0         0.0000000 0.000000 \n",
       "44   0.21534673 0.22183725 0   0     0   0         0.0000000 0.000000 \n",
       "45   0.14945973 0.15396443 0   0     0   0         0.0000000 0.000000 \n",
       "46   0.16615438 0.00000000 0   0     0   0         0.0000000 0.000000 \n",
       "47   0.11222869 0.11561125 0   0     0   0         0.0000000 0.000000 \n",
       "...  ...        ...        ... ...   ... ...       ...       ...      \n",
       "2453 0          0          0   0     0   0.0000000 0.0000000 0.0000000\n",
       "2454 0          0          0   0     0   0.1527810 0.0000000 0.0000000\n",
       "2455 0          0          0   0     0   0.1329924 0.0000000 0.0000000\n",
       "2456 0          0          0   0     0   0.2224093 0.0000000 0.0000000\n",
       "2457 0          0          0   0     0   0.0000000 0.0000000 0.0000000\n",
       "2459 0          0          0   0     0   0.0000000 0.0000000 0.1634455\n",
       "2460 0          0          0   0     0   0.1999073 0.0000000 0.0000000\n",
       "2461 0          0          0   0     0   0.1659380 0.0000000 0.0000000\n",
       "2462 0          0          0   0     0   0.0000000 0.0000000 0.0000000\n",
       "2463 0          0          0   0     0   0.1157662 0.0000000 0.0000000\n",
       "2464 0          0          0   0     0   0.0000000 0.0000000 0.0000000\n",
       "2465 0          0          0   0     0   0.0000000 0.0000000 0.0000000\n",
       "2466 0          0          0   0     0   0.1547775 0.1915019 0.0000000\n",
       "2468 0          0          0   0     0   0.0000000 0.0000000 0.0000000\n",
       "2470 0          0          0   0     0   0.2557379 0.0000000 0.0000000\n",
       "2474 0          0          0   0     0   0.1577014 0.0000000 0.0000000\n",
       "2476 0          0          0   0     0   0.0000000 0.0000000 0.0000000\n",
       "2477 0          0          0   0     0   0.1920081 0.0000000 0.0000000\n",
       "2482 0          0          0   0     0   0.0000000 0.0000000 0.0000000\n",
       "2483 0          0          0   0     0   0.2001699 0.0000000 0.0000000\n",
       "2484 0          0          0   0     0   0.0000000 0.0000000 0.0000000\n",
       "2488 0          0          0   0     0   0.0000000 0.0000000 0.0000000\n",
       "2489 0          0          0   0     0   0.1187218 0.0000000 0.0000000\n",
       "2492 0          0          0   0     0   0.2395080 0.0000000 0.0000000\n",
       "2493 0          0          0   0     0   0.0000000 0.0000000 0.0000000\n",
       "2495 0          0          0   0     0   0.1468327 0.0000000 0.0000000\n",
       "2496 0          0          0   0     0   0.0000000 0.0000000 0.0000000\n",
       "2497 0          0          0   0     0   0.2942741 0.0000000 0.0000000\n",
       "2498 0          0          0   0     0   0.0000000 0.0000000 0.0000000\n",
       "2499 0          0          0   0     0   0.0000000 0.0000000 0.0000000\n",
       "     like      nowplay   ... loyal flame partyalldj variou tast heart care X50s\n",
       "0    0.0000000 0.0000000 ... 0     0     0          0      0    0     0    0   \n",
       "1    0.0000000 0.2252458 ... 0     0     0          0      0    0     0    0   \n",
       "2    0.0000000 0.0000000 ... 0     0     0          0      0    0     0    0   \n",
       "3    0.0000000 0.0000000 ... 0     0     0          0      0    0     0    0   \n",
       "10   0.0000000 0.0000000 ... 0     0     0          0      0    0     0    0   \n",
       "11   0.0000000 0.0000000 ... 0     0     0          0      0    0     0    0   \n",
       "13   0.0000000 0.0000000 ... 0     0     0          0      0    0     0    0   \n",
       "14   0.0000000 0.0000000 ... 0     0     0          0      0    0     0    0   \n",
       "15   0.0000000 0.0000000 ... 0     0     0          0      0    0     0    0   \n",
       "16   0.0000000 0.0000000 ... 0     0     0          0      0    0     0    0   \n",
       "19   0.0000000 0.0000000 ... 0     0     0          0      0    0     0    0   \n",
       "21   0.0000000 0.0000000 ... 0     0     0          0      0    0     0    0   \n",
       "22   0.0000000 0.0000000 ... 0     0     0          0      0    0     0    0   \n",
       "25   0.0000000 0.0000000 ... 0     0     0          0      0    0     0    0   \n",
       "27   0.0000000 0.0000000 ... 0     0     0          0      0    0     0    0   \n",
       "28   0.0000000 0.0000000 ... 0     0     0          0      0    0     0    0   \n",
       "30   0.0000000 0.0000000 ... 0     0     0          0      0    0     0    0   \n",
       "31   0.0000000 0.0000000 ... 0     0     0          0      0    0     0    0   \n",
       "32   0.0000000 0.0000000 ... 0     0     0          0      0    0     0    0   \n",
       "33   0.0000000 0.0000000 ... 0     0     0          0      0    0     0    0   \n",
       "34   0.0000000 0.0000000 ... 0     0     0          0      0    0     0    0   \n",
       "36   0.3794853 0.0000000 ... 0     0     0          0      0    0     0    0   \n",
       "38   0.1906163 0.0000000 ... 0     0     0          0      0    0     0    0   \n",
       "39   0.0000000 0.0000000 ... 0     0     0          0      0    0     0    0   \n",
       "41   0.0000000 0.0000000 ... 0     0     0          0      0    0     0    0   \n",
       "43   0.0000000 0.0000000 ... 0     0     0          0      0    0     0    0   \n",
       "44   0.0000000 0.0000000 ... 0     0     0          0      0    0     0    0   \n",
       "45   0.0000000 0.0000000 ... 0     0     0          0      0    0     0    0   \n",
       "46   0.0000000 0.2658069 ... 0     0     0          0      0    0     0    0   \n",
       "47   0.0000000 0.0000000 ... 0     0     0          0      0    0     0    0   \n",
       "...  ...       ...           ...   ...   ...        ...    ...  ...   ...  ... \n",
       "2453 0.000000  0.0000000 ... 0     0     0          0      0    0     0    0   \n",
       "2454 0.000000  0.0000000 ... 0     0     0          0      0    0     0    0   \n",
       "2455 0.000000  0.0000000 ... 0     0     0          0      0    0     0    0   \n",
       "2456 0.000000  0.0000000 ... 0     0     0          0      0    0     0    0   \n",
       "2457 0.000000  0.0000000 ... 0     0     0          0      0    0     0    0   \n",
       "2459 0.000000  0.0000000 ... 0     0     0          0      0    0     0    0   \n",
       "2460 0.000000  0.0000000 ... 0     0     0          0      0    0     0    0   \n",
       "2461 0.000000  0.0000000 ... 0     0     0          0      0    0     0    0   \n",
       "2462 0.000000  0.0000000 ... 0     0     0          0      0    0     0    0   \n",
       "2463 0.000000  0.1575585 ... 0     0     0          0      0    0     0    0   \n",
       "2464 0.258856  0.0000000 ... 0     0     0          0      0    0     0    0   \n",
       "2465 0.000000  0.0000000 ... 0     0     0          0      0    0     0    0   \n",
       "2466 0.000000  0.0000000 ... 0     0     0          0      0    0     0    0   \n",
       "2468 0.000000  0.0000000 ... 0     0     0          0      0    0     0    0   \n",
       "2470 0.000000  0.0000000 ... 0     0     0          0      0    0     0    0   \n",
       "2474 0.000000  0.0000000 ... 0     0     0          0      0    0     0    0   \n",
       "2476 0.000000  0.0000000 ... 0     0     0          0      0    0     0    0   \n",
       "2477 0.000000  0.2613243 ... 0     0     0          0      0    0     0    0   \n",
       "2482 0.000000  0.0000000 ... 0     0     0          0      0    0     0    0   \n",
       "2483 0.000000  0.0000000 ... 0     0     0          0      0    0     0    0   \n",
       "2484 0.000000  0.0000000 ... 0     0     0          0      0    0     0    0   \n",
       "2488 0.000000  0.0000000 ... 0     0     0          0      0    0     0    0   \n",
       "2489 0.000000  0.0000000 ... 0     0     0          0      0    0     0    0   \n",
       "2492 0.000000  0.0000000 ... 0     0     0          0      0    0     0    0   \n",
       "2493 0.000000  0.0000000 ... 0     0     0          0      0    0     0    0   \n",
       "2495 0.000000  0.0000000 ... 0     0     0          0      0    0     0    0   \n",
       "2496 0.000000  0.0000000 ... 0     0     0          0      0    0     0    0   \n",
       "2497 0.000000  0.0000000 ... 0     0     0          0      0    0     0    0   \n",
       "2498 0.000000  0.0000000 ... 0     0     0          0      0    0     0    0   \n",
       "2499 0.000000  0.0000000 ... 0     0     0          0      0    0     0    0   \n",
       "     royalti twitter\n",
       "0    0       0      \n",
       "1    0       0      \n",
       "2    0       0      \n",
       "3    0       0      \n",
       "10   0       0      \n",
       "11   0       0      \n",
       "13   0       0      \n",
       "14   0       0      \n",
       "15   0       0      \n",
       "16   0       0      \n",
       "19   0       0      \n",
       "21   0       0      \n",
       "22   0       0      \n",
       "25   0       0      \n",
       "27   0       0      \n",
       "28   0       0      \n",
       "30   0       0      \n",
       "31   0       0      \n",
       "32   0       0      \n",
       "33   0       0      \n",
       "34   0       0      \n",
       "36   0       0      \n",
       "38   0       0      \n",
       "39   0       0      \n",
       "41   0       0      \n",
       "43   0       0      \n",
       "44   0       0      \n",
       "45   0       0      \n",
       "46   0       0      \n",
       "47   0       0      \n",
       "...  ...     ...    \n",
       "2453 0       0      \n",
       "2454 0       0      \n",
       "2455 0       0      \n",
       "2456 0       0      \n",
       "2457 0       0      \n",
       "2459 0       0      \n",
       "2460 0       0      \n",
       "2461 0       0      \n",
       "2462 0       0      \n",
       "2463 0       0      \n",
       "2464 0       0      \n",
       "2465 0       0      \n",
       "2466 0       0      \n",
       "2468 0       0      \n",
       "2470 0       0      \n",
       "2474 0       0      \n",
       "2476 0       0      \n",
       "2477 0       0      \n",
       "2482 0       0      \n",
       "2483 0       0      \n",
       "2484 0       0      \n",
       "2488 0       0      \n",
       "2489 0       0      \n",
       "2492 0       0      \n",
       "2493 0       0      \n",
       "2495 0       0      \n",
       "2496 0       0      \n",
       "2497 0       0      \n",
       "2498 0       0      \n",
       "2499 0       0      "
      ]
     },
     "metadata": {},
     "output_type": "display_data"
    }
   ],
   "source": [
    "music.numeric\n"
   ]
  },
  {
   "cell_type": "code",
   "execution_count": 3,
   "metadata": {},
   "outputs": [
    {
     "name": "stderr",
     "output_type": "stream",
     "text": [
      "Loading required package: ggplot2\n",
      "\n",
      "Welcome! Want to learn more? See two factoextra-related books at https://goo.gl/ve3WBa\n",
      "\n"
     ]
    }
   ],
   "source": [
    "library(FactoMineR)\n",
    "library (\"factoextra\")"
   ]
  },
  {
   "cell_type": "code",
   "execution_count": 4,
   "metadata": {},
   "outputs": [
    {
     "name": "stderr",
     "output_type": "stream",
     "text": [
      "Warning message in CA(music.numeric, ncp = 8, row.sup = NULL, col.sup = NULL, graph = FALSE):\n",
      "\"The rows 296, 427, 689, 772, 974, 975, 1004, 1085, 1163, 1164, 1174, 1178, 1218, 1461, 1534, 1647, 1816, 2222, 2293, 2297, 2311, 2326, 2411, 2420, 2427, 2432, 2451, 2465 sum at 0. They were suppressed from the analysis\"\n"
     ]
    }
   ],
   "source": [
    "music.afc = CA(music.numeric,ncp=8,row.sup=NULL,col.sup=NULL,graph=FALSE)"
   ]
  },
  {
   "cell_type": "code",
   "execution_count": 7,
   "metadata": {},
   "outputs": [
    {
     "data": {
      "text/html": [
       "<dl>\n",
       "\t<dt>$names</dt>\n",
       "\t\t<dd><style>\n",
       ".list-inline {list-style: none; margin:0; padding: 0}\n",
       ".list-inline>li {display: inline-block}\n",
       ".list-inline>li:not(:last-child)::after {content: \"\\00b7\"; padding: 0 .5ex}\n",
       "</style>\n",
       "<ol class=list-inline><li>'eig'</li><li>'call'</li><li>'row'</li><li>'col'</li><li>'svd'</li></ol>\n",
       "</dd>\n",
       "\t<dt>$class</dt>\n",
       "\t\t<dd><style>\n",
       ".list-inline {list-style: none; margin:0; padding: 0}\n",
       ".list-inline>li {display: inline-block}\n",
       ".list-inline>li:not(:last-child)::after {content: \"\\00b7\"; padding: 0 .5ex}\n",
       "</style>\n",
       "<ol class=list-inline><li>'CA'</li><li>'list'</li></ol>\n",
       "</dd>\n",
       "</dl>\n"
      ],
      "text/latex": [
       "\\begin{description}\n",
       "\\item[\\$names] \\begin{enumerate*}\n",
       "\\item 'eig'\n",
       "\\item 'call'\n",
       "\\item 'row'\n",
       "\\item 'col'\n",
       "\\item 'svd'\n",
       "\\end{enumerate*}\n",
       "\n",
       "\\item[\\$class] \\begin{enumerate*}\n",
       "\\item 'CA'\n",
       "\\item 'list'\n",
       "\\end{enumerate*}\n",
       "\n",
       "\\end{description}\n"
      ],
      "text/markdown": [
       "$names\n",
       ":   1. 'eig'\n",
       "2. 'call'\n",
       "3. 'row'\n",
       "4. 'col'\n",
       "5. 'svd'\n",
       "\n",
       "\n",
       "\n",
       "$class\n",
       ":   1. 'CA'\n",
       "2. 'list'\n",
       "\n",
       "\n",
       "\n",
       "\n",
       "\n"
      ],
      "text/plain": [
       "$names\n",
       "[1] \"eig\"  \"call\" \"row\"  \"col\"  \"svd\" \n",
       "\n",
       "$class\n",
       "[1] \"CA\"   \"list\"\n"
      ]
     },
     "metadata": {},
     "output_type": "display_data"
    }
   ],
   "source": [
    "attributes(music.afc)"
   ]
  },
  {
   "cell_type": "markdown",
   "metadata": {},
   "source": [
    "### Etude des termes (colonnes)"
   ]
  },
  {
   "cell_type": "code",
   "execution_count": 8,
   "metadata": {},
   "outputs": [
    {
     "data": {
      "text/plain": [
       "Correspondence Analysis - Results for columns\n",
       " ===================================================\n",
       "  Name       Description                   \n",
       "1 \"$coord\"   \"Coordinates for the columns\" \n",
       "2 \"$cos2\"    \"Cos2 for the columns\"        \n",
       "3 \"$contrib\" \"contributions of the columns\"\n",
       "4 \"$inertia\" \"Inertia of the columns\"      "
      ]
     },
     "metadata": {},
     "output_type": "display_data"
    }
   ],
   "source": [
    "col <- get_ca_col(music.afc)\n",
    "col"
   ]
  },
  {
   "cell_type": "code",
   "execution_count": 9,
   "metadata": {},
   "outputs": [
    {
     "data": {
      "image/png": "[encoded data removed]",
      "text/plain": [
       "Plot with title \"Termes\""
      ]
     },
     "metadata": {
      "image/png": {
       "height": 420,
       "width": 420
      },
      "text/plain": {
       "height": 420,
       "width": 420
      }
     },
     "output_type": "display_data"
    }
   ],
   "source": [
    "plot(music.afc$col$coord[,1],music.afc$col$coord[,2],pch=1,ylab=\"Comp2\",xlab=\"Comp1\",xlim=c(-1,1),ylim=c(-1,1),main=\"Termes\")\n",
    "abline(h=0,v=0)\n",
    "text(music.afc$col$coord[,1],music.afc$col$coord[,2],row.names(music.afc$col$coord))\n",
    "symbols(0,0,circles=1,inches=FALSE,add=TRUE)"
   ]
  },
  {
   "cell_type": "markdown",
   "metadata": {},
   "source": [
    "### Etude des Tweets (lignes)"
   ]
  },
  {
   "cell_type": "code",
   "execution_count": 10,
   "metadata": {},
   "outputs": [
    {
     "data": {
      "text/plain": [
       "Correspondence Analysis - Results for rows\n",
       " ===================================================\n",
       "  Name       Description                \n",
       "1 \"$coord\"   \"Coordinates for the rows\" \n",
       "2 \"$cos2\"    \"Cos2 for the rows\"        \n",
       "3 \"$contrib\" \"contributions of the rows\"\n",
       "4 \"$inertia\" \"Inertia of the rows\"      "
      ]
     },
     "metadata": {},
     "output_type": "display_data"
    }
   ],
   "source": [
    "row <- get_ca_row(music.afc)\n",
    "row"
   ]
  },
  {
   "cell_type": "code",
   "execution_count": 11,
   "metadata": {},
   "outputs": [
    {
     "data": {
      "image/png": "[encoded data removed]",
      "text/plain": [
       "Plot with title \"Tweets\""
      ]
     },
     "metadata": {
      "image/png": {
       "height": 420,
       "width": 420
      },
      "text/plain": {
       "height": 420,
       "width": 420
      }
     },
     "output_type": "display_data"
    }
   ],
   "source": [
    "plot(music.afc$row$coord[,1],music.afc$row$coord[,2],ylab=\"Comp2\",xlab=\"Comp1\",pch=4,col=\"blue\",main=\"Tweets\")\n",
    "abline(h=0,v=0)"
   ]
  },
  {
   "cell_type": "markdown",
   "metadata": {},
   "source": [
    "### Etude des valeurs propres"
   ]
  },
  {
   "cell_type": "code",
   "execution_count": 12,
   "metadata": {},
   "outputs": [
    {
     "data": {
      "image/png": "[encoded data removed]",
      "text/plain": [
       "Plot with title \"Variances Explained by Dimensions (%)\""
      ]
     },
     "metadata": {
      "image/png": {
       "height": 420,
       "width": 420
      },
      "text/plain": {
       "height": 420,
       "width": 420
      }
     },
     "output_type": "display_data"
    }
   ],
   "source": [
    "#Sur les 8 dimensions de ncp de l'afc\n",
    "eig.val <- music.afc$eig[1:8,]\n",
    "barplot(eig.val[, 2], \n",
    "        names.arg = 1:nrow(eig.val), \n",
    "        main = \"Variances Explained by Dimensions (%)\",\n",
    "        xlab = \"Principal Dimensions\",\n",
    "        ylab = \"Percentage of variances\",\n",
    "        col =\"steelblue\")"
   ]
  },
  {
   "cell_type": "code",
   "execution_count": 5,
   "metadata": {},
   "outputs": [
    {
     "data": {
      "image/png": "[encoded data removed]",
      "text/plain": [
       "Plot with title \"Variances Explained by Dimensions (%)\""
      ]
     },
     "metadata": {
      "image/png": {
       "height": 420,
       "width": 420
      },
      "text/plain": {
       "height": 420,
       "width": 420
      }
     },
     "output_type": "display_data"
    }
   ],
   "source": [
    "eig.val <- music.afc$eig\n",
    "barplot(eig.val[, 2], \n",
    "        names.arg = 1:nrow(eig.val), \n",
    "        main = \"Variances Explained by Dimensions (%)\",\n",
    "        xlab = \"Principal Dimensions\",\n",
    "        ylab = \"Percentage of variances\",\n",
    "        col =\"steelblue\")\n",
    "\n",
    "\n",
    "#dev.print(device=png, file = \"../../Data/valeurs_propres.png\",width=600)"
   ]
  },
  {
   "cell_type": "code",
   "execution_count": 14,
   "metadata": {},
   "outputs": [
    {
     "data": {
      "image/png": "[encoded data removed]",
      "text/plain": [
       "Plot with title \"Variances Cumulées Explained by Dimensions (%)\""
      ]
     },
     "metadata": {
      "image/png": {
       "height": 420,
       "width": 420
      },
      "text/plain": {
       "height": 420,
       "width": 420
      }
     },
     "output_type": "display_data"
    }
   ],
   "source": [
    "barplot(eig.val[, 3], \n",
    "        names.arg = 1:nrow(eig.val), \n",
    "        main = \"Variances Cumulées Explained by Dimensions (%)\",\n",
    "        xlab = \"Principal Dimensions\",\n",
    "        ylab = \"Percentage of variances cumulées\",\n",
    "        col =\"steelblue\")\n",
    "\n",
    "#dev.print(device=png, file = \"../../Data/variance_cummulee.png\",width=600)"
   ]
  },
  {
   "cell_type": "code",
   "execution_count": 15,
   "metadata": {},
   "outputs": [
    {
     "data": {
      "text/html": [
       "70.5668142831969"
      ],
      "text/latex": [
       "70.5668142831969"
      ],
      "text/markdown": [
       "70.5668142831969"
      ],
      "text/plain": [
       "[1] 70.56681"
      ]
     },
     "metadata": {},
     "output_type": "display_data"
    }
   ],
   "source": [
    "eig.cumule <- eig.val[200,3]\n",
    "eig.cumule"
   ]
  },
  {
   "cell_type": "markdown",
   "metadata": {},
   "source": [
    "### Etude Contribution (plus le score est haut => le terme contribue a la variance expliquée)"
   ]
  },
  {
   "cell_type": "code",
   "execution_count": 16,
   "metadata": {},
   "outputs": [
    {
     "data": {
      "text/html": [
       "<table>\n",
       "<caption>A matrix: 450 × 8 of type dbl</caption>\n",
       "<thead>\n",
       "\t<tr><th></th><th scope=col>Dim 1</th><th scope=col>Dim 2</th><th scope=col>Dim 3</th><th scope=col>Dim 4</th><th scope=col>Dim 5</th><th scope=col>Dim 6</th><th scope=col>Dim 7</th><th scope=col>Dim 8</th></tr>\n",
       "</thead>\n",
       "<tbody>\n",
       "\t<tr><th scope=row>rock</th><td>0.0094154422</td><td>2.748227e-02</td><td>1.315629e-02</td><td>6.527174e-02</td><td>1.305230e+00</td><td>0.0508817858</td><td>0.6791384633</td><td>0.340029251</td></tr>\n",
       "\t<tr><th scope=row>roll</th><td>0.0097652116</td><td>3.808811e-02</td><td>1.409568e-02</td><td>7.113691e-02</td><td>1.389658e+00</td><td>0.0483064734</td><td>0.7336680402</td><td>0.377955303</td></tr>\n",
       "\t<tr><th scope=row>rap</th><td>0.0060752843</td><td>5.377782e-03</td><td>3.295374e-02</td><td>7.483828e-03</td><td>3.943888e-03</td><td>0.1471091000</td><td>0.3166016318</td><td>0.331746145</td></tr>\n",
       "\t<tr><th scope=row>regga</th><td>0.0046772298</td><td>1.793870e-03</td><td>7.483395e-03</td><td>5.790830e-03</td><td>5.023703e-03</td><td>0.0553879382</td><td>0.0020895435</td><td>0.023612636</td></tr>\n",
       "\t<tr><th scope=row>pop</th><td>0.0033207358</td><td>4.773922e-02</td><td>3.231779e-03</td><td>2.168082e-03</td><td>6.261862e-02</td><td>0.0053164892</td><td>0.2212098499</td><td>0.177442405</td></tr>\n",
       "\t<tr><th scope=row>jazz</th><td>0.0039576396</td><td>1.296581e-03</td><td>6.510356e-03</td><td>2.445231e-02</td><td>2.453926e+00</td><td>0.3966246366</td><td>0.1718088024</td><td>0.172026161</td></tr>\n",
       "\t<tr><th scope=row>music</th><td>0.0011447463</td><td>1.264676e-03</td><td>2.370348e-03</td><td>8.470508e-03</td><td>1.822024e-03</td><td>0.0039533690</td><td>0.0093884246</td><td>0.006160242</td></tr>\n",
       "\t<tr><th scope=row>song</th><td>0.0026827983</td><td>5.413054e-03</td><td>2.713358e-04</td><td>4.956975e-03</td><td>4.276315e-03</td><td>0.0180223920</td><td>0.0345964501</td><td>0.067912351</td></tr>\n",
       "\t<tr><th scope=row>like</th><td>0.0026072687</td><td>1.532895e-02</td><td>2.242057e-03</td><td>2.922428e-03</td><td>1.988581e-02</td><td>0.0021425511</td><td>0.1712643607</td><td>0.012289366</td></tr>\n",
       "\t<tr><th scope=row>nowplay</th><td>0.0032940253</td><td>1.282263e-01</td><td>2.581570e-03</td><td>1.261425e-02</td><td>5.643254e-02</td><td>0.0223994000</td><td>0.1040583014</td><td>0.007526254</td></tr>\n",
       "\t<tr><th scope=row>love</th><td>0.0114304559</td><td>2.485361e-02</td><td>2.106621e-01</td><td>6.409399e-03</td><td>1.964936e-01</td><td>0.0208280074</td><td>0.1069500491</td><td>0.026260350</td></tr>\n",
       "\t<tr><th scope=row>listen</th><td>0.0030238827</td><td>2.191587e-04</td><td>3.255226e-03</td><td>1.299873e-02</td><td>2.694696e-02</td><td>0.0523058756</td><td>0.0006460657</td><td>0.018725750</td></tr>\n",
       "\t<tr><th scope=row>new</th><td>0.0015717486</td><td>1.109080e-02</td><td>9.495057e-04</td><td>5.184481e-04</td><td>6.939281e-03</td><td>0.0001879624</td><td>0.0226837490</td><td>0.011951887</td></tr>\n",
       "\t<tr><th scope=row>via</th><td>0.0019456344</td><td>6.766578e-03</td><td>4.149131e-03</td><td>1.684475e-02</td><td>2.527013e-01</td><td>0.0005542715</td><td>0.3145492460</td><td>0.171091974</td></tr>\n",
       "\t<tr><th scope=row>one</th><td>0.0012275678</td><td>9.235274e-03</td><td>3.101552e-03</td><td>5.045777e-07</td><td>2.544057e-02</td><td>0.0978001544</td><td>0.1027583929</td><td>0.006789863</td></tr>\n",
       "\t<tr><th scope=row>smoke</th><td>0.0016585069</td><td>2.305600e-02</td><td>3.121685e-04</td><td>9.638496e-03</td><td>7.056805e-04</td><td>0.0013495125</td><td>0.1447339745</td><td>0.150641590</td></tr>\n",
       "\t<tr><th scope=row>play</th><td>0.0017090292</td><td>8.534583e-03</td><td>3.741283e-03</td><td>1.515496e-02</td><td>2.406039e-02</td><td>0.0001223186</td><td>0.0608137205</td><td>0.008267047</td></tr>\n",
       "\t<tr><th scope=row>go</th><td>0.0017509293</td><td>1.021089e-02</td><td>1.344648e-03</td><td>2.143151e-03</td><td>3.192220e-05</td><td>0.0184774389</td><td>0.0177690182</td><td>0.028439783</td></tr>\n",
       "\t<tr><th scope=row>make</th><td>0.0017909822</td><td>9.651028e-03</td><td>2.201237e-03</td><td>3.018920e-04</td><td>1.943357e-03</td><td>0.0085498537</td><td>0.0246406497</td><td>0.027529507</td></tr>\n",
       "\t<tr><th scope=row>get</th><td>0.0017102467</td><td>1.239573e-05</td><td>1.067122e-03</td><td>1.000624e-03</td><td>8.578105e-03</td><td>0.0200934162</td><td>0.0040165808</td><td>0.006791943</td></tr>\n",
       "\t<tr><th scope=row>day</th><td>0.0014728439</td><td>7.369039e-04</td><td>2.277254e-03</td><td>5.901517e-03</td><td>1.624590e-03</td><td>0.0062408430</td><td>0.0013611619</td><td>0.002945984</td></tr>\n",
       "\t<tr><th scope=row>radio</th><td>0.0016859956</td><td>2.612571e-04</td><td>3.034798e-03</td><td>5.447940e-03</td><td>1.561436e-04</td><td>0.0160400464</td><td>0.0102635983</td><td>0.002085331</td></tr>\n",
       "\t<tr><th scope=row>album</th><td>0.0013354143</td><td>5.364610e-04</td><td>8.474853e-04</td><td>7.814161e-04</td><td>2.280727e-05</td><td>0.0001076647</td><td>0.0051231734</td><td>0.001795420</td></tr>\n",
       "\t<tr><th scope=row>got</th><td>0.0011198568</td><td>9.560482e-04</td><td>2.752785e-03</td><td>2.882626e-03</td><td>1.555850e-01</td><td>0.0206791915</td><td>0.0110425500</td><td>0.027402241</td></tr>\n",
       "\t<tr><th scope=row>know</th><td>0.0366053483</td><td>2.846591e-03</td><td>8.651814e-04</td><td>9.539245e-04</td><td>3.686967e-03</td><td>0.0125568095</td><td>0.0062633260</td><td>0.004443092</td></tr>\n",
       "\t<tr><th scope=row>best</th><td>0.0012928236</td><td>3.317020e-03</td><td>1.570898e-03</td><td>1.959990e-03</td><td>5.024368e-04</td><td>0.0018666409</td><td>0.0090613622</td><td>0.016955186</td></tr>\n",
       "\t<tr><th scope=row>good</th><td>0.0005208651</td><td>5.335122e-04</td><td>1.477121e-03</td><td>8.176989e-04</td><td>2.100508e-03</td><td>0.0044193536</td><td>0.0293920828</td><td>0.008220279</td></tr>\n",
       "\t<tr><th scope=row>let</th><td>0.0007858569</td><td>9.385885e-03</td><td>1.266490e-03</td><td>2.649520e-03</td><td>3.381581e-03</td><td>0.0045374048</td><td>0.0083614650</td><td>0.007559430</td></tr>\n",
       "\t<tr><th scope=row>want</th><td>0.0003201855</td><td>1.028412e-02</td><td>5.160502e-05</td><td>3.931393e-04</td><td>6.330989e-05</td><td>0.0138551133</td><td>0.0228042449</td><td>0.026570335</td></tr>\n",
       "\t<tr><th scope=row>live</th><td>0.0005346371</td><td>1.412014e-03</td><td>1.303704e-03</td><td>4.873161e-05</td><td>6.461314e-04</td><td>0.0022071348</td><td>0.0003881095</td><td>0.002542953</td></tr>\n",
       "\t<tr><th scope=row>...</th><td>...</td><td>...</td><td>...</td><td>...</td><td>...</td><td>...</td><td>...</td><td>...</td></tr>\n",
       "\t<tr><th scope=row>wrong</th><td>2.993369e-04</td><td>1.348594e-03</td><td>4.416569e-04</td><td>1.496806e-03</td><td>8.066419e-03</td><td>8.296051e-04</td><td>1.038923e-02</td><td>1.123191e-02</td></tr>\n",
       "\t<tr><th scope=row>quot</th><td>4.033201e-04</td><td>1.385964e-03</td><td>4.027627e-04</td><td>1.042514e-03</td><td>1.110908e-02</td><td>5.940602e-03</td><td>2.952031e-04</td><td>7.558835e-04</td></tr>\n",
       "\t<tr><th scope=row>unit</th><td>6.788494e-04</td><td>1.216706e-03</td><td>4.226833e-03</td><td>3.299856e-02</td><td>1.390650e+00</td><td>2.566822e+00</td><td>1.819782e+01</td><td>3.057199e+01</td></tr>\n",
       "\t<tr><th scope=row>legend</th><td>2.718009e-04</td><td>2.003437e-03</td><td>2.445525e-02</td><td>1.852286e-04</td><td>1.712226e-04</td><td>1.817945e-03</td><td>2.682897e-04</td><td>1.458837e-03</td></tr>\n",
       "\t<tr><th scope=row>hate</th><td>3.145719e-04</td><td>1.769567e-03</td><td>2.033061e-04</td><td>2.362171e-04</td><td>1.767815e-04</td><td>5.366658e-03</td><td>2.292169e-02</td><td>4.974558e-04</td></tr>\n",
       "\t<tr><th scope=row>air</th><td>2.169859e-04</td><td>9.327831e-03</td><td>7.878483e-03</td><td>2.905258e-03</td><td>3.226867e+01</td><td>8.731507e+00</td><td>1.529604e-01</td><td>1.653151e+00</td></tr>\n",
       "\t<tr><th scope=row>amaz</th><td>3.654703e-04</td><td>5.356030e-04</td><td>1.857775e-04</td><td>2.186346e-04</td><td>2.606704e-03</td><td>8.091106e-04</td><td>4.235521e-03</td><td>1.759682e-03</td></tr>\n",
       "\t<tr><th scope=row>shatta</th><td>2.602012e-04</td><td>8.618406e-06</td><td>5.230856e-04</td><td>5.480843e-04</td><td>9.166826e-06</td><td>2.191000e-03</td><td>7.338954e-04</td><td>1.355156e-03</td></tr>\n",
       "\t<tr><th scope=row>cut</th><td>3.531465e-04</td><td>1.891243e-03</td><td>5.791187e-04</td><td>1.593026e-03</td><td>1.409738e-03</td><td>9.732315e-04</td><td>3.621701e-05</td><td>8.370705e-06</td></tr>\n",
       "\t<tr><th scope=row>late</th><td>2.911658e-04</td><td>1.016939e-03</td><td>7.418879e-03</td><td>8.695287e-04</td><td>2.068558e-03</td><td>8.906178e-03</td><td>1.519541e-03</td><td>3.398111e-03</td></tr>\n",
       "\t<tr><th scope=row>deep</th><td>7.703609e-05</td><td>9.851321e-04</td><td>4.037640e-04</td><td>3.826066e-04</td><td>1.781731e-03</td><td>6.708253e-04</td><td>1.605832e-03</td><td>3.581670e-06</td></tr>\n",
       "\t<tr><th scope=row>suppos</th><td>2.673893e-04</td><td>2.127239e-03</td><td>3.478517e-05</td><td>1.057112e-03</td><td>1.941334e-04</td><td>4.667087e-03</td><td>9.584984e-03</td><td>4.187428e-03</td></tr>\n",
       "\t<tr><th scope=row>tf</th><td>2.801977e-04</td><td>3.339462e-03</td><td>2.303328e-04</td><td>2.322154e-05</td><td>5.041326e-03</td><td>3.557679e-03</td><td>2.867369e-02</td><td>2.245854e-02</td></tr>\n",
       "\t<tr><th scope=row>banton</th><td>3.565841e-04</td><td>1.861873e-05</td><td>2.365407e-04</td><td>2.713808e-04</td><td>1.054205e-03</td><td>2.851028e-04</td><td>1.754359e-03</td><td>8.397675e-03</td></tr>\n",
       "\t<tr><th scope=row>polit</th><td>2.089593e-05</td><td>1.332377e-03</td><td>7.071959e-04</td><td>2.582549e-03</td><td>1.000726e-02</td><td>3.005996e-03</td><td>9.095543e-03</td><td>2.343899e-03</td></tr>\n",
       "\t<tr><th scope=row>zoo</th><td>3.491638e-04</td><td>3.763887e-03</td><td>2.218292e-04</td><td>8.989425e-05</td><td>4.204305e-03</td><td>3.117769e-02</td><td>5.818867e-02</td><td>4.893891e-02</td></tr>\n",
       "\t<tr><th scope=row>almost</th><td>1.661165e-04</td><td>2.212818e-04</td><td>3.594193e-04</td><td>3.088617e-03</td><td>2.628931e-04</td><td>2.873144e-03</td><td>4.537109e-03</td><td>2.535553e-03</td></tr>\n",
       "\t<tr><th scope=row>appreci</th><td>1.163055e-04</td><td>9.183409e-04</td><td>6.605359e-05</td><td>3.559542e-03</td><td>1.542905e-02</td><td>7.807263e-05</td><td>2.333302e-03</td><td>2.581282e-04</td></tr>\n",
       "\t<tr><th scope=row>adult</th><td>3.945686e-06</td><td>1.375147e-03</td><td>8.683270e-04</td><td>5.194476e-02</td><td>1.267536e-02</td><td>8.588633e-04</td><td>1.517854e-02</td><td>5.052877e-03</td></tr>\n",
       "\t<tr><th scope=row>bruh</th><td>2.654890e-05</td><td>5.411391e-01</td><td>9.754460e+01</td><td>1.897207e-02</td><td>2.503654e-02</td><td>2.594133e-02</td><td>2.063768e-03</td><td>7.550503e-03</td></tr>\n",
       "\t<tr><th scope=row>loyal</th><td>1.888704e-03</td><td>2.875763e+01</td><td>1.612413e-01</td><td>3.349015e-02</td><td>2.838515e-03</td><td>1.247262e-02</td><td>9.817040e-03</td><td>6.331739e-07</td></tr>\n",
       "\t<tr><th scope=row>flame</th><td>1.888704e-03</td><td>2.875763e+01</td><td>1.612413e-01</td><td>3.349015e-02</td><td>2.838515e-03</td><td>1.247262e-02</td><td>9.817040e-03</td><td>6.331739e-07</td></tr>\n",
       "\t<tr><th scope=row>partyalldj</th><td>6.658543e-05</td><td>1.612070e-03</td><td>3.430416e-04</td><td>4.543575e-04</td><td>7.942102e-03</td><td>1.191009e-03</td><td>6.804029e-04</td><td>5.074698e-03</td></tr>\n",
       "\t<tr><th scope=row>variou</th><td>1.971545e-04</td><td>1.117506e-04</td><td>8.359101e-06</td><td>5.509471e-04</td><td>5.836111e-03</td><td>6.256497e-03</td><td>1.371664e-03</td><td>1.350848e-04</td></tr>\n",
       "\t<tr><th scope=row>tast</th><td>3.477234e-04</td><td>5.227196e-04</td><td>5.227506e-04</td><td>1.305113e-03</td><td>3.994026e-02</td><td>2.064621e-03</td><td>1.941347e-04</td><td>3.129693e-03</td></tr>\n",
       "\t<tr><th scope=row>heart</th><td>4.455908e-04</td><td>1.163669e-03</td><td>5.844126e-04</td><td>2.063278e-03</td><td>1.839640e-02</td><td>2.691390e-03</td><td>2.673976e-04</td><td>1.431966e-03</td></tr>\n",
       "\t<tr><th scope=row>care</th><td>3.010998e-04</td><td>2.482301e-03</td><td>4.739936e-04</td><td>1.083337e-03</td><td>1.468478e-02</td><td>1.900011e-04</td><td>5.186384e-02</td><td>1.110997e-04</td></tr>\n",
       "\t<tr><th scope=row>X50s</th><td>3.858407e-04</td><td>2.360101e-03</td><td>1.505239e-03</td><td>1.497654e-03</td><td>7.158740e-03</td><td>1.749181e-04</td><td>3.796875e-02</td><td>5.609968e-03</td></tr>\n",
       "\t<tr><th scope=row>royalti</th><td>1.474123e-04</td><td>3.462486e-03</td><td>2.200578e-04</td><td>1.393775e-06</td><td>7.626514e-02</td><td>2.605338e-03</td><td>2.404871e-03</td><td>1.214081e-02</td></tr>\n",
       "\t<tr><th scope=row>twitter</th><td>4.078605e-05</td><td>1.582667e-03</td><td>4.471684e-04</td><td>4.421649e-04</td><td>2.445427e-04</td><td>1.068134e-03</td><td>9.025254e-04</td><td>2.338680e-03</td></tr>\n",
       "</tbody>\n",
       "</table>\n"
      ],
      "text/latex": [
       "A matrix: 450 × 8 of type dbl\n",
       "\\begin{tabular}{r|llllllll}\n",
       "  & Dim 1 & Dim 2 & Dim 3 & Dim 4 & Dim 5 & Dim 6 & Dim 7 & Dim 8\\\\\n",
       "\\hline\n",
       "\trock & 0.0094154422 & 2.748227e-02 & 1.315629e-02 & 6.527174e-02 & 1.305230e+00 & 0.0508817858 & 0.6791384633 & 0.340029251\\\\\n",
       "\troll & 0.0097652116 & 3.808811e-02 & 1.409568e-02 & 7.113691e-02 & 1.389658e+00 & 0.0483064734 & 0.7336680402 & 0.377955303\\\\\n",
       "\trap & 0.0060752843 & 5.377782e-03 & 3.295374e-02 & 7.483828e-03 & 3.943888e-03 & 0.1471091000 & 0.3166016318 & 0.331746145\\\\\n",
       "\tregga & 0.0046772298 & 1.793870e-03 & 7.483395e-03 & 5.790830e-03 & 5.023703e-03 & 0.0553879382 & 0.0020895435 & 0.023612636\\\\\n",
       "\tpop & 0.0033207358 & 4.773922e-02 & 3.231779e-03 & 2.168082e-03 & 6.261862e-02 & 0.0053164892 & 0.2212098499 & 0.177442405\\\\\n",
       "\tjazz & 0.0039576396 & 1.296581e-03 & 6.510356e-03 & 2.445231e-02 & 2.453926e+00 & 0.3966246366 & 0.1718088024 & 0.172026161\\\\\n",
       "\tmusic & 0.0011447463 & 1.264676e-03 & 2.370348e-03 & 8.470508e-03 & 1.822024e-03 & 0.0039533690 & 0.0093884246 & 0.006160242\\\\\n",
       "\tsong & 0.0026827983 & 5.413054e-03 & 2.713358e-04 & 4.956975e-03 & 4.276315e-03 & 0.0180223920 & 0.0345964501 & 0.067912351\\\\\n",
       "\tlike & 0.0026072687 & 1.532895e-02 & 2.242057e-03 & 2.922428e-03 & 1.988581e-02 & 0.0021425511 & 0.1712643607 & 0.012289366\\\\\n",
       "\tnowplay & 0.0032940253 & 1.282263e-01 & 2.581570e-03 & 1.261425e-02 & 5.643254e-02 & 0.0223994000 & 0.1040583014 & 0.007526254\\\\\n",
       "\tlove & 0.0114304559 & 2.485361e-02 & 2.106621e-01 & 6.409399e-03 & 1.964936e-01 & 0.0208280074 & 0.1069500491 & 0.026260350\\\\\n",
       "\tlisten & 0.0030238827 & 2.191587e-04 & 3.255226e-03 & 1.299873e-02 & 2.694696e-02 & 0.0523058756 & 0.0006460657 & 0.018725750\\\\\n",
       "\tnew & 0.0015717486 & 1.109080e-02 & 9.495057e-04 & 5.184481e-04 & 6.939281e-03 & 0.0001879624 & 0.0226837490 & 0.011951887\\\\\n",
       "\tvia & 0.0019456344 & 6.766578e-03 & 4.149131e-03 & 1.684475e-02 & 2.527013e-01 & 0.0005542715 & 0.3145492460 & 0.171091974\\\\\n",
       "\tone & 0.0012275678 & 9.235274e-03 & 3.101552e-03 & 5.045777e-07 & 2.544057e-02 & 0.0978001544 & 0.1027583929 & 0.006789863\\\\\n",
       "\tsmoke & 0.0016585069 & 2.305600e-02 & 3.121685e-04 & 9.638496e-03 & 7.056805e-04 & 0.0013495125 & 0.1447339745 & 0.150641590\\\\\n",
       "\tplay & 0.0017090292 & 8.534583e-03 & 3.741283e-03 & 1.515496e-02 & 2.406039e-02 & 0.0001223186 & 0.0608137205 & 0.008267047\\\\\n",
       "\tgo & 0.0017509293 & 1.021089e-02 & 1.344648e-03 & 2.143151e-03 & 3.192220e-05 & 0.0184774389 & 0.0177690182 & 0.028439783\\\\\n",
       "\tmake & 0.0017909822 & 9.651028e-03 & 2.201237e-03 & 3.018920e-04 & 1.943357e-03 & 0.0085498537 & 0.0246406497 & 0.027529507\\\\\n",
       "\tget & 0.0017102467 & 1.239573e-05 & 1.067122e-03 & 1.000624e-03 & 8.578105e-03 & 0.0200934162 & 0.0040165808 & 0.006791943\\\\\n",
       "\tday & 0.0014728439 & 7.369039e-04 & 2.277254e-03 & 5.901517e-03 & 1.624590e-03 & 0.0062408430 & 0.0013611619 & 0.002945984\\\\\n",
       "\tradio & 0.0016859956 & 2.612571e-04 & 3.034798e-03 & 5.447940e-03 & 1.561436e-04 & 0.0160400464 & 0.0102635983 & 0.002085331\\\\\n",
       "\talbum & 0.0013354143 & 5.364610e-04 & 8.474853e-04 & 7.814161e-04 & 2.280727e-05 & 0.0001076647 & 0.0051231734 & 0.001795420\\\\\n",
       "\tgot & 0.0011198568 & 9.560482e-04 & 2.752785e-03 & 2.882626e-03 & 1.555850e-01 & 0.0206791915 & 0.0110425500 & 0.027402241\\\\\n",
       "\tknow & 0.0366053483 & 2.846591e-03 & 8.651814e-04 & 9.539245e-04 & 3.686967e-03 & 0.0125568095 & 0.0062633260 & 0.004443092\\\\\n",
       "\tbest & 0.0012928236 & 3.317020e-03 & 1.570898e-03 & 1.959990e-03 & 5.024368e-04 & 0.0018666409 & 0.0090613622 & 0.016955186\\\\\n",
       "\tgood & 0.0005208651 & 5.335122e-04 & 1.477121e-03 & 8.176989e-04 & 2.100508e-03 & 0.0044193536 & 0.0293920828 & 0.008220279\\\\\n",
       "\tlet & 0.0007858569 & 9.385885e-03 & 1.266490e-03 & 2.649520e-03 & 3.381581e-03 & 0.0045374048 & 0.0083614650 & 0.007559430\\\\\n",
       "\twant & 0.0003201855 & 1.028412e-02 & 5.160502e-05 & 3.931393e-04 & 6.330989e-05 & 0.0138551133 & 0.0228042449 & 0.026570335\\\\\n",
       "\tlive & 0.0005346371 & 1.412014e-03 & 1.303704e-03 & 4.873161e-05 & 6.461314e-04 & 0.0022071348 & 0.0003881095 & 0.002542953\\\\\n",
       "\t... & ... & ... & ... & ... & ... & ... & ... & ...\\\\\n",
       "\twrong & 2.993369e-04 & 1.348594e-03 & 4.416569e-04 & 1.496806e-03 & 8.066419e-03 & 8.296051e-04 & 1.038923e-02 & 1.123191e-02\\\\\n",
       "\tquot & 4.033201e-04 & 1.385964e-03 & 4.027627e-04 & 1.042514e-03 & 1.110908e-02 & 5.940602e-03 & 2.952031e-04 & 7.558835e-04\\\\\n",
       "\tunit & 6.788494e-04 & 1.216706e-03 & 4.226833e-03 & 3.299856e-02 & 1.390650e+00 & 2.566822e+00 & 1.819782e+01 & 3.057199e+01\\\\\n",
       "\tlegend & 2.718009e-04 & 2.003437e-03 & 2.445525e-02 & 1.852286e-04 & 1.712226e-04 & 1.817945e-03 & 2.682897e-04 & 1.458837e-03\\\\\n",
       "\thate & 3.145719e-04 & 1.769567e-03 & 2.033061e-04 & 2.362171e-04 & 1.767815e-04 & 5.366658e-03 & 2.292169e-02 & 4.974558e-04\\\\\n",
       "\tair & 2.169859e-04 & 9.327831e-03 & 7.878483e-03 & 2.905258e-03 & 3.226867e+01 & 8.731507e+00 & 1.529604e-01 & 1.653151e+00\\\\\n",
       "\tamaz & 3.654703e-04 & 5.356030e-04 & 1.857775e-04 & 2.186346e-04 & 2.606704e-03 & 8.091106e-04 & 4.235521e-03 & 1.759682e-03\\\\\n",
       "\tshatta & 2.602012e-04 & 8.618406e-06 & 5.230856e-04 & 5.480843e-04 & 9.166826e-06 & 2.191000e-03 & 7.338954e-04 & 1.355156e-03\\\\\n",
       "\tcut & 3.531465e-04 & 1.891243e-03 & 5.791187e-04 & 1.593026e-03 & 1.409738e-03 & 9.732315e-04 & 3.621701e-05 & 8.370705e-06\\\\\n",
       "\tlate & 2.911658e-04 & 1.016939e-03 & 7.418879e-03 & 8.695287e-04 & 2.068558e-03 & 8.906178e-03 & 1.519541e-03 & 3.398111e-03\\\\\n",
       "\tdeep & 7.703609e-05 & 9.851321e-04 & 4.037640e-04 & 3.826066e-04 & 1.781731e-03 & 6.708253e-04 & 1.605832e-03 & 3.581670e-06\\\\\n",
       "\tsuppos & 2.673893e-04 & 2.127239e-03 & 3.478517e-05 & 1.057112e-03 & 1.941334e-04 & 4.667087e-03 & 9.584984e-03 & 4.187428e-03\\\\\n",
       "\ttf & 2.801977e-04 & 3.339462e-03 & 2.303328e-04 & 2.322154e-05 & 5.041326e-03 & 3.557679e-03 & 2.867369e-02 & 2.245854e-02\\\\\n",
       "\tbanton & 3.565841e-04 & 1.861873e-05 & 2.365407e-04 & 2.713808e-04 & 1.054205e-03 & 2.851028e-04 & 1.754359e-03 & 8.397675e-03\\\\\n",
       "\tpolit & 2.089593e-05 & 1.332377e-03 & 7.071959e-04 & 2.582549e-03 & 1.000726e-02 & 3.005996e-03 & 9.095543e-03 & 2.343899e-03\\\\\n",
       "\tzoo & 3.491638e-04 & 3.763887e-03 & 2.218292e-04 & 8.989425e-05 & 4.204305e-03 & 3.117769e-02 & 5.818867e-02 & 4.893891e-02\\\\\n",
       "\talmost & 1.661165e-04 & 2.212818e-04 & 3.594193e-04 & 3.088617e-03 & 2.628931e-04 & 2.873144e-03 & 4.537109e-03 & 2.535553e-03\\\\\n",
       "\tappreci & 1.163055e-04 & 9.183409e-04 & 6.605359e-05 & 3.559542e-03 & 1.542905e-02 & 7.807263e-05 & 2.333302e-03 & 2.581282e-04\\\\\n",
       "\tadult & 3.945686e-06 & 1.375147e-03 & 8.683270e-04 & 5.194476e-02 & 1.267536e-02 & 8.588633e-04 & 1.517854e-02 & 5.052877e-03\\\\\n",
       "\tbruh & 2.654890e-05 & 5.411391e-01 & 9.754460e+01 & 1.897207e-02 & 2.503654e-02 & 2.594133e-02 & 2.063768e-03 & 7.550503e-03\\\\\n",
       "\tloyal & 1.888704e-03 & 2.875763e+01 & 1.612413e-01 & 3.349015e-02 & 2.838515e-03 & 1.247262e-02 & 9.817040e-03 & 6.331739e-07\\\\\n",
       "\tflame & 1.888704e-03 & 2.875763e+01 & 1.612413e-01 & 3.349015e-02 & 2.838515e-03 & 1.247262e-02 & 9.817040e-03 & 6.331739e-07\\\\\n",
       "\tpartyalldj & 6.658543e-05 & 1.612070e-03 & 3.430416e-04 & 4.543575e-04 & 7.942102e-03 & 1.191009e-03 & 6.804029e-04 & 5.074698e-03\\\\\n",
       "\tvariou & 1.971545e-04 & 1.117506e-04 & 8.359101e-06 & 5.509471e-04 & 5.836111e-03 & 6.256497e-03 & 1.371664e-03 & 1.350848e-04\\\\\n",
       "\ttast & 3.477234e-04 & 5.227196e-04 & 5.227506e-04 & 1.305113e-03 & 3.994026e-02 & 2.064621e-03 & 1.941347e-04 & 3.129693e-03\\\\\n",
       "\theart & 4.455908e-04 & 1.163669e-03 & 5.844126e-04 & 2.063278e-03 & 1.839640e-02 & 2.691390e-03 & 2.673976e-04 & 1.431966e-03\\\\\n",
       "\tcare & 3.010998e-04 & 2.482301e-03 & 4.739936e-04 & 1.083337e-03 & 1.468478e-02 & 1.900011e-04 & 5.186384e-02 & 1.110997e-04\\\\\n",
       "\tX50s & 3.858407e-04 & 2.360101e-03 & 1.505239e-03 & 1.497654e-03 & 7.158740e-03 & 1.749181e-04 & 3.796875e-02 & 5.609968e-03\\\\\n",
       "\troyalti & 1.474123e-04 & 3.462486e-03 & 2.200578e-04 & 1.393775e-06 & 7.626514e-02 & 2.605338e-03 & 2.404871e-03 & 1.214081e-02\\\\\n",
       "\ttwitter & 4.078605e-05 & 1.582667e-03 & 4.471684e-04 & 4.421649e-04 & 2.445427e-04 & 1.068134e-03 & 9.025254e-04 & 2.338680e-03\\\\\n",
       "\\end{tabular}\n"
      ],
      "text/markdown": [
       "\n",
       "A matrix: 450 × 8 of type dbl\n",
       "\n",
       "| <!--/--> | Dim 1 | Dim 2 | Dim 3 | Dim 4 | Dim 5 | Dim 6 | Dim 7 | Dim 8 |\n",
       "|---|---|---|---|---|---|---|---|---|\n",
       "| rock | 0.0094154422 | 2.748227e-02 | 1.315629e-02 | 6.527174e-02 | 1.305230e+00 | 0.0508817858 | 0.6791384633 | 0.340029251 |\n",
       "| roll | 0.0097652116 | 3.808811e-02 | 1.409568e-02 | 7.113691e-02 | 1.389658e+00 | 0.0483064734 | 0.7336680402 | 0.377955303 |\n",
       "| rap | 0.0060752843 | 5.377782e-03 | 3.295374e-02 | 7.483828e-03 | 3.943888e-03 | 0.1471091000 | 0.3166016318 | 0.331746145 |\n",
       "| regga | 0.0046772298 | 1.793870e-03 | 7.483395e-03 | 5.790830e-03 | 5.023703e-03 | 0.0553879382 | 0.0020895435 | 0.023612636 |\n",
       "| pop | 0.0033207358 | 4.773922e-02 | 3.231779e-03 | 2.168082e-03 | 6.261862e-02 | 0.0053164892 | 0.2212098499 | 0.177442405 |\n",
       "| jazz | 0.0039576396 | 1.296581e-03 | 6.510356e-03 | 2.445231e-02 | 2.453926e+00 | 0.3966246366 | 0.1718088024 | 0.172026161 |\n",
       "| music | 0.0011447463 | 1.264676e-03 | 2.370348e-03 | 8.470508e-03 | 1.822024e-03 | 0.0039533690 | 0.0093884246 | 0.006160242 |\n",
       "| song | 0.0026827983 | 5.413054e-03 | 2.713358e-04 | 4.956975e-03 | 4.276315e-03 | 0.0180223920 | 0.0345964501 | 0.067912351 |\n",
       "| like | 0.0026072687 | 1.532895e-02 | 2.242057e-03 | 2.922428e-03 | 1.988581e-02 | 0.0021425511 | 0.1712643607 | 0.012289366 |\n",
       "| nowplay | 0.0032940253 | 1.282263e-01 | 2.581570e-03 | 1.261425e-02 | 5.643254e-02 | 0.0223994000 | 0.1040583014 | 0.007526254 |\n",
       "| love | 0.0114304559 | 2.485361e-02 | 2.106621e-01 | 6.409399e-03 | 1.964936e-01 | 0.0208280074 | 0.1069500491 | 0.026260350 |\n",
       "| listen | 0.0030238827 | 2.191587e-04 | 3.255226e-03 | 1.299873e-02 | 2.694696e-02 | 0.0523058756 | 0.0006460657 | 0.018725750 |\n",
       "| new | 0.0015717486 | 1.109080e-02 | 9.495057e-04 | 5.184481e-04 | 6.939281e-03 | 0.0001879624 | 0.0226837490 | 0.011951887 |\n",
       "| via | 0.0019456344 | 6.766578e-03 | 4.149131e-03 | 1.684475e-02 | 2.527013e-01 | 0.0005542715 | 0.3145492460 | 0.171091974 |\n",
       "| one | 0.0012275678 | 9.235274e-03 | 3.101552e-03 | 5.045777e-07 | 2.544057e-02 | 0.0978001544 | 0.1027583929 | 0.006789863 |\n",
       "| smoke | 0.0016585069 | 2.305600e-02 | 3.121685e-04 | 9.638496e-03 | 7.056805e-04 | 0.0013495125 | 0.1447339745 | 0.150641590 |\n",
       "| play | 0.0017090292 | 8.534583e-03 | 3.741283e-03 | 1.515496e-02 | 2.406039e-02 | 0.0001223186 | 0.0608137205 | 0.008267047 |\n",
       "| go | 0.0017509293 | 1.021089e-02 | 1.344648e-03 | 2.143151e-03 | 3.192220e-05 | 0.0184774389 | 0.0177690182 | 0.028439783 |\n",
       "| make | 0.0017909822 | 9.651028e-03 | 2.201237e-03 | 3.018920e-04 | 1.943357e-03 | 0.0085498537 | 0.0246406497 | 0.027529507 |\n",
       "| get | 0.0017102467 | 1.239573e-05 | 1.067122e-03 | 1.000624e-03 | 8.578105e-03 | 0.0200934162 | 0.0040165808 | 0.006791943 |\n",
       "| day | 0.0014728439 | 7.369039e-04 | 2.277254e-03 | 5.901517e-03 | 1.624590e-03 | 0.0062408430 | 0.0013611619 | 0.002945984 |\n",
       "| radio | 0.0016859956 | 2.612571e-04 | 3.034798e-03 | 5.447940e-03 | 1.561436e-04 | 0.0160400464 | 0.0102635983 | 0.002085331 |\n",
       "| album | 0.0013354143 | 5.364610e-04 | 8.474853e-04 | 7.814161e-04 | 2.280727e-05 | 0.0001076647 | 0.0051231734 | 0.001795420 |\n",
       "| got | 0.0011198568 | 9.560482e-04 | 2.752785e-03 | 2.882626e-03 | 1.555850e-01 | 0.0206791915 | 0.0110425500 | 0.027402241 |\n",
       "| know | 0.0366053483 | 2.846591e-03 | 8.651814e-04 | 9.539245e-04 | 3.686967e-03 | 0.0125568095 | 0.0062633260 | 0.004443092 |\n",
       "| best | 0.0012928236 | 3.317020e-03 | 1.570898e-03 | 1.959990e-03 | 5.024368e-04 | 0.0018666409 | 0.0090613622 | 0.016955186 |\n",
       "| good | 0.0005208651 | 5.335122e-04 | 1.477121e-03 | 8.176989e-04 | 2.100508e-03 | 0.0044193536 | 0.0293920828 | 0.008220279 |\n",
       "| let | 0.0007858569 | 9.385885e-03 | 1.266490e-03 | 2.649520e-03 | 3.381581e-03 | 0.0045374048 | 0.0083614650 | 0.007559430 |\n",
       "| want | 0.0003201855 | 1.028412e-02 | 5.160502e-05 | 3.931393e-04 | 6.330989e-05 | 0.0138551133 | 0.0228042449 | 0.026570335 |\n",
       "| live | 0.0005346371 | 1.412014e-03 | 1.303704e-03 | 4.873161e-05 | 6.461314e-04 | 0.0022071348 | 0.0003881095 | 0.002542953 |\n",
       "| ... | ... | ... | ... | ... | ... | ... | ... | ... |\n",
       "| wrong | 2.993369e-04 | 1.348594e-03 | 4.416569e-04 | 1.496806e-03 | 8.066419e-03 | 8.296051e-04 | 1.038923e-02 | 1.123191e-02 |\n",
       "| quot | 4.033201e-04 | 1.385964e-03 | 4.027627e-04 | 1.042514e-03 | 1.110908e-02 | 5.940602e-03 | 2.952031e-04 | 7.558835e-04 |\n",
       "| unit | 6.788494e-04 | 1.216706e-03 | 4.226833e-03 | 3.299856e-02 | 1.390650e+00 | 2.566822e+00 | 1.819782e+01 | 3.057199e+01 |\n",
       "| legend | 2.718009e-04 | 2.003437e-03 | 2.445525e-02 | 1.852286e-04 | 1.712226e-04 | 1.817945e-03 | 2.682897e-04 | 1.458837e-03 |\n",
       "| hate | 3.145719e-04 | 1.769567e-03 | 2.033061e-04 | 2.362171e-04 | 1.767815e-04 | 5.366658e-03 | 2.292169e-02 | 4.974558e-04 |\n",
       "| air | 2.169859e-04 | 9.327831e-03 | 7.878483e-03 | 2.905258e-03 | 3.226867e+01 | 8.731507e+00 | 1.529604e-01 | 1.653151e+00 |\n",
       "| amaz | 3.654703e-04 | 5.356030e-04 | 1.857775e-04 | 2.186346e-04 | 2.606704e-03 | 8.091106e-04 | 4.235521e-03 | 1.759682e-03 |\n",
       "| shatta | 2.602012e-04 | 8.618406e-06 | 5.230856e-04 | 5.480843e-04 | 9.166826e-06 | 2.191000e-03 | 7.338954e-04 | 1.355156e-03 |\n",
       "| cut | 3.531465e-04 | 1.891243e-03 | 5.791187e-04 | 1.593026e-03 | 1.409738e-03 | 9.732315e-04 | 3.621701e-05 | 8.370705e-06 |\n",
       "| late | 2.911658e-04 | 1.016939e-03 | 7.418879e-03 | 8.695287e-04 | 2.068558e-03 | 8.906178e-03 | 1.519541e-03 | 3.398111e-03 |\n",
       "| deep | 7.703609e-05 | 9.851321e-04 | 4.037640e-04 | 3.826066e-04 | 1.781731e-03 | 6.708253e-04 | 1.605832e-03 | 3.581670e-06 |\n",
       "| suppos | 2.673893e-04 | 2.127239e-03 | 3.478517e-05 | 1.057112e-03 | 1.941334e-04 | 4.667087e-03 | 9.584984e-03 | 4.187428e-03 |\n",
       "| tf | 2.801977e-04 | 3.339462e-03 | 2.303328e-04 | 2.322154e-05 | 5.041326e-03 | 3.557679e-03 | 2.867369e-02 | 2.245854e-02 |\n",
       "| banton | 3.565841e-04 | 1.861873e-05 | 2.365407e-04 | 2.713808e-04 | 1.054205e-03 | 2.851028e-04 | 1.754359e-03 | 8.397675e-03 |\n",
       "| polit | 2.089593e-05 | 1.332377e-03 | 7.071959e-04 | 2.582549e-03 | 1.000726e-02 | 3.005996e-03 | 9.095543e-03 | 2.343899e-03 |\n",
       "| zoo | 3.491638e-04 | 3.763887e-03 | 2.218292e-04 | 8.989425e-05 | 4.204305e-03 | 3.117769e-02 | 5.818867e-02 | 4.893891e-02 |\n",
       "| almost | 1.661165e-04 | 2.212818e-04 | 3.594193e-04 | 3.088617e-03 | 2.628931e-04 | 2.873144e-03 | 4.537109e-03 | 2.535553e-03 |\n",
       "| appreci | 1.163055e-04 | 9.183409e-04 | 6.605359e-05 | 3.559542e-03 | 1.542905e-02 | 7.807263e-05 | 2.333302e-03 | 2.581282e-04 |\n",
       "| adult | 3.945686e-06 | 1.375147e-03 | 8.683270e-04 | 5.194476e-02 | 1.267536e-02 | 8.588633e-04 | 1.517854e-02 | 5.052877e-03 |\n",
       "| bruh | 2.654890e-05 | 5.411391e-01 | 9.754460e+01 | 1.897207e-02 | 2.503654e-02 | 2.594133e-02 | 2.063768e-03 | 7.550503e-03 |\n",
       "| loyal | 1.888704e-03 | 2.875763e+01 | 1.612413e-01 | 3.349015e-02 | 2.838515e-03 | 1.247262e-02 | 9.817040e-03 | 6.331739e-07 |\n",
       "| flame | 1.888704e-03 | 2.875763e+01 | 1.612413e-01 | 3.349015e-02 | 2.838515e-03 | 1.247262e-02 | 9.817040e-03 | 6.331739e-07 |\n",
       "| partyalldj | 6.658543e-05 | 1.612070e-03 | 3.430416e-04 | 4.543575e-04 | 7.942102e-03 | 1.191009e-03 | 6.804029e-04 | 5.074698e-03 |\n",
       "| variou | 1.971545e-04 | 1.117506e-04 | 8.359101e-06 | 5.509471e-04 | 5.836111e-03 | 6.256497e-03 | 1.371664e-03 | 1.350848e-04 |\n",
       "| tast | 3.477234e-04 | 5.227196e-04 | 5.227506e-04 | 1.305113e-03 | 3.994026e-02 | 2.064621e-03 | 1.941347e-04 | 3.129693e-03 |\n",
       "| heart | 4.455908e-04 | 1.163669e-03 | 5.844126e-04 | 2.063278e-03 | 1.839640e-02 | 2.691390e-03 | 2.673976e-04 | 1.431966e-03 |\n",
       "| care | 3.010998e-04 | 2.482301e-03 | 4.739936e-04 | 1.083337e-03 | 1.468478e-02 | 1.900011e-04 | 5.186384e-02 | 1.110997e-04 |\n",
       "| X50s | 3.858407e-04 | 2.360101e-03 | 1.505239e-03 | 1.497654e-03 | 7.158740e-03 | 1.749181e-04 | 3.796875e-02 | 5.609968e-03 |\n",
       "| royalti | 1.474123e-04 | 3.462486e-03 | 2.200578e-04 | 1.393775e-06 | 7.626514e-02 | 2.605338e-03 | 2.404871e-03 | 1.214081e-02 |\n",
       "| twitter | 4.078605e-05 | 1.582667e-03 | 4.471684e-04 | 4.421649e-04 | 2.445427e-04 | 1.068134e-03 | 9.025254e-04 | 2.338680e-03 |\n",
       "\n"
      ],
      "text/plain": [
       "           Dim 1        Dim 2        Dim 3        Dim 4        Dim 5       \n",
       "rock       0.0094154422 2.748227e-02 1.315629e-02 6.527174e-02 1.305230e+00\n",
       "roll       0.0097652116 3.808811e-02 1.409568e-02 7.113691e-02 1.389658e+00\n",
       "rap        0.0060752843 5.377782e-03 3.295374e-02 7.483828e-03 3.943888e-03\n",
       "regga      0.0046772298 1.793870e-03 7.483395e-03 5.790830e-03 5.023703e-03\n",
       "pop        0.0033207358 4.773922e-02 3.231779e-03 2.168082e-03 6.261862e-02\n",
       "jazz       0.0039576396 1.296581e-03 6.510356e-03 2.445231e-02 2.453926e+00\n",
       "music      0.0011447463 1.264676e-03 2.370348e-03 8.470508e-03 1.822024e-03\n",
       "song       0.0026827983 5.413054e-03 2.713358e-04 4.956975e-03 4.276315e-03\n",
       "like       0.0026072687 1.532895e-02 2.242057e-03 2.922428e-03 1.988581e-02\n",
       "nowplay    0.0032940253 1.282263e-01 2.581570e-03 1.261425e-02 5.643254e-02\n",
       "love       0.0114304559 2.485361e-02 2.106621e-01 6.409399e-03 1.964936e-01\n",
       "listen     0.0030238827 2.191587e-04 3.255226e-03 1.299873e-02 2.694696e-02\n",
       "new        0.0015717486 1.109080e-02 9.495057e-04 5.184481e-04 6.939281e-03\n",
       "via        0.0019456344 6.766578e-03 4.149131e-03 1.684475e-02 2.527013e-01\n",
       "one        0.0012275678 9.235274e-03 3.101552e-03 5.045777e-07 2.544057e-02\n",
       "smoke      0.0016585069 2.305600e-02 3.121685e-04 9.638496e-03 7.056805e-04\n",
       "play       0.0017090292 8.534583e-03 3.741283e-03 1.515496e-02 2.406039e-02\n",
       "go         0.0017509293 1.021089e-02 1.344648e-03 2.143151e-03 3.192220e-05\n",
       "make       0.0017909822 9.651028e-03 2.201237e-03 3.018920e-04 1.943357e-03\n",
       "get        0.0017102467 1.239573e-05 1.067122e-03 1.000624e-03 8.578105e-03\n",
       "day        0.0014728439 7.369039e-04 2.277254e-03 5.901517e-03 1.624590e-03\n",
       "radio      0.0016859956 2.612571e-04 3.034798e-03 5.447940e-03 1.561436e-04\n",
       "album      0.0013354143 5.364610e-04 8.474853e-04 7.814161e-04 2.280727e-05\n",
       "got        0.0011198568 9.560482e-04 2.752785e-03 2.882626e-03 1.555850e-01\n",
       "know       0.0366053483 2.846591e-03 8.651814e-04 9.539245e-04 3.686967e-03\n",
       "best       0.0012928236 3.317020e-03 1.570898e-03 1.959990e-03 5.024368e-04\n",
       "good       0.0005208651 5.335122e-04 1.477121e-03 8.176989e-04 2.100508e-03\n",
       "let        0.0007858569 9.385885e-03 1.266490e-03 2.649520e-03 3.381581e-03\n",
       "want       0.0003201855 1.028412e-02 5.160502e-05 3.931393e-04 6.330989e-05\n",
       "live       0.0005346371 1.412014e-03 1.303704e-03 4.873161e-05 6.461314e-04\n",
       "...        ...          ...          ...          ...          ...         \n",
       "wrong      2.993369e-04 1.348594e-03 4.416569e-04 1.496806e-03 8.066419e-03\n",
       "quot       4.033201e-04 1.385964e-03 4.027627e-04 1.042514e-03 1.110908e-02\n",
       "unit       6.788494e-04 1.216706e-03 4.226833e-03 3.299856e-02 1.390650e+00\n",
       "legend     2.718009e-04 2.003437e-03 2.445525e-02 1.852286e-04 1.712226e-04\n",
       "hate       3.145719e-04 1.769567e-03 2.033061e-04 2.362171e-04 1.767815e-04\n",
       "air        2.169859e-04 9.327831e-03 7.878483e-03 2.905258e-03 3.226867e+01\n",
       "amaz       3.654703e-04 5.356030e-04 1.857775e-04 2.186346e-04 2.606704e-03\n",
       "shatta     2.602012e-04 8.618406e-06 5.230856e-04 5.480843e-04 9.166826e-06\n",
       "cut        3.531465e-04 1.891243e-03 5.791187e-04 1.593026e-03 1.409738e-03\n",
       "late       2.911658e-04 1.016939e-03 7.418879e-03 8.695287e-04 2.068558e-03\n",
       "deep       7.703609e-05 9.851321e-04 4.037640e-04 3.826066e-04 1.781731e-03\n",
       "suppos     2.673893e-04 2.127239e-03 3.478517e-05 1.057112e-03 1.941334e-04\n",
       "tf         2.801977e-04 3.339462e-03 2.303328e-04 2.322154e-05 5.041326e-03\n",
       "banton     3.565841e-04 1.861873e-05 2.365407e-04 2.713808e-04 1.054205e-03\n",
       "polit      2.089593e-05 1.332377e-03 7.071959e-04 2.582549e-03 1.000726e-02\n",
       "zoo        3.491638e-04 3.763887e-03 2.218292e-04 8.989425e-05 4.204305e-03\n",
       "almost     1.661165e-04 2.212818e-04 3.594193e-04 3.088617e-03 2.628931e-04\n",
       "appreci    1.163055e-04 9.183409e-04 6.605359e-05 3.559542e-03 1.542905e-02\n",
       "adult      3.945686e-06 1.375147e-03 8.683270e-04 5.194476e-02 1.267536e-02\n",
       "bruh       2.654890e-05 5.411391e-01 9.754460e+01 1.897207e-02 2.503654e-02\n",
       "loyal      1.888704e-03 2.875763e+01 1.612413e-01 3.349015e-02 2.838515e-03\n",
       "flame      1.888704e-03 2.875763e+01 1.612413e-01 3.349015e-02 2.838515e-03\n",
       "partyalldj 6.658543e-05 1.612070e-03 3.430416e-04 4.543575e-04 7.942102e-03\n",
       "variou     1.971545e-04 1.117506e-04 8.359101e-06 5.509471e-04 5.836111e-03\n",
       "tast       3.477234e-04 5.227196e-04 5.227506e-04 1.305113e-03 3.994026e-02\n",
       "heart      4.455908e-04 1.163669e-03 5.844126e-04 2.063278e-03 1.839640e-02\n",
       "care       3.010998e-04 2.482301e-03 4.739936e-04 1.083337e-03 1.468478e-02\n",
       "X50s       3.858407e-04 2.360101e-03 1.505239e-03 1.497654e-03 7.158740e-03\n",
       "royalti    1.474123e-04 3.462486e-03 2.200578e-04 1.393775e-06 7.626514e-02\n",
       "twitter    4.078605e-05 1.582667e-03 4.471684e-04 4.421649e-04 2.445427e-04\n",
       "           Dim 6        Dim 7        Dim 8       \n",
       "rock       0.0508817858 0.6791384633 0.340029251 \n",
       "roll       0.0483064734 0.7336680402 0.377955303 \n",
       "rap        0.1471091000 0.3166016318 0.331746145 \n",
       "regga      0.0553879382 0.0020895435 0.023612636 \n",
       "pop        0.0053164892 0.2212098499 0.177442405 \n",
       "jazz       0.3966246366 0.1718088024 0.172026161 \n",
       "music      0.0039533690 0.0093884246 0.006160242 \n",
       "song       0.0180223920 0.0345964501 0.067912351 \n",
       "like       0.0021425511 0.1712643607 0.012289366 \n",
       "nowplay    0.0223994000 0.1040583014 0.007526254 \n",
       "love       0.0208280074 0.1069500491 0.026260350 \n",
       "listen     0.0523058756 0.0006460657 0.018725750 \n",
       "new        0.0001879624 0.0226837490 0.011951887 \n",
       "via        0.0005542715 0.3145492460 0.171091974 \n",
       "one        0.0978001544 0.1027583929 0.006789863 \n",
       "smoke      0.0013495125 0.1447339745 0.150641590 \n",
       "play       0.0001223186 0.0608137205 0.008267047 \n",
       "go         0.0184774389 0.0177690182 0.028439783 \n",
       "make       0.0085498537 0.0246406497 0.027529507 \n",
       "get        0.0200934162 0.0040165808 0.006791943 \n",
       "day        0.0062408430 0.0013611619 0.002945984 \n",
       "radio      0.0160400464 0.0102635983 0.002085331 \n",
       "album      0.0001076647 0.0051231734 0.001795420 \n",
       "got        0.0206791915 0.0110425500 0.027402241 \n",
       "know       0.0125568095 0.0062633260 0.004443092 \n",
       "best       0.0018666409 0.0090613622 0.016955186 \n",
       "good       0.0044193536 0.0293920828 0.008220279 \n",
       "let        0.0045374048 0.0083614650 0.007559430 \n",
       "want       0.0138551133 0.0228042449 0.026570335 \n",
       "live       0.0022071348 0.0003881095 0.002542953 \n",
       "...        ...          ...          ...         \n",
       "wrong      8.296051e-04 1.038923e-02 1.123191e-02\n",
       "quot       5.940602e-03 2.952031e-04 7.558835e-04\n",
       "unit       2.566822e+00 1.819782e+01 3.057199e+01\n",
       "legend     1.817945e-03 2.682897e-04 1.458837e-03\n",
       "hate       5.366658e-03 2.292169e-02 4.974558e-04\n",
       "air        8.731507e+00 1.529604e-01 1.653151e+00\n",
       "amaz       8.091106e-04 4.235521e-03 1.759682e-03\n",
       "shatta     2.191000e-03 7.338954e-04 1.355156e-03\n",
       "cut        9.732315e-04 3.621701e-05 8.370705e-06\n",
       "late       8.906178e-03 1.519541e-03 3.398111e-03\n",
       "deep       6.708253e-04 1.605832e-03 3.581670e-06\n",
       "suppos     4.667087e-03 9.584984e-03 4.187428e-03\n",
       "tf         3.557679e-03 2.867369e-02 2.245854e-02\n",
       "banton     2.851028e-04 1.754359e-03 8.397675e-03\n",
       "polit      3.005996e-03 9.095543e-03 2.343899e-03\n",
       "zoo        3.117769e-02 5.818867e-02 4.893891e-02\n",
       "almost     2.873144e-03 4.537109e-03 2.535553e-03\n",
       "appreci    7.807263e-05 2.333302e-03 2.581282e-04\n",
       "adult      8.588633e-04 1.517854e-02 5.052877e-03\n",
       "bruh       2.594133e-02 2.063768e-03 7.550503e-03\n",
       "loyal      1.247262e-02 9.817040e-03 6.331739e-07\n",
       "flame      1.247262e-02 9.817040e-03 6.331739e-07\n",
       "partyalldj 1.191009e-03 6.804029e-04 5.074698e-03\n",
       "variou     6.256497e-03 1.371664e-03 1.350848e-04\n",
       "tast       2.064621e-03 1.941347e-04 3.129693e-03\n",
       "heart      2.691390e-03 2.673976e-04 1.431966e-03\n",
       "care       1.900011e-04 5.186384e-02 1.110997e-04\n",
       "X50s       1.749181e-04 3.796875e-02 5.609968e-03\n",
       "royalti    2.605338e-03 2.404871e-03 1.214081e-02\n",
       "twitter    1.068134e-03 9.025254e-04 2.338680e-03"
      ]
     },
     "metadata": {},
     "output_type": "display_data"
    }
   ],
   "source": [
    "col$contrib"
   ]
  },
  {
   "cell_type": "markdown",
   "metadata": {},
   "source": [
    "### Etude Cosinus Carré (coord grande et cos2 proche de 1 => mieux represente)"
   ]
  },
  {
   "cell_type": "code",
   "execution_count": 17,
   "metadata": {},
   "outputs": [
    {
     "data": {
      "text/html": [
       "<table>\n",
       "<caption>A matrix: 450 × 8 of type dbl</caption>\n",
       "<thead>\n",
       "\t<tr><th></th><th scope=col>Dim 1</th><th scope=col>Dim 2</th><th scope=col>Dim 3</th><th scope=col>Dim 4</th><th scope=col>Dim 5</th><th scope=col>Dim 6</th><th scope=col>Dim 7</th><th scope=col>Dim 8</th></tr>\n",
       "</thead>\n",
       "<tbody>\n",
       "\t<tr><th scope=row>rock</th><td>4.505452e-04</td><td>1.188251e-03</td><td>5.613174e-04</td><td>2.686289e-03</td><td>5.095984e-02</td><td>1.970158e-03</td><td>2.604288e-02</td><td>1.296844e-02</td></tr>\n",
       "\t<tr><th scope=row>roll</th><td>4.219270e-04</td><td>1.486973e-03</td><td>5.430241e-04</td><td>2.643508e-03</td><td>4.898996e-02</td><td>1.688893e-03</td><td>2.540319e-02</td><td>1.301577e-02</td></tr>\n",
       "\t<tr><th scope=row>rap</th><td>2.143337e-04</td><td>1.714293e-04</td><td>1.036587e-03</td><td>2.270793e-04</td><td>1.135251e-04</td><td>4.199567e-03</td><td>8.950967e-03</td><td>9.328321e-03</td></tr>\n",
       "\t<tr><th scope=row>regga</th><td>1.982851e-04</td><td>6.871483e-05</td><td>2.828638e-04</td><td>2.111408e-04</td><td>1.737676e-04</td><td>1.900018e-03</td><td>7.098814e-05</td><td>7.978470e-04</td></tr>\n",
       "\t<tr><th scope=row>pop</th><td>1.681881e-04</td><td>2.184712e-03</td><td>1.459419e-04</td><td>9.444230e-05</td><td>2.587664e-03</td><td>2.178848e-04</td><td>8.978388e-03</td><td>7.162953e-03</td></tr>\n",
       "\t<tr><th scope=row>jazz</th><td>1.079256e-04</td><td>3.194816e-05</td><td>1.582961e-04</td><td>5.735060e-04</td><td>5.460005e-02</td><td>8.752033e-03</td><td>3.754625e-03</td><td>3.739008e-03</td></tr>\n",
       "\t<tr><th scope=row>music</th><td>6.365327e-05</td><td>6.354025e-05</td><td>1.175171e-04</td><td>4.050894e-04</td><td>8.266259e-05</td><td>1.778771e-04</td><td>4.183476e-04</td><td>2.730128e-04</td></tr>\n",
       "\t<tr><th scope=row>song</th><td>1.028131e-04</td><td>1.874394e-04</td><td>9.271395e-06</td><td>1.633832e-04</td><td>1.337130e-04</td><td>5.588744e-04</td><td>1.062491e-03</td><td>2.074355e-03</td></tr>\n",
       "\t<tr><th scope=row>like</th><td>1.227552e-04</td><td>6.521156e-04</td><td>9.411915e-05</td><td>1.183390e-04</td><td>7.639075e-04</td><td>8.162560e-05</td><td>6.461808e-03</td><td>4.611660e-04</td></tr>\n",
       "\t<tr><th scope=row>nowplay</th><td>1.522438e-04</td><td>5.354854e-03</td><td>1.063834e-04</td><td>5.014226e-04</td><td>2.128069e-03</td><td>8.377032e-04</td><td>3.854095e-03</td><td>2.772460e-04</td></tr>\n",
       "\t<tr><th scope=row>love</th><td>4.763795e-04</td><td>9.359163e-04</td><td>7.828046e-03</td><td>2.297401e-04</td><td>6.681613e-03</td><td>7.023902e-04</td><td>3.571935e-03</td><td>8.722958e-04</td></tr>\n",
       "\t<tr><th scope=row>listen</th><td>1.345100e-04</td><td>8.808585e-06</td><td>1.291065e-04</td><td>4.973021e-04</td><td>9.780085e-04</td><td>1.882700e-03</td><td>2.303028e-05</td><td>6.638997e-04</td></tr>\n",
       "\t<tr><th scope=row>new</th><td>7.506587e-05</td><td>4.786086e-04</td><td>4.043286e-05</td><td>2.129584e-05</td><td>2.704066e-04</td><td>7.263928e-06</td><td>8.681751e-04</td><td>4.549563e-04</td></tr>\n",
       "\t<tr><th scope=row>via</th><td>7.570140e-05</td><td>2.378865e-04</td><td>1.439386e-04</td><td>5.636859e-04</td><td>8.022202e-03</td><td>1.745044e-05</td><td>9.807637e-03</td><td>5.305742e-03</td></tr>\n",
       "\t<tr><th scope=row>one</th><td>3.761367e-05</td><td>2.556867e-04</td><td>8.473381e-05</td><td>1.329714e-08</td><td>6.360197e-04</td><td>2.424828e-03</td><td>2.523194e-03</td><td>1.658193e-04</td></tr>\n",
       "\t<tr><th scope=row>smoke</th><td>6.631394e-05</td><td>8.329704e-04</td><td>1.112895e-05</td><td>3.314567e-04</td><td>2.302179e-05</td><td>4.366220e-05</td><td>4.637576e-03</td><td>4.800718e-03</td></tr>\n",
       "\t<tr><th scope=row>play</th><td>7.539305e-05</td><td>3.401905e-04</td><td>1.471566e-04</td><td>5.749984e-04</td><td>8.660201e-04</td><td>4.366321e-06</td><td>2.149891e-03</td><td>2.906739e-04</td></tr>\n",
       "\t<tr><th scope=row>go</th><td>4.978434e-05</td><td>2.623288e-04</td><td>3.408869e-05</td><td>5.240912e-05</td><td>7.405603e-07</td><td>4.251157e-04</td><td>4.048747e-04</td><td>6.445020e-04</td></tr>\n",
       "\t<tr><th scope=row>make</th><td>6.692373e-05</td><td>3.258521e-04</td><td>7.333868e-05</td><td>9.702206e-06</td><td>5.924953e-05</td><td>2.585168e-04</td><td>7.378601e-04</td><td>8.199004e-04</td></tr>\n",
       "\t<tr><th scope=row>get</th><td>6.914075e-05</td><td>4.527991e-07</td><td>3.846508e-05</td><td>3.479175e-05</td><td>2.829503e-04</td><td>6.573101e-04</td><td>1.301262e-04</td><td>2.188483e-04</td></tr>\n",
       "\t<tr><th scope=row>day</th><td>6.547739e-05</td><td>2.960080e-05</td><td>9.026586e-05</td><td>2.256463e-04</td><td>5.892800e-05</td><td>2.245014e-04</td><td>4.849282e-05</td><td>1.043852e-04</td></tr>\n",
       "\t<tr><th scope=row>radio</th><td>8.089457e-05</td><td>1.132633e-05</td><td>1.298286e-04</td><td>2.248150e-04</td><td>6.112665e-06</td><td>6.227443e-04</td><td>3.946350e-04</td><td>7.974652e-05</td></tr>\n",
       "\t<tr><th scope=row>album</th><td>5.266024e-05</td><td>1.911450e-05</td><td>2.979726e-05</td><td>2.650203e-05</td><td>7.338100e-07</td><td>3.435432e-06</td><td>1.618970e-04</td><td>5.642956e-05</td></tr>\n",
       "\t<tr><th scope=row>got</th><td>3.667891e-05</td><td>2.829383e-05</td><td>8.039031e-05</td><td>8.120301e-05</td><td>4.157815e-03</td><td>5.480607e-04</td><td>2.898387e-04</td><td>7.153421e-04</td></tr>\n",
       "\t<tr><th scope=row>know</th><td>1.442042e-03</td><td>1.013250e-04</td><td>3.038911e-05</td><td>3.232045e-05</td><td>1.185076e-04</td><td>4.002708e-04</td><td>1.977295e-04</td><td>1.395059e-04</td></tr>\n",
       "\t<tr><th scope=row>best</th><td>5.604709e-05</td><td>1.299332e-04</td><td>6.072104e-05</td><td>7.307985e-05</td><td>1.777210e-05</td><td>6.548107e-05</td><td>3.148041e-04</td><td>5.858550e-04</td></tr>\n",
       "\t<tr><th scope=row>good</th><td>2.236147e-05</td><td>2.069558e-05</td><td>5.654168e-05</td><td>3.019246e-05</td><td>7.357716e-05</td><td>1.535236e-04</td><td>1.011203e-03</td><td>2.812778e-04</td></tr>\n",
       "\t<tr><th scope=row>let</th><td>2.910536e-05</td><td>3.140963e-04</td><td>4.182238e-05</td><td>8.439694e-05</td><td>1.021863e-04</td><td>1.359810e-04</td><td>2.481675e-04</td><td>2.231477e-04</td></tr>\n",
       "\t<tr><th scope=row>want</th><td>9.388623e-06</td><td>2.724741e-04</td><td>1.349179e-06</td><td>9.914632e-06</td><td>1.514660e-06</td><td>3.287392e-04</td><td>5.358570e-04</td><td>6.209705e-04</td></tr>\n",
       "\t<tr><th scope=row>live</th><td>1.717380e-05</td><td>4.098305e-05</td><td>3.733909e-05</td><td>1.346319e-06</td><td>1.693447e-05</td><td>5.736900e-05</td><td>9.990668e-06</td><td>6.510574e-05</td></tr>\n",
       "\t<tr><th scope=row>...</th><td>...</td><td>...</td><td>...</td><td>...</td><td>...</td><td>...</td><td>...</td><td>...</td></tr>\n",
       "\t<tr><th scope=row>wrong</th><td>1.020918e-05</td><td>4.155946e-05</td><td>1.343052e-05</td><td>4.390623e-05</td><td>2.244682e-04</td><td>2.289513e-05</td><td>2.839534e-04</td><td>3.053218e-04</td></tr>\n",
       "\t<tr><th scope=row>quot</th><td>8.183695e-06</td><td>2.541028e-05</td><td>7.286621e-06</td><td>1.819330e-05</td><td>1.839167e-04</td><td>9.753741e-05</td><td>4.800136e-06</td><td>1.222442e-05</td></tr>\n",
       "\t<tr><th scope=row>unit</th><td>1.103592e-05</td><td>1.787223e-05</td><td>6.126714e-05</td><td>4.613814e-04</td><td>1.844575e-02</td><td>3.376541e-02</td><td>2.370760e-01</td><td>3.961253e-01</td></tr>\n",
       "\t<tr><th scope=row>legend</th><td>7.560957e-06</td><td>5.035697e-05</td><td>6.065622e-04</td><td>4.431632e-06</td><td>3.886246e-06</td><td>4.092113e-05</td><td>5.980849e-06</td><td>3.234494e-05</td></tr>\n",
       "\t<tr><th scope=row>hate</th><td>7.427688e-06</td><td>3.775364e-05</td><td>4.280175e-06</td><td>4.797058e-06</td><td>3.405759e-06</td><td>1.025366e-04</td><td>4.337239e-04</td><td>9.361857e-06</td></tr>\n",
       "\t<tr><th scope=row>air</th><td>2.848398e-06</td><td>1.106389e-04</td><td>9.221240e-05</td><td>3.280077e-05</td><td>3.456160e-01</td><td>9.274695e-02</td><td>1.609094e-03</td><td>1.729640e-02</td></tr>\n",
       "\t<tr><th scope=row>amaz</th><td>1.573177e-05</td><td>2.083178e-05</td><td>7.130105e-06</td><td>8.094207e-06</td><td>9.155047e-05</td><td>2.818217e-05</td><td>1.461051e-04</td><td>6.037170e-05</td></tr>\n",
       "\t<tr><th scope=row>shatta</th><td>1.080304e-05</td><td>3.233119e-07</td><td>1.936363e-05</td><td>1.957104e-05</td><td>3.105268e-07</td><td>7.360720e-05</td><td>2.441765e-05</td><td>4.484352e-05</td></tr>\n",
       "\t<tr><th scope=row>cut</th><td>1.112580e-05</td><td>5.383708e-05</td><td>1.626751e-05</td><td>4.316474e-05</td><td>3.623748e-05</td><td>2.481039e-05</td><td>9.143696e-07</td><td>2.101900e-07</td></tr>\n",
       "\t<tr><th scope=row>late</th><td>9.010331e-06</td><td>2.843502e-05</td><td>2.046992e-04</td><td>2.314271e-05</td><td>5.222898e-05</td><td>2.230144e-04</td><td>3.768303e-05</td><td>8.381306e-05</td></tr>\n",
       "\t<tr><th scope=row>deep</th><td>2.705384e-06</td><td>3.125987e-05</td><td>1.264269e-05</td><td>1.155625e-05</td><td>5.105287e-05</td><td>1.906274e-05</td><td>4.519265e-05</td><td>1.002522e-07</td></tr>\n",
       "\t<tr><th scope=row>suppos</th><td>9.691167e-06</td><td>6.966367e-05</td><td>1.124096e-06</td><td>3.295208e-05</td><td>5.740845e-06</td><td>1.368734e-04</td><td>2.783918e-04</td><td>1.209632e-04</td></tr>\n",
       "\t<tr><th scope=row>tf</th><td>6.427215e-06</td><td>6.921382e-05</td><td>4.710767e-06</td><td>4.581201e-07</td><td>9.435101e-05</td><td>6.603379e-05</td><td>5.270780e-04</td><td>4.105949e-04</td></tr>\n",
       "\t<tr><th scope=row>banton</th><td>1.681998e-05</td><td>7.935452e-07</td><td>9.948255e-06</td><td>1.100963e-05</td><td>4.057252e-05</td><td>1.088194e-05</td><td>6.631549e-05</td><td>3.157159e-04</td></tr>\n",
       "\t<tr><th scope=row>polit</th><td>4.455692e-07</td><td>2.567076e-05</td><td>1.344531e-05</td><td>4.736221e-05</td><td>1.741053e-04</td><td>5.186605e-05</td><td>1.554230e-04</td><td>3.983513e-05</td></tr>\n",
       "\t<tr><th scope=row>zoo</th><td>1.489180e-05</td><td>1.450482e-04</td><td>8.435561e-06</td><td>3.297462e-06</td><td>1.463038e-04</td><td>1.075977e-03</td><td>1.988792e-03</td><td>1.663589e-03</td></tr>\n",
       "\t<tr><th scope=row>almost</th><td>6.451480e-06</td><td>7.765156e-06</td><td>1.244587e-05</td><td>1.031669e-04</td><td>8.330463e-06</td><td>9.029111e-05</td><td>1.412078e-04</td><td>7.848613e-05</td></tr>\n",
       "\t<tr><th scope=row>appreci</th><td>2.299425e-06</td><td>1.640517e-05</td><td>1.164375e-06</td><td>6.052613e-05</td><td>2.488865e-04</td><td>1.248990e-06</td><td>3.696774e-05</td><td>4.067506e-06</td></tr>\n",
       "\t<tr><th scope=row>adult</th><td>1.064983e-07</td><td>3.353723e-05</td><td>2.089684e-05</td><td>1.205845e-03</td><td>2.791410e-04</td><td>1.875794e-05</td><td>3.283092e-04</td><td>1.087007e-04</td></tr>\n",
       "\t<tr><th scope=row>bruh</th><td>3.004006e-07</td><td>5.532497e-03</td><td>9.840901e-01</td><td>1.846286e-04</td><td>2.311384e-04</td><td>2.375131e-04</td><td>1.871320e-05</td><td>6.809322e-05</td></tr>\n",
       "\t<tr><th scope=row>loyal</th><td>6.366522e-05</td><td>8.758897e-01</td><td>4.846097e-03</td><td>9.709245e-04</td><td>7.806798e-05</td><td>3.402023e-04</td><td>2.651868e-04</td><td>1.701121e-08</td></tr>\n",
       "\t<tr><th scope=row>flame</th><td>6.366522e-05</td><td>8.758897e-01</td><td>4.846097e-03</td><td>9.709245e-04</td><td>7.806798e-05</td><td>3.402023e-04</td><td>2.651868e-04</td><td>1.701121e-08</td></tr>\n",
       "\t<tr><th scope=row>partyalldj</th><td>1.373083e-06</td><td>3.003722e-05</td><td>6.307276e-06</td><td>8.058334e-06</td><td>1.336277e-04</td><td>1.987347e-05</td><td>1.124390e-05</td><td>8.340682e-05</td></tr>\n",
       "\t<tr><th scope=row>variou</th><td>5.750388e-06</td><td>2.945089e-06</td><td>2.173840e-07</td><td>1.382071e-05</td><td>1.388857e-04</td><td>1.476600e-04</td><td>3.206058e-05</td><td>3.140297e-06</td></tr>\n",
       "\t<tr><th scope=row>tast</th><td>1.189174e-05</td><td>1.615245e-05</td><td>1.593982e-05</td><td>3.838748e-05</td><td>1.114463e-03</td><td>5.713377e-05</td><td>5.320441e-06</td><td>8.530746e-05</td></tr>\n",
       "\t<tr><th scope=row>heart</th><td>9.540154e-06</td><td>2.251161e-05</td><td>1.115620e-05</td><td>3.799328e-05</td><td>3.213627e-04</td><td>4.662694e-05</td><td>4.587855e-06</td><td>2.443575e-05</td></tr>\n",
       "\t<tr><th scope=row>care</th><td>9.868601e-06</td><td>7.351190e-05</td><td>1.385144e-05</td><td>3.053786e-05</td><td>3.926955e-04</td><td>5.038976e-06</td><td>1.362206e-03</td><td>2.902228e-06</td></tr>\n",
       "\t<tr><th scope=row>X50s</th><td>1.111453e-05</td><td>6.142874e-05</td><td>3.866036e-05</td><td>3.710433e-05</td><td>1.682531e-04</td><td>4.077171e-06</td><td>8.764805e-04</td><td>1.288004e-04</td></tr>\n",
       "\t<tr><th scope=row>royalti</th><td>4.159044e-06</td><td>8.826853e-05</td><td>5.535718e-06</td><td>3.382068e-08</td><td>1.755615e-03</td><td>5.947920e-05</td><td>5.437316e-05</td><td>2.730118e-04</td></tr>\n",
       "\t<tr><th scope=row>twitter</th><td>1.564353e-06</td><td>5.484926e-05</td><td>1.529226e-05</td><td>1.458604e-05</td><td>7.652815e-06</td><td>3.315050e-05</td><td>2.774058e-05</td><td>7.149368e-05</td></tr>\n",
       "</tbody>\n",
       "</table>\n"
      ],
      "text/latex": [
       "A matrix: 450 × 8 of type dbl\n",
       "\\begin{tabular}{r|llllllll}\n",
       "  & Dim 1 & Dim 2 & Dim 3 & Dim 4 & Dim 5 & Dim 6 & Dim 7 & Dim 8\\\\\n",
       "\\hline\n",
       "\trock & 4.505452e-04 & 1.188251e-03 & 5.613174e-04 & 2.686289e-03 & 5.095984e-02 & 1.970158e-03 & 2.604288e-02 & 1.296844e-02\\\\\n",
       "\troll & 4.219270e-04 & 1.486973e-03 & 5.430241e-04 & 2.643508e-03 & 4.898996e-02 & 1.688893e-03 & 2.540319e-02 & 1.301577e-02\\\\\n",
       "\trap & 2.143337e-04 & 1.714293e-04 & 1.036587e-03 & 2.270793e-04 & 1.135251e-04 & 4.199567e-03 & 8.950967e-03 & 9.328321e-03\\\\\n",
       "\tregga & 1.982851e-04 & 6.871483e-05 & 2.828638e-04 & 2.111408e-04 & 1.737676e-04 & 1.900018e-03 & 7.098814e-05 & 7.978470e-04\\\\\n",
       "\tpop & 1.681881e-04 & 2.184712e-03 & 1.459419e-04 & 9.444230e-05 & 2.587664e-03 & 2.178848e-04 & 8.978388e-03 & 7.162953e-03\\\\\n",
       "\tjazz & 1.079256e-04 & 3.194816e-05 & 1.582961e-04 & 5.735060e-04 & 5.460005e-02 & 8.752033e-03 & 3.754625e-03 & 3.739008e-03\\\\\n",
       "\tmusic & 6.365327e-05 & 6.354025e-05 & 1.175171e-04 & 4.050894e-04 & 8.266259e-05 & 1.778771e-04 & 4.183476e-04 & 2.730128e-04\\\\\n",
       "\tsong & 1.028131e-04 & 1.874394e-04 & 9.271395e-06 & 1.633832e-04 & 1.337130e-04 & 5.588744e-04 & 1.062491e-03 & 2.074355e-03\\\\\n",
       "\tlike & 1.227552e-04 & 6.521156e-04 & 9.411915e-05 & 1.183390e-04 & 7.639075e-04 & 8.162560e-05 & 6.461808e-03 & 4.611660e-04\\\\\n",
       "\tnowplay & 1.522438e-04 & 5.354854e-03 & 1.063834e-04 & 5.014226e-04 & 2.128069e-03 & 8.377032e-04 & 3.854095e-03 & 2.772460e-04\\\\\n",
       "\tlove & 4.763795e-04 & 9.359163e-04 & 7.828046e-03 & 2.297401e-04 & 6.681613e-03 & 7.023902e-04 & 3.571935e-03 & 8.722958e-04\\\\\n",
       "\tlisten & 1.345100e-04 & 8.808585e-06 & 1.291065e-04 & 4.973021e-04 & 9.780085e-04 & 1.882700e-03 & 2.303028e-05 & 6.638997e-04\\\\\n",
       "\tnew & 7.506587e-05 & 4.786086e-04 & 4.043286e-05 & 2.129584e-05 & 2.704066e-04 & 7.263928e-06 & 8.681751e-04 & 4.549563e-04\\\\\n",
       "\tvia & 7.570140e-05 & 2.378865e-04 & 1.439386e-04 & 5.636859e-04 & 8.022202e-03 & 1.745044e-05 & 9.807637e-03 & 5.305742e-03\\\\\n",
       "\tone & 3.761367e-05 & 2.556867e-04 & 8.473381e-05 & 1.329714e-08 & 6.360197e-04 & 2.424828e-03 & 2.523194e-03 & 1.658193e-04\\\\\n",
       "\tsmoke & 6.631394e-05 & 8.329704e-04 & 1.112895e-05 & 3.314567e-04 & 2.302179e-05 & 4.366220e-05 & 4.637576e-03 & 4.800718e-03\\\\\n",
       "\tplay & 7.539305e-05 & 3.401905e-04 & 1.471566e-04 & 5.749984e-04 & 8.660201e-04 & 4.366321e-06 & 2.149891e-03 & 2.906739e-04\\\\\n",
       "\tgo & 4.978434e-05 & 2.623288e-04 & 3.408869e-05 & 5.240912e-05 & 7.405603e-07 & 4.251157e-04 & 4.048747e-04 & 6.445020e-04\\\\\n",
       "\tmake & 6.692373e-05 & 3.258521e-04 & 7.333868e-05 & 9.702206e-06 & 5.924953e-05 & 2.585168e-04 & 7.378601e-04 & 8.199004e-04\\\\\n",
       "\tget & 6.914075e-05 & 4.527991e-07 & 3.846508e-05 & 3.479175e-05 & 2.829503e-04 & 6.573101e-04 & 1.301262e-04 & 2.188483e-04\\\\\n",
       "\tday & 6.547739e-05 & 2.960080e-05 & 9.026586e-05 & 2.256463e-04 & 5.892800e-05 & 2.245014e-04 & 4.849282e-05 & 1.043852e-04\\\\\n",
       "\tradio & 8.089457e-05 & 1.132633e-05 & 1.298286e-04 & 2.248150e-04 & 6.112665e-06 & 6.227443e-04 & 3.946350e-04 & 7.974652e-05\\\\\n",
       "\talbum & 5.266024e-05 & 1.911450e-05 & 2.979726e-05 & 2.650203e-05 & 7.338100e-07 & 3.435432e-06 & 1.618970e-04 & 5.642956e-05\\\\\n",
       "\tgot & 3.667891e-05 & 2.829383e-05 & 8.039031e-05 & 8.120301e-05 & 4.157815e-03 & 5.480607e-04 & 2.898387e-04 & 7.153421e-04\\\\\n",
       "\tknow & 1.442042e-03 & 1.013250e-04 & 3.038911e-05 & 3.232045e-05 & 1.185076e-04 & 4.002708e-04 & 1.977295e-04 & 1.395059e-04\\\\\n",
       "\tbest & 5.604709e-05 & 1.299332e-04 & 6.072104e-05 & 7.307985e-05 & 1.777210e-05 & 6.548107e-05 & 3.148041e-04 & 5.858550e-04\\\\\n",
       "\tgood & 2.236147e-05 & 2.069558e-05 & 5.654168e-05 & 3.019246e-05 & 7.357716e-05 & 1.535236e-04 & 1.011203e-03 & 2.812778e-04\\\\\n",
       "\tlet & 2.910536e-05 & 3.140963e-04 & 4.182238e-05 & 8.439694e-05 & 1.021863e-04 & 1.359810e-04 & 2.481675e-04 & 2.231477e-04\\\\\n",
       "\twant & 9.388623e-06 & 2.724741e-04 & 1.349179e-06 & 9.914632e-06 & 1.514660e-06 & 3.287392e-04 & 5.358570e-04 & 6.209705e-04\\\\\n",
       "\tlive & 1.717380e-05 & 4.098305e-05 & 3.733909e-05 & 1.346319e-06 & 1.693447e-05 & 5.736900e-05 & 9.990668e-06 & 6.510574e-05\\\\\n",
       "\t... & ... & ... & ... & ... & ... & ... & ... & ...\\\\\n",
       "\twrong & 1.020918e-05 & 4.155946e-05 & 1.343052e-05 & 4.390623e-05 & 2.244682e-04 & 2.289513e-05 & 2.839534e-04 & 3.053218e-04\\\\\n",
       "\tquot & 8.183695e-06 & 2.541028e-05 & 7.286621e-06 & 1.819330e-05 & 1.839167e-04 & 9.753741e-05 & 4.800136e-06 & 1.222442e-05\\\\\n",
       "\tunit & 1.103592e-05 & 1.787223e-05 & 6.126714e-05 & 4.613814e-04 & 1.844575e-02 & 3.376541e-02 & 2.370760e-01 & 3.961253e-01\\\\\n",
       "\tlegend & 7.560957e-06 & 5.035697e-05 & 6.065622e-04 & 4.431632e-06 & 3.886246e-06 & 4.092113e-05 & 5.980849e-06 & 3.234494e-05\\\\\n",
       "\thate & 7.427688e-06 & 3.775364e-05 & 4.280175e-06 & 4.797058e-06 & 3.405759e-06 & 1.025366e-04 & 4.337239e-04 & 9.361857e-06\\\\\n",
       "\tair & 2.848398e-06 & 1.106389e-04 & 9.221240e-05 & 3.280077e-05 & 3.456160e-01 & 9.274695e-02 & 1.609094e-03 & 1.729640e-02\\\\\n",
       "\tamaz & 1.573177e-05 & 2.083178e-05 & 7.130105e-06 & 8.094207e-06 & 9.155047e-05 & 2.818217e-05 & 1.461051e-04 & 6.037170e-05\\\\\n",
       "\tshatta & 1.080304e-05 & 3.233119e-07 & 1.936363e-05 & 1.957104e-05 & 3.105268e-07 & 7.360720e-05 & 2.441765e-05 & 4.484352e-05\\\\\n",
       "\tcut & 1.112580e-05 & 5.383708e-05 & 1.626751e-05 & 4.316474e-05 & 3.623748e-05 & 2.481039e-05 & 9.143696e-07 & 2.101900e-07\\\\\n",
       "\tlate & 9.010331e-06 & 2.843502e-05 & 2.046992e-04 & 2.314271e-05 & 5.222898e-05 & 2.230144e-04 & 3.768303e-05 & 8.381306e-05\\\\\n",
       "\tdeep & 2.705384e-06 & 3.125987e-05 & 1.264269e-05 & 1.155625e-05 & 5.105287e-05 & 1.906274e-05 & 4.519265e-05 & 1.002522e-07\\\\\n",
       "\tsuppos & 9.691167e-06 & 6.966367e-05 & 1.124096e-06 & 3.295208e-05 & 5.740845e-06 & 1.368734e-04 & 2.783918e-04 & 1.209632e-04\\\\\n",
       "\ttf & 6.427215e-06 & 6.921382e-05 & 4.710767e-06 & 4.581201e-07 & 9.435101e-05 & 6.603379e-05 & 5.270780e-04 & 4.105949e-04\\\\\n",
       "\tbanton & 1.681998e-05 & 7.935452e-07 & 9.948255e-06 & 1.100963e-05 & 4.057252e-05 & 1.088194e-05 & 6.631549e-05 & 3.157159e-04\\\\\n",
       "\tpolit & 4.455692e-07 & 2.567076e-05 & 1.344531e-05 & 4.736221e-05 & 1.741053e-04 & 5.186605e-05 & 1.554230e-04 & 3.983513e-05\\\\\n",
       "\tzoo & 1.489180e-05 & 1.450482e-04 & 8.435561e-06 & 3.297462e-06 & 1.463038e-04 & 1.075977e-03 & 1.988792e-03 & 1.663589e-03\\\\\n",
       "\talmost & 6.451480e-06 & 7.765156e-06 & 1.244587e-05 & 1.031669e-04 & 8.330463e-06 & 9.029111e-05 & 1.412078e-04 & 7.848613e-05\\\\\n",
       "\tappreci & 2.299425e-06 & 1.640517e-05 & 1.164375e-06 & 6.052613e-05 & 2.488865e-04 & 1.248990e-06 & 3.696774e-05 & 4.067506e-06\\\\\n",
       "\tadult & 1.064983e-07 & 3.353723e-05 & 2.089684e-05 & 1.205845e-03 & 2.791410e-04 & 1.875794e-05 & 3.283092e-04 & 1.087007e-04\\\\\n",
       "\tbruh & 3.004006e-07 & 5.532497e-03 & 9.840901e-01 & 1.846286e-04 & 2.311384e-04 & 2.375131e-04 & 1.871320e-05 & 6.809322e-05\\\\\n",
       "\tloyal & 6.366522e-05 & 8.758897e-01 & 4.846097e-03 & 9.709245e-04 & 7.806798e-05 & 3.402023e-04 & 2.651868e-04 & 1.701121e-08\\\\\n",
       "\tflame & 6.366522e-05 & 8.758897e-01 & 4.846097e-03 & 9.709245e-04 & 7.806798e-05 & 3.402023e-04 & 2.651868e-04 & 1.701121e-08\\\\\n",
       "\tpartyalldj & 1.373083e-06 & 3.003722e-05 & 6.307276e-06 & 8.058334e-06 & 1.336277e-04 & 1.987347e-05 & 1.124390e-05 & 8.340682e-05\\\\\n",
       "\tvariou & 5.750388e-06 & 2.945089e-06 & 2.173840e-07 & 1.382071e-05 & 1.388857e-04 & 1.476600e-04 & 3.206058e-05 & 3.140297e-06\\\\\n",
       "\ttast & 1.189174e-05 & 1.615245e-05 & 1.593982e-05 & 3.838748e-05 & 1.114463e-03 & 5.713377e-05 & 5.320441e-06 & 8.530746e-05\\\\\n",
       "\theart & 9.540154e-06 & 2.251161e-05 & 1.115620e-05 & 3.799328e-05 & 3.213627e-04 & 4.662694e-05 & 4.587855e-06 & 2.443575e-05\\\\\n",
       "\tcare & 9.868601e-06 & 7.351190e-05 & 1.385144e-05 & 3.053786e-05 & 3.926955e-04 & 5.038976e-06 & 1.362206e-03 & 2.902228e-06\\\\\n",
       "\tX50s & 1.111453e-05 & 6.142874e-05 & 3.866036e-05 & 3.710433e-05 & 1.682531e-04 & 4.077171e-06 & 8.764805e-04 & 1.288004e-04\\\\\n",
       "\troyalti & 4.159044e-06 & 8.826853e-05 & 5.535718e-06 & 3.382068e-08 & 1.755615e-03 & 5.947920e-05 & 5.437316e-05 & 2.730118e-04\\\\\n",
       "\ttwitter & 1.564353e-06 & 5.484926e-05 & 1.529226e-05 & 1.458604e-05 & 7.652815e-06 & 3.315050e-05 & 2.774058e-05 & 7.149368e-05\\\\\n",
       "\\end{tabular}\n"
      ],
      "text/markdown": [
       "\n",
       "A matrix: 450 × 8 of type dbl\n",
       "\n",
       "| <!--/--> | Dim 1 | Dim 2 | Dim 3 | Dim 4 | Dim 5 | Dim 6 | Dim 7 | Dim 8 |\n",
       "|---|---|---|---|---|---|---|---|---|\n",
       "| rock | 4.505452e-04 | 1.188251e-03 | 5.613174e-04 | 2.686289e-03 | 5.095984e-02 | 1.970158e-03 | 2.604288e-02 | 1.296844e-02 |\n",
       "| roll | 4.219270e-04 | 1.486973e-03 | 5.430241e-04 | 2.643508e-03 | 4.898996e-02 | 1.688893e-03 | 2.540319e-02 | 1.301577e-02 |\n",
       "| rap | 2.143337e-04 | 1.714293e-04 | 1.036587e-03 | 2.270793e-04 | 1.135251e-04 | 4.199567e-03 | 8.950967e-03 | 9.328321e-03 |\n",
       "| regga | 1.982851e-04 | 6.871483e-05 | 2.828638e-04 | 2.111408e-04 | 1.737676e-04 | 1.900018e-03 | 7.098814e-05 | 7.978470e-04 |\n",
       "| pop | 1.681881e-04 | 2.184712e-03 | 1.459419e-04 | 9.444230e-05 | 2.587664e-03 | 2.178848e-04 | 8.978388e-03 | 7.162953e-03 |\n",
       "| jazz | 1.079256e-04 | 3.194816e-05 | 1.582961e-04 | 5.735060e-04 | 5.460005e-02 | 8.752033e-03 | 3.754625e-03 | 3.739008e-03 |\n",
       "| music | 6.365327e-05 | 6.354025e-05 | 1.175171e-04 | 4.050894e-04 | 8.266259e-05 | 1.778771e-04 | 4.183476e-04 | 2.730128e-04 |\n",
       "| song | 1.028131e-04 | 1.874394e-04 | 9.271395e-06 | 1.633832e-04 | 1.337130e-04 | 5.588744e-04 | 1.062491e-03 | 2.074355e-03 |\n",
       "| like | 1.227552e-04 | 6.521156e-04 | 9.411915e-05 | 1.183390e-04 | 7.639075e-04 | 8.162560e-05 | 6.461808e-03 | 4.611660e-04 |\n",
       "| nowplay | 1.522438e-04 | 5.354854e-03 | 1.063834e-04 | 5.014226e-04 | 2.128069e-03 | 8.377032e-04 | 3.854095e-03 | 2.772460e-04 |\n",
       "| love | 4.763795e-04 | 9.359163e-04 | 7.828046e-03 | 2.297401e-04 | 6.681613e-03 | 7.023902e-04 | 3.571935e-03 | 8.722958e-04 |\n",
       "| listen | 1.345100e-04 | 8.808585e-06 | 1.291065e-04 | 4.973021e-04 | 9.780085e-04 | 1.882700e-03 | 2.303028e-05 | 6.638997e-04 |\n",
       "| new | 7.506587e-05 | 4.786086e-04 | 4.043286e-05 | 2.129584e-05 | 2.704066e-04 | 7.263928e-06 | 8.681751e-04 | 4.549563e-04 |\n",
       "| via | 7.570140e-05 | 2.378865e-04 | 1.439386e-04 | 5.636859e-04 | 8.022202e-03 | 1.745044e-05 | 9.807637e-03 | 5.305742e-03 |\n",
       "| one | 3.761367e-05 | 2.556867e-04 | 8.473381e-05 | 1.329714e-08 | 6.360197e-04 | 2.424828e-03 | 2.523194e-03 | 1.658193e-04 |\n",
       "| smoke | 6.631394e-05 | 8.329704e-04 | 1.112895e-05 | 3.314567e-04 | 2.302179e-05 | 4.366220e-05 | 4.637576e-03 | 4.800718e-03 |\n",
       "| play | 7.539305e-05 | 3.401905e-04 | 1.471566e-04 | 5.749984e-04 | 8.660201e-04 | 4.366321e-06 | 2.149891e-03 | 2.906739e-04 |\n",
       "| go | 4.978434e-05 | 2.623288e-04 | 3.408869e-05 | 5.240912e-05 | 7.405603e-07 | 4.251157e-04 | 4.048747e-04 | 6.445020e-04 |\n",
       "| make | 6.692373e-05 | 3.258521e-04 | 7.333868e-05 | 9.702206e-06 | 5.924953e-05 | 2.585168e-04 | 7.378601e-04 | 8.199004e-04 |\n",
       "| get | 6.914075e-05 | 4.527991e-07 | 3.846508e-05 | 3.479175e-05 | 2.829503e-04 | 6.573101e-04 | 1.301262e-04 | 2.188483e-04 |\n",
       "| day | 6.547739e-05 | 2.960080e-05 | 9.026586e-05 | 2.256463e-04 | 5.892800e-05 | 2.245014e-04 | 4.849282e-05 | 1.043852e-04 |\n",
       "| radio | 8.089457e-05 | 1.132633e-05 | 1.298286e-04 | 2.248150e-04 | 6.112665e-06 | 6.227443e-04 | 3.946350e-04 | 7.974652e-05 |\n",
       "| album | 5.266024e-05 | 1.911450e-05 | 2.979726e-05 | 2.650203e-05 | 7.338100e-07 | 3.435432e-06 | 1.618970e-04 | 5.642956e-05 |\n",
       "| got | 3.667891e-05 | 2.829383e-05 | 8.039031e-05 | 8.120301e-05 | 4.157815e-03 | 5.480607e-04 | 2.898387e-04 | 7.153421e-04 |\n",
       "| know | 1.442042e-03 | 1.013250e-04 | 3.038911e-05 | 3.232045e-05 | 1.185076e-04 | 4.002708e-04 | 1.977295e-04 | 1.395059e-04 |\n",
       "| best | 5.604709e-05 | 1.299332e-04 | 6.072104e-05 | 7.307985e-05 | 1.777210e-05 | 6.548107e-05 | 3.148041e-04 | 5.858550e-04 |\n",
       "| good | 2.236147e-05 | 2.069558e-05 | 5.654168e-05 | 3.019246e-05 | 7.357716e-05 | 1.535236e-04 | 1.011203e-03 | 2.812778e-04 |\n",
       "| let | 2.910536e-05 | 3.140963e-04 | 4.182238e-05 | 8.439694e-05 | 1.021863e-04 | 1.359810e-04 | 2.481675e-04 | 2.231477e-04 |\n",
       "| want | 9.388623e-06 | 2.724741e-04 | 1.349179e-06 | 9.914632e-06 | 1.514660e-06 | 3.287392e-04 | 5.358570e-04 | 6.209705e-04 |\n",
       "| live | 1.717380e-05 | 4.098305e-05 | 3.733909e-05 | 1.346319e-06 | 1.693447e-05 | 5.736900e-05 | 9.990668e-06 | 6.510574e-05 |\n",
       "| ... | ... | ... | ... | ... | ... | ... | ... | ... |\n",
       "| wrong | 1.020918e-05 | 4.155946e-05 | 1.343052e-05 | 4.390623e-05 | 2.244682e-04 | 2.289513e-05 | 2.839534e-04 | 3.053218e-04 |\n",
       "| quot | 8.183695e-06 | 2.541028e-05 | 7.286621e-06 | 1.819330e-05 | 1.839167e-04 | 9.753741e-05 | 4.800136e-06 | 1.222442e-05 |\n",
       "| unit | 1.103592e-05 | 1.787223e-05 | 6.126714e-05 | 4.613814e-04 | 1.844575e-02 | 3.376541e-02 | 2.370760e-01 | 3.961253e-01 |\n",
       "| legend | 7.560957e-06 | 5.035697e-05 | 6.065622e-04 | 4.431632e-06 | 3.886246e-06 | 4.092113e-05 | 5.980849e-06 | 3.234494e-05 |\n",
       "| hate | 7.427688e-06 | 3.775364e-05 | 4.280175e-06 | 4.797058e-06 | 3.405759e-06 | 1.025366e-04 | 4.337239e-04 | 9.361857e-06 |\n",
       "| air | 2.848398e-06 | 1.106389e-04 | 9.221240e-05 | 3.280077e-05 | 3.456160e-01 | 9.274695e-02 | 1.609094e-03 | 1.729640e-02 |\n",
       "| amaz | 1.573177e-05 | 2.083178e-05 | 7.130105e-06 | 8.094207e-06 | 9.155047e-05 | 2.818217e-05 | 1.461051e-04 | 6.037170e-05 |\n",
       "| shatta | 1.080304e-05 | 3.233119e-07 | 1.936363e-05 | 1.957104e-05 | 3.105268e-07 | 7.360720e-05 | 2.441765e-05 | 4.484352e-05 |\n",
       "| cut | 1.112580e-05 | 5.383708e-05 | 1.626751e-05 | 4.316474e-05 | 3.623748e-05 | 2.481039e-05 | 9.143696e-07 | 2.101900e-07 |\n",
       "| late | 9.010331e-06 | 2.843502e-05 | 2.046992e-04 | 2.314271e-05 | 5.222898e-05 | 2.230144e-04 | 3.768303e-05 | 8.381306e-05 |\n",
       "| deep | 2.705384e-06 | 3.125987e-05 | 1.264269e-05 | 1.155625e-05 | 5.105287e-05 | 1.906274e-05 | 4.519265e-05 | 1.002522e-07 |\n",
       "| suppos | 9.691167e-06 | 6.966367e-05 | 1.124096e-06 | 3.295208e-05 | 5.740845e-06 | 1.368734e-04 | 2.783918e-04 | 1.209632e-04 |\n",
       "| tf | 6.427215e-06 | 6.921382e-05 | 4.710767e-06 | 4.581201e-07 | 9.435101e-05 | 6.603379e-05 | 5.270780e-04 | 4.105949e-04 |\n",
       "| banton | 1.681998e-05 | 7.935452e-07 | 9.948255e-06 | 1.100963e-05 | 4.057252e-05 | 1.088194e-05 | 6.631549e-05 | 3.157159e-04 |\n",
       "| polit | 4.455692e-07 | 2.567076e-05 | 1.344531e-05 | 4.736221e-05 | 1.741053e-04 | 5.186605e-05 | 1.554230e-04 | 3.983513e-05 |\n",
       "| zoo | 1.489180e-05 | 1.450482e-04 | 8.435561e-06 | 3.297462e-06 | 1.463038e-04 | 1.075977e-03 | 1.988792e-03 | 1.663589e-03 |\n",
       "| almost | 6.451480e-06 | 7.765156e-06 | 1.244587e-05 | 1.031669e-04 | 8.330463e-06 | 9.029111e-05 | 1.412078e-04 | 7.848613e-05 |\n",
       "| appreci | 2.299425e-06 | 1.640517e-05 | 1.164375e-06 | 6.052613e-05 | 2.488865e-04 | 1.248990e-06 | 3.696774e-05 | 4.067506e-06 |\n",
       "| adult | 1.064983e-07 | 3.353723e-05 | 2.089684e-05 | 1.205845e-03 | 2.791410e-04 | 1.875794e-05 | 3.283092e-04 | 1.087007e-04 |\n",
       "| bruh | 3.004006e-07 | 5.532497e-03 | 9.840901e-01 | 1.846286e-04 | 2.311384e-04 | 2.375131e-04 | 1.871320e-05 | 6.809322e-05 |\n",
       "| loyal | 6.366522e-05 | 8.758897e-01 | 4.846097e-03 | 9.709245e-04 | 7.806798e-05 | 3.402023e-04 | 2.651868e-04 | 1.701121e-08 |\n",
       "| flame | 6.366522e-05 | 8.758897e-01 | 4.846097e-03 | 9.709245e-04 | 7.806798e-05 | 3.402023e-04 | 2.651868e-04 | 1.701121e-08 |\n",
       "| partyalldj | 1.373083e-06 | 3.003722e-05 | 6.307276e-06 | 8.058334e-06 | 1.336277e-04 | 1.987347e-05 | 1.124390e-05 | 8.340682e-05 |\n",
       "| variou | 5.750388e-06 | 2.945089e-06 | 2.173840e-07 | 1.382071e-05 | 1.388857e-04 | 1.476600e-04 | 3.206058e-05 | 3.140297e-06 |\n",
       "| tast | 1.189174e-05 | 1.615245e-05 | 1.593982e-05 | 3.838748e-05 | 1.114463e-03 | 5.713377e-05 | 5.320441e-06 | 8.530746e-05 |\n",
       "| heart | 9.540154e-06 | 2.251161e-05 | 1.115620e-05 | 3.799328e-05 | 3.213627e-04 | 4.662694e-05 | 4.587855e-06 | 2.443575e-05 |\n",
       "| care | 9.868601e-06 | 7.351190e-05 | 1.385144e-05 | 3.053786e-05 | 3.926955e-04 | 5.038976e-06 | 1.362206e-03 | 2.902228e-06 |\n",
       "| X50s | 1.111453e-05 | 6.142874e-05 | 3.866036e-05 | 3.710433e-05 | 1.682531e-04 | 4.077171e-06 | 8.764805e-04 | 1.288004e-04 |\n",
       "| royalti | 4.159044e-06 | 8.826853e-05 | 5.535718e-06 | 3.382068e-08 | 1.755615e-03 | 5.947920e-05 | 5.437316e-05 | 2.730118e-04 |\n",
       "| twitter | 1.564353e-06 | 5.484926e-05 | 1.529226e-05 | 1.458604e-05 | 7.652815e-06 | 3.315050e-05 | 2.774058e-05 | 7.149368e-05 |\n",
       "\n"
      ],
      "text/plain": [
       "           Dim 1        Dim 2        Dim 3        Dim 4        Dim 5       \n",
       "rock       4.505452e-04 1.188251e-03 5.613174e-04 2.686289e-03 5.095984e-02\n",
       "roll       4.219270e-04 1.486973e-03 5.430241e-04 2.643508e-03 4.898996e-02\n",
       "rap        2.143337e-04 1.714293e-04 1.036587e-03 2.270793e-04 1.135251e-04\n",
       "regga      1.982851e-04 6.871483e-05 2.828638e-04 2.111408e-04 1.737676e-04\n",
       "pop        1.681881e-04 2.184712e-03 1.459419e-04 9.444230e-05 2.587664e-03\n",
       "jazz       1.079256e-04 3.194816e-05 1.582961e-04 5.735060e-04 5.460005e-02\n",
       "music      6.365327e-05 6.354025e-05 1.175171e-04 4.050894e-04 8.266259e-05\n",
       "song       1.028131e-04 1.874394e-04 9.271395e-06 1.633832e-04 1.337130e-04\n",
       "like       1.227552e-04 6.521156e-04 9.411915e-05 1.183390e-04 7.639075e-04\n",
       "nowplay    1.522438e-04 5.354854e-03 1.063834e-04 5.014226e-04 2.128069e-03\n",
       "love       4.763795e-04 9.359163e-04 7.828046e-03 2.297401e-04 6.681613e-03\n",
       "listen     1.345100e-04 8.808585e-06 1.291065e-04 4.973021e-04 9.780085e-04\n",
       "new        7.506587e-05 4.786086e-04 4.043286e-05 2.129584e-05 2.704066e-04\n",
       "via        7.570140e-05 2.378865e-04 1.439386e-04 5.636859e-04 8.022202e-03\n",
       "one        3.761367e-05 2.556867e-04 8.473381e-05 1.329714e-08 6.360197e-04\n",
       "smoke      6.631394e-05 8.329704e-04 1.112895e-05 3.314567e-04 2.302179e-05\n",
       "play       7.539305e-05 3.401905e-04 1.471566e-04 5.749984e-04 8.660201e-04\n",
       "go         4.978434e-05 2.623288e-04 3.408869e-05 5.240912e-05 7.405603e-07\n",
       "make       6.692373e-05 3.258521e-04 7.333868e-05 9.702206e-06 5.924953e-05\n",
       "get        6.914075e-05 4.527991e-07 3.846508e-05 3.479175e-05 2.829503e-04\n",
       "day        6.547739e-05 2.960080e-05 9.026586e-05 2.256463e-04 5.892800e-05\n",
       "radio      8.089457e-05 1.132633e-05 1.298286e-04 2.248150e-04 6.112665e-06\n",
       "album      5.266024e-05 1.911450e-05 2.979726e-05 2.650203e-05 7.338100e-07\n",
       "got        3.667891e-05 2.829383e-05 8.039031e-05 8.120301e-05 4.157815e-03\n",
       "know       1.442042e-03 1.013250e-04 3.038911e-05 3.232045e-05 1.185076e-04\n",
       "best       5.604709e-05 1.299332e-04 6.072104e-05 7.307985e-05 1.777210e-05\n",
       "good       2.236147e-05 2.069558e-05 5.654168e-05 3.019246e-05 7.357716e-05\n",
       "let        2.910536e-05 3.140963e-04 4.182238e-05 8.439694e-05 1.021863e-04\n",
       "want       9.388623e-06 2.724741e-04 1.349179e-06 9.914632e-06 1.514660e-06\n",
       "live       1.717380e-05 4.098305e-05 3.733909e-05 1.346319e-06 1.693447e-05\n",
       "...        ...          ...          ...          ...          ...         \n",
       "wrong      1.020918e-05 4.155946e-05 1.343052e-05 4.390623e-05 2.244682e-04\n",
       "quot       8.183695e-06 2.541028e-05 7.286621e-06 1.819330e-05 1.839167e-04\n",
       "unit       1.103592e-05 1.787223e-05 6.126714e-05 4.613814e-04 1.844575e-02\n",
       "legend     7.560957e-06 5.035697e-05 6.065622e-04 4.431632e-06 3.886246e-06\n",
       "hate       7.427688e-06 3.775364e-05 4.280175e-06 4.797058e-06 3.405759e-06\n",
       "air        2.848398e-06 1.106389e-04 9.221240e-05 3.280077e-05 3.456160e-01\n",
       "amaz       1.573177e-05 2.083178e-05 7.130105e-06 8.094207e-06 9.155047e-05\n",
       "shatta     1.080304e-05 3.233119e-07 1.936363e-05 1.957104e-05 3.105268e-07\n",
       "cut        1.112580e-05 5.383708e-05 1.626751e-05 4.316474e-05 3.623748e-05\n",
       "late       9.010331e-06 2.843502e-05 2.046992e-04 2.314271e-05 5.222898e-05\n",
       "deep       2.705384e-06 3.125987e-05 1.264269e-05 1.155625e-05 5.105287e-05\n",
       "suppos     9.691167e-06 6.966367e-05 1.124096e-06 3.295208e-05 5.740845e-06\n",
       "tf         6.427215e-06 6.921382e-05 4.710767e-06 4.581201e-07 9.435101e-05\n",
       "banton     1.681998e-05 7.935452e-07 9.948255e-06 1.100963e-05 4.057252e-05\n",
       "polit      4.455692e-07 2.567076e-05 1.344531e-05 4.736221e-05 1.741053e-04\n",
       "zoo        1.489180e-05 1.450482e-04 8.435561e-06 3.297462e-06 1.463038e-04\n",
       "almost     6.451480e-06 7.765156e-06 1.244587e-05 1.031669e-04 8.330463e-06\n",
       "appreci    2.299425e-06 1.640517e-05 1.164375e-06 6.052613e-05 2.488865e-04\n",
       "adult      1.064983e-07 3.353723e-05 2.089684e-05 1.205845e-03 2.791410e-04\n",
       "bruh       3.004006e-07 5.532497e-03 9.840901e-01 1.846286e-04 2.311384e-04\n",
       "loyal      6.366522e-05 8.758897e-01 4.846097e-03 9.709245e-04 7.806798e-05\n",
       "flame      6.366522e-05 8.758897e-01 4.846097e-03 9.709245e-04 7.806798e-05\n",
       "partyalldj 1.373083e-06 3.003722e-05 6.307276e-06 8.058334e-06 1.336277e-04\n",
       "variou     5.750388e-06 2.945089e-06 2.173840e-07 1.382071e-05 1.388857e-04\n",
       "tast       1.189174e-05 1.615245e-05 1.593982e-05 3.838748e-05 1.114463e-03\n",
       "heart      9.540154e-06 2.251161e-05 1.115620e-05 3.799328e-05 3.213627e-04\n",
       "care       9.868601e-06 7.351190e-05 1.385144e-05 3.053786e-05 3.926955e-04\n",
       "X50s       1.111453e-05 6.142874e-05 3.866036e-05 3.710433e-05 1.682531e-04\n",
       "royalti    4.159044e-06 8.826853e-05 5.535718e-06 3.382068e-08 1.755615e-03\n",
       "twitter    1.564353e-06 5.484926e-05 1.529226e-05 1.458604e-05 7.652815e-06\n",
       "           Dim 6        Dim 7        Dim 8       \n",
       "rock       1.970158e-03 2.604288e-02 1.296844e-02\n",
       "roll       1.688893e-03 2.540319e-02 1.301577e-02\n",
       "rap        4.199567e-03 8.950967e-03 9.328321e-03\n",
       "regga      1.900018e-03 7.098814e-05 7.978470e-04\n",
       "pop        2.178848e-04 8.978388e-03 7.162953e-03\n",
       "jazz       8.752033e-03 3.754625e-03 3.739008e-03\n",
       "music      1.778771e-04 4.183476e-04 2.730128e-04\n",
       "song       5.588744e-04 1.062491e-03 2.074355e-03\n",
       "like       8.162560e-05 6.461808e-03 4.611660e-04\n",
       "nowplay    8.377032e-04 3.854095e-03 2.772460e-04\n",
       "love       7.023902e-04 3.571935e-03 8.722958e-04\n",
       "listen     1.882700e-03 2.303028e-05 6.638997e-04\n",
       "new        7.263928e-06 8.681751e-04 4.549563e-04\n",
       "via        1.745044e-05 9.807637e-03 5.305742e-03\n",
       "one        2.424828e-03 2.523194e-03 1.658193e-04\n",
       "smoke      4.366220e-05 4.637576e-03 4.800718e-03\n",
       "play       4.366321e-06 2.149891e-03 2.906739e-04\n",
       "go         4.251157e-04 4.048747e-04 6.445020e-04\n",
       "make       2.585168e-04 7.378601e-04 8.199004e-04\n",
       "get        6.573101e-04 1.301262e-04 2.188483e-04\n",
       "day        2.245014e-04 4.849282e-05 1.043852e-04\n",
       "radio      6.227443e-04 3.946350e-04 7.974652e-05\n",
       "album      3.435432e-06 1.618970e-04 5.642956e-05\n",
       "got        5.480607e-04 2.898387e-04 7.153421e-04\n",
       "know       4.002708e-04 1.977295e-04 1.395059e-04\n",
       "best       6.548107e-05 3.148041e-04 5.858550e-04\n",
       "good       1.535236e-04 1.011203e-03 2.812778e-04\n",
       "let        1.359810e-04 2.481675e-04 2.231477e-04\n",
       "want       3.287392e-04 5.358570e-04 6.209705e-04\n",
       "live       5.736900e-05 9.990668e-06 6.510574e-05\n",
       "...        ...          ...          ...         \n",
       "wrong      2.289513e-05 2.839534e-04 3.053218e-04\n",
       "quot       9.753741e-05 4.800136e-06 1.222442e-05\n",
       "unit       3.376541e-02 2.370760e-01 3.961253e-01\n",
       "legend     4.092113e-05 5.980849e-06 3.234494e-05\n",
       "hate       1.025366e-04 4.337239e-04 9.361857e-06\n",
       "air        9.274695e-02 1.609094e-03 1.729640e-02\n",
       "amaz       2.818217e-05 1.461051e-04 6.037170e-05\n",
       "shatta     7.360720e-05 2.441765e-05 4.484352e-05\n",
       "cut        2.481039e-05 9.143696e-07 2.101900e-07\n",
       "late       2.230144e-04 3.768303e-05 8.381306e-05\n",
       "deep       1.906274e-05 4.519265e-05 1.002522e-07\n",
       "suppos     1.368734e-04 2.783918e-04 1.209632e-04\n",
       "tf         6.603379e-05 5.270780e-04 4.105949e-04\n",
       "banton     1.088194e-05 6.631549e-05 3.157159e-04\n",
       "polit      5.186605e-05 1.554230e-04 3.983513e-05\n",
       "zoo        1.075977e-03 1.988792e-03 1.663589e-03\n",
       "almost     9.029111e-05 1.412078e-04 7.848613e-05\n",
       "appreci    1.248990e-06 3.696774e-05 4.067506e-06\n",
       "adult      1.875794e-05 3.283092e-04 1.087007e-04\n",
       "bruh       2.375131e-04 1.871320e-05 6.809322e-05\n",
       "loyal      3.402023e-04 2.651868e-04 1.701121e-08\n",
       "flame      3.402023e-04 2.651868e-04 1.701121e-08\n",
       "partyalldj 1.987347e-05 1.124390e-05 8.340682e-05\n",
       "variou     1.476600e-04 3.206058e-05 3.140297e-06\n",
       "tast       5.713377e-05 5.320441e-06 8.530746e-05\n",
       "heart      4.662694e-05 4.587855e-06 2.443575e-05\n",
       "care       5.038976e-06 1.362206e-03 2.902228e-06\n",
       "X50s       4.077171e-06 8.764805e-04 1.288004e-04\n",
       "royalti    5.947920e-05 5.437316e-05 2.730118e-04\n",
       "twitter    3.315050e-05 2.774058e-05 7.149368e-05"
      ]
     },
     "metadata": {},
     "output_type": "display_data"
    }
   ],
   "source": [
    "col$cos2"
   ]
  },
  {
   "cell_type": "markdown",
   "metadata": {},
   "source": [
    "### K Means"
   ]
  },
  {
   "cell_type": "code",
   "execution_count": 6,
   "metadata": {},
   "outputs": [],
   "source": [
    "music.centre<-scale(music.numeric, center = TRUE, scale = TRUE)"
   ]
  },
  {
   "cell_type": "markdown",
   "metadata": {},
   "source": [
    "## Choix du nombre de cluster"
   ]
  },
  {
   "cell_type": "code",
   "execution_count": 7,
   "metadata": {},
   "outputs": [
    {
     "data": {
      "image/png": "[encoded data removed]",
      "text/plain": [
       "plot without title"
      ]
     },
     "metadata": {
      "image/png": {
       "height": 420,
       "width": 420
      },
      "text/plain": {
       "height": 420,
       "width": 420
      }
     },
     "output_type": "display_data"
    }
   ],
   "source": [
    "#Evolution de l'inertie intra classe\n",
    "fviz_nbclust(music.centre,kmeans,method=\"wss\")"
   ]
  },
  {
   "cell_type": "code",
   "execution_count": 8,
   "metadata": {},
   "outputs": [
    {
     "data": {
      "image/png": "[encoded data removed]",
      "text/plain": [
       "plot without title"
      ]
     },
     "metadata": {
      "image/png": {
       "height": 420,
       "width": 420
      },
      "text/plain": {
       "height": 420,
       "width": 420
      }
     },
     "output_type": "display_data"
    }
   ],
   "source": [
    "# Evolution de l'inertie interclasse\n",
    "bss=0\n",
    "for (i in 2:15) bss[i] <- sum(kmeans(music.centre, centers=i)$betweenss)\n",
    "plot(1:15, bss, type=\"b\", xlab=\"Nombre de classes\",ylab=\"Somme des carees inter classe\") \n"
   ]
  },
  {
   "cell_type": "markdown",
   "metadata": {},
   "source": [
    "## K-Means sur les données centrées réduites"
   ]
  },
  {
   "cell_type": "code",
   "execution_count": 9,
   "metadata": {},
   "outputs": [],
   "source": [
    "#On choisi 7 \n",
    "kmpr <- kmeans(music.centre,centers=7,nstart=25)"
   ]
  },
  {
   "cell_type": "code",
   "execution_count": 16,
   "metadata": {},
   "outputs": [
    {
     "data": {
      "image/png": "[encoded data removed]",
      "text/plain": [
       "plot without title"
      ]
     },
     "metadata": {
      "image/png": {
       "height": 420,
       "width": 420
      },
      "text/plain": {
       "height": 420,
       "width": 420
      }
     },
     "output_type": "display_data"
    }
   ],
   "source": [
    "fviz_cluster(kmpr,data=music.centre)"
   ]
  },
  {
   "cell_type": "code",
   "execution_count": 23,
   "metadata": {},
   "outputs": [],
   "source": [
    "matrice.cluster <- as.data.frame(kmpr$cluster)"
   ]
  },
  {
   "cell_type": "code",
   "execution_count": 64,
   "metadata": {},
   "outputs": [
    {
     "name": "stdout",
     "output_type": "stream",
     "text": [
      "Nombre de tweet dans le cluster 1 :  1356 \n",
      "Nombre de tweet dans le cluster 2 :  3 \n",
      "Nombre de tweet dans le cluster 3 :  5 \n",
      "Nombre de tweet dans le cluster 4 :  5 \n",
      "Nombre de tweet dans le cluster 5 :  20 \n",
      "Nombre de tweet dans le cluster 6 :  21 \n",
      "Nombre de tweet dans le cluster 7 :  10 \n"
     ]
    }
   ],
   "source": [
    "df1 <- as.data.frame(subset(matrice.cluster,matrice.cluster['kmpr$cluster']==1))\n",
    "df2 <- subset(matrice.cluster,matrice.cluster['kmpr$cluster']==2)\n",
    "df3 <- subset(matrice.cluster,matrice.cluster['kmpr$cluster']==3)\n",
    "df4 <- subset(matrice.cluster,matrice.cluster['kmpr$cluster']==4)\n",
    "df5 <- subset(matrice.cluster,matrice.cluster['kmpr$cluster']==5)\n",
    "df6 <- subset(matrice.cluster,matrice.cluster['kmpr$cluster']==6)\n",
    "df7 <- subset(matrice.cluster,matrice.cluster['kmpr$cluster']==7)\n",
    "cat(\"Nombre de tweet dans le cluster 1 : \",nrow(df1),\"\\n\")\n",
    "cat(\"Nombre de tweet dans le cluster 2 : \",nrow(df2),\"\\n\")\n",
    "cat(\"Nombre de tweet dans le cluster 3 : \",nrow(df3),\"\\n\")\n",
    "cat(\"Nombre de tweet dans le cluster 4 : \",nrow(df4),\"\\n\")\n",
    "cat(\"Nombre de tweet dans le cluster 5 : \",nrow(df5),\"\\n\")\n",
    "cat(\"Nombre de tweet dans le cluster 6 : \",nrow(df6),\"\\n\")\n",
    "cat(\"Nombre de tweet dans le cluster 7 : \",nrow(df7),\"\\n\")"
   ]
  },
  {
   "cell_type": "code",
   "execution_count": 91,
   "metadata": {},
   "outputs": [
    {
     "data": {
      "text/html": [
       "<table>\n",
       "<caption>A data.frame: 5 × 1</caption>\n",
       "<thead>\n",
       "\t<tr><th></th><th scope=col>kmpr$cluster</th></tr>\n",
       "\t<tr><th></th><th scope=col>&lt;int&gt;</th></tr>\n",
       "</thead>\n",
       "<tbody>\n",
       "\t<tr><th scope=row>0</th><td>3</td></tr>\n",
       "\t<tr><th scope=row>176</th><td>3</td></tr>\n",
       "\t<tr><th scope=row>224</th><td>3</td></tr>\n",
       "\t<tr><th scope=row>1419</th><td>3</td></tr>\n",
       "\t<tr><th scope=row>1432</th><td>3</td></tr>\n",
       "</tbody>\n",
       "</table>\n"
      ],
      "text/latex": [
       "A data.frame: 5 × 1\n",
       "\\begin{tabular}{r|l}\n",
       "  & kmpr\\$cluster\\\\\n",
       "  & <int>\\\\\n",
       "\\hline\n",
       "\t0 & 3\\\\\n",
       "\t176 & 3\\\\\n",
       "\t224 & 3\\\\\n",
       "\t1419 & 3\\\\\n",
       "\t1432 & 3\\\\\n",
       "\\end{tabular}\n"
      ],
      "text/markdown": [
       "\n",
       "A data.frame: 5 × 1\n",
       "\n",
       "| <!--/--> | kmpr$cluster &lt;int&gt; |\n",
       "|---|---|\n",
       "| 0 | 3 |\n",
       "| 176 | 3 |\n",
       "| 224 | 3 |\n",
       "| 1419 | 3 |\n",
       "| 1432 | 3 |\n",
       "\n"
      ],
      "text/plain": [
       "     kmpr$cluster\n",
       "0    3           \n",
       "176  3           \n",
       "224  3           \n",
       "1419 3           \n",
       "1432 3           "
      ]
     },
     "metadata": {},
     "output_type": "display_data"
    }
   ],
   "source": [
    "df3"
   ]
  },
  {
   "cell_type": "markdown",
   "metadata": {},
   "source": [
    "## Lecture Matrice des Teewts [id,texte]"
   ]
  },
  {
   "cell_type": "code",
   "execution_count": 45,
   "metadata": {},
   "outputs": [],
   "source": [
    "verite <- read.csv2(\"../../Data/music_df_id_text.csv\",sep=',',header=T)"
   ]
  },
  {
   "cell_type": "code",
   "execution_count": 75,
   "metadata": {},
   "outputs": [
    {
     "data": {
      "text/html": [
       "<table>\n",
       "<caption>A data.frame: 1 × 3</caption>\n",
       "<thead>\n",
       "\t<tr><th></th><th scope=col>id</th><th scope=col>id_tweet</th><th scope=col>text</th></tr>\n",
       "\t<tr><th></th><th scope=col>&lt;int&gt;</th><th scope=col>&lt;dbl&gt;</th><th scope=col>&lt;chr&gt;</th></tr>\n",
       "</thead>\n",
       "<tbody>\n",
       "\t<tr><th scope=row>36</th><td>53</td><td>1.258518e+18</td><td>Now playing Rainbow - Long Live Rock 'N' Roll on Classic Rock 109. https://t.co/BrOZxviDIn</td></tr>\n",
       "</tbody>\n",
       "</table>\n"
      ],
      "text/latex": [
       "A data.frame: 1 × 3\n",
       "\\begin{tabular}{r|lll}\n",
       "  & id & id\\_tweet & text\\\\\n",
       "  & <int> & <dbl> & <chr>\\\\\n",
       "\\hline\n",
       "\t36 & 53 & 1.258518e+18 & Now playing Rainbow - Long Live Rock 'N' Roll on Classic Rock 109. https://t.co/BrOZxviDIn\\\\\n",
       "\\end{tabular}\n"
      ],
      "text/markdown": [
       "\n",
       "A data.frame: 1 × 3\n",
       "\n",
       "| <!--/--> | id &lt;int&gt; | id_tweet &lt;dbl&gt; | text &lt;chr&gt; |\n",
       "|---|---|---|---|\n",
       "| 36 | 53 | 1.258518e+18 | Now playing Rainbow - Long Live Rock 'N' Roll on Classic Rock 109. https://t.co/BrOZxviDIn |\n",
       "\n"
      ],
      "text/plain": [
       "   id id_tweet    \n",
       "36 53 1.258518e+18\n",
       "   text                                                                                      \n",
       "36 Now playing Rainbow - Long Live Rock 'N' Roll on Classic Rock 109. https://t.co/BrOZxviDIn"
      ]
     },
     "metadata": {},
     "output_type": "display_data"
    },
    {
     "data": {
      "text/html": [
       "<table>\n",
       "<caption>A data.frame: 1 × 3</caption>\n",
       "<thead>\n",
       "\t<tr><th></th><th scope=col>id</th><th scope=col>id_tweet</th><th scope=col>text</th></tr>\n",
       "\t<tr><th></th><th scope=col>&lt;int&gt;</th><th scope=col>&lt;dbl&gt;</th><th scope=col>&lt;chr&gt;</th></tr>\n",
       "</thead>\n",
       "<tbody>\n",
       "\t<tr><th scope=row>14</th><td>25</td><td>1.258523e+18</td><td>RT @Suburbanhero714: Bad Company - Rock 'N' Roll Fantasy \n",
       "https://t.co/1vxQFleEsU https://t.co/Q0Dm4dkJYX</td></tr>\n",
       "</tbody>\n",
       "</table>\n"
      ],
      "text/latex": [
       "A data.frame: 1 × 3\n",
       "\\begin{tabular}{r|lll}\n",
       "  & id & id\\_tweet & text\\\\\n",
       "  & <int> & <dbl> & <chr>\\\\\n",
       "\\hline\n",
       "\t14 & 25 & 1.258523e+18 & RT @Suburbanhero714: Bad Company - Rock 'N' Roll Fantasy \n",
       "https://t.co/1vxQFleEsU https://t.co/Q0Dm4dkJYX\\\\\n",
       "\\end{tabular}\n"
      ],
      "text/markdown": [
       "\n",
       "A data.frame: 1 × 3\n",
       "\n",
       "| <!--/--> | id &lt;int&gt; | id_tweet &lt;dbl&gt; | text &lt;chr&gt; |\n",
       "|---|---|---|---|\n",
       "| 14 | 25 | 1.258523e+18 | RT @Suburbanhero714: Bad Company - Rock 'N' Roll Fantasy \n",
       "https://t.co/1vxQFleEsU https://t.co/Q0Dm4dkJYX |\n",
       "\n"
      ],
      "text/plain": [
       "   id id_tweet    \n",
       "14 25 1.258523e+18\n",
       "   text                                                                                                      \n",
       "14 RT @Suburbanhero714: Bad Company - Rock 'N' Roll Fantasy \\nhttps://t.co/1vxQFleEsU https://t.co/Q0Dm4dkJYX"
      ]
     },
     "metadata": {},
     "output_type": "display_data"
    },
    {
     "data": {
      "text/html": [
       "<table>\n",
       "<caption>A data.frame: 1 × 3</caption>\n",
       "<thead>\n",
       "\t<tr><th></th><th scope=col>id</th><th scope=col>id_tweet</th><th scope=col>text</th></tr>\n",
       "\t<tr><th></th><th scope=col>&lt;int&gt;</th><th scope=col>&lt;dbl&gt;</th><th scope=col>&lt;chr&gt;</th></tr>\n",
       "</thead>\n",
       "<tbody>\n",
       "\t<tr><th scope=row>1323</th><td>2328</td><td>1.258661e+18</td><td>Bad Company - Rock 'n' Roll Fantasy #nowplaying</td></tr>\n",
       "</tbody>\n",
       "</table>\n"
      ],
      "text/latex": [
       "A data.frame: 1 × 3\n",
       "\\begin{tabular}{r|lll}\n",
       "  & id & id\\_tweet & text\\\\\n",
       "  & <int> & <dbl> & <chr>\\\\\n",
       "\\hline\n",
       "\t1323 & 2328 & 1.258661e+18 & Bad Company - Rock 'n' Roll Fantasy \\#nowplaying\\\\\n",
       "\\end{tabular}\n"
      ],
      "text/markdown": [
       "\n",
       "A data.frame: 1 × 3\n",
       "\n",
       "| <!--/--> | id &lt;int&gt; | id_tweet &lt;dbl&gt; | text &lt;chr&gt; |\n",
       "|---|---|---|---|\n",
       "| 1323 | 2328 | 1.258661e+18 | Bad Company - Rock 'n' Roll Fantasy #nowplaying |\n",
       "\n"
      ],
      "text/plain": [
       "     id   id_tweet     text                                           \n",
       "1323 2328 1.258661e+18 Bad Company - Rock 'n' Roll Fantasy #nowplaying"
      ]
     },
     "metadata": {},
     "output_type": "display_data"
    }
   ],
   "source": [
    "# cluster 1\n",
    "#choix des tweet aléatoire dans df1\n",
    "tweet = verite[verite['id']==53,]\n",
    "tweet\n",
    "\n",
    "tweet = verite[verite['id']==25,]\n",
    "tweet\n",
    "\n",
    "tweet = verite[verite['id']==2328,]\n",
    "tweet"
   ]
  },
  {
   "cell_type": "code",
   "execution_count": 67,
   "metadata": {},
   "outputs": [
    {
     "data": {
      "text/html": [
       "<table>\n",
       "<caption>A data.frame: 1 × 3</caption>\n",
       "<thead>\n",
       "\t<tr><th></th><th scope=col>id</th><th scope=col>id_tweet</th><th scope=col>text</th></tr>\n",
       "\t<tr><th></th><th scope=col>&lt;int&gt;</th><th scope=col>&lt;dbl&gt;</th><th scope=col>&lt;chr&gt;</th></tr>\n",
       "</thead>\n",
       "<tbody>\n",
       "\t<tr><th scope=row>474</th><td>845</td><td>1.258526e+18</td><td>RT @mynameisjro: In the national conversation of demanding justice for Black lives, remember to invoke Nina Popâ€™s name. A 28 year old Blackâ€¦</td></tr>\n",
       "</tbody>\n",
       "</table>\n"
      ],
      "text/latex": [
       "A data.frame: 1 × 3\n",
       "\\begin{tabular}{r|lll}\n",
       "  & id & id\\_tweet & text\\\\\n",
       "  & <int> & <dbl> & <chr>\\\\\n",
       "\\hline\n",
       "\t474 & 845 & 1.258526e+18 & RT @mynameisjro: In the national conversation of demanding justice for Black lives, remember to invoke Nina Popâ€™s name. A 28 year old Blackâ€¦\\\\\n",
       "\\end{tabular}\n"
      ],
      "text/markdown": [
       "\n",
       "A data.frame: 1 × 3\n",
       "\n",
       "| <!--/--> | id &lt;int&gt; | id_tweet &lt;dbl&gt; | text &lt;chr&gt; |\n",
       "|---|---|---|---|\n",
       "| 474 | 845 | 1.258526e+18 | RT @mynameisjro: In the national conversation of demanding justice for Black lives, remember to invoke Nina Popâ€™s name. A 28 year old Blackâ€¦ |\n",
       "\n"
      ],
      "text/plain": [
       "    id  id_tweet    \n",
       "474 845 1.258526e+18\n",
       "    text                                                                                                                                            \n",
       "474 RT @mynameisjro: In the national conversation of demanding justice for Black lives, remember to invoke Nina Popâ\\200\\231s name. A 28 year old Blackâ\\200¦"
      ]
     },
     "metadata": {},
     "output_type": "display_data"
    },
    {
     "data": {
      "text/html": [
       "<table>\n",
       "<caption>A data.frame: 1 × 3</caption>\n",
       "<thead>\n",
       "\t<tr><th></th><th scope=col>id</th><th scope=col>id_tweet</th><th scope=col>text</th></tr>\n",
       "\t<tr><th></th><th scope=col>&lt;int&gt;</th><th scope=col>&lt;dbl&gt;</th><th scope=col>&lt;chr&gt;</th></tr>\n",
       "</thead>\n",
       "<tbody>\n",
       "\t<tr><th scope=row>475</th><td>846</td><td>1.258526e+18</td><td>@LavenderxPop Mint popðŸŒ¿</td></tr>\n",
       "</tbody>\n",
       "</table>\n"
      ],
      "text/latex": [
       "A data.frame: 1 × 3\n",
       "\\begin{tabular}{r|lll}\n",
       "  & id & id\\_tweet & text\\\\\n",
       "  & <int> & <dbl> & <chr>\\\\\n",
       "\\hline\n",
       "\t475 & 846 & 1.258526e+18 & @LavenderxPop Mint popðŸŒ¿\\\\\n",
       "\\end{tabular}\n"
      ],
      "text/markdown": [
       "\n",
       "A data.frame: 1 × 3\n",
       "\n",
       "| <!--/--> | id &lt;int&gt; | id_tweet &lt;dbl&gt; | text &lt;chr&gt; |\n",
       "|---|---|---|---|\n",
       "| 475 | 846 | 1.258526e+18 | @LavenderxPop Mint popðŸŒ¿ |\n",
       "\n"
      ],
      "text/plain": [
       "    id  id_tweet     text                      \n",
       "475 846 1.258526e+18 @LavenderxPop Mint popðŸŒ¿"
      ]
     },
     "metadata": {},
     "output_type": "display_data"
    },
    {
     "data": {
      "text/html": [
       "<table>\n",
       "<caption>A data.frame: 1 × 3</caption>\n",
       "<thead>\n",
       "\t<tr><th></th><th scope=col>id</th><th scope=col>id_tweet</th><th scope=col>text</th></tr>\n",
       "\t<tr><th></th><th scope=col>&lt;int&gt;</th><th scope=col>&lt;dbl&gt;</th><th scope=col>&lt;chr&gt;</th></tr>\n",
       "</thead>\n",
       "<tbody>\n",
       "\t<tr><th scope=row>476</th><td>850</td><td>1.258526e+18</td><td>RT @danbloom1: Brandon Lewis has just told the BBC there's \"a technical issue in the laboratories\" with tests for coronavirus. Hmm. Is thatâ€¦</td></tr>\n",
       "</tbody>\n",
       "</table>\n"
      ],
      "text/latex": [
       "A data.frame: 1 × 3\n",
       "\\begin{tabular}{r|lll}\n",
       "  & id & id\\_tweet & text\\\\\n",
       "  & <int> & <dbl> & <chr>\\\\\n",
       "\\hline\n",
       "\t476 & 850 & 1.258526e+18 & RT @danbloom1: Brandon Lewis has just told the BBC there's \"a technical issue in the laboratories\" with tests for coronavirus. Hmm. Is thatâ€¦\\\\\n",
       "\\end{tabular}\n"
      ],
      "text/markdown": [
       "\n",
       "A data.frame: 1 × 3\n",
       "\n",
       "| <!--/--> | id &lt;int&gt; | id_tweet &lt;dbl&gt; | text &lt;chr&gt; |\n",
       "|---|---|---|---|\n",
       "| 476 | 850 | 1.258526e+18 | RT @danbloom1: Brandon Lewis has just told the BBC there's \"a technical issue in the laboratories\" with tests for coronavirus. Hmm. Is thatâ€¦ |\n",
       "\n"
      ],
      "text/plain": [
       "    id  id_tweet    \n",
       "476 850 1.258526e+18\n",
       "    text                                                                                                                                          \n",
       "476 RT @danbloom1: Brandon Lewis has just told the BBC there's \"a technical issue in the laboratories\" with tests for coronavirus. Hmm. Is thatâ\\200¦"
      ]
     },
     "metadata": {},
     "output_type": "display_data"
    }
   ],
   "source": [
    "# cluster 2\n",
    "#choix des tweet aléatoire dans df2\n",
    "tweet = verite[verite['id']==845,]\n",
    "tweet\n",
    "tweet = verite[verite['id']==846,]\n",
    "tweet\n",
    "tweet = verite[verite['id']==850,]\n",
    "tweet"
   ]
  },
  {
   "cell_type": "code",
   "execution_count": 93,
   "metadata": {},
   "outputs": [
    {
     "data": {
      "text/html": [
       "<table>\n",
       "<caption>A data.frame: 1 × 3</caption>\n",
       "<thead>\n",
       "\t<tr><th></th><th scope=col>id</th><th scope=col>id_tweet</th><th scope=col>text</th></tr>\n",
       "\t<tr><th></th><th scope=col>&lt;int&gt;</th><th scope=col>&lt;dbl&gt;</th><th scope=col>&lt;chr&gt;</th></tr>\n",
       "</thead>\n",
       "<tbody>\n",
       "\t<tr><th scope=row>146</th><td>224</td><td>1.258493e+18</td><td>RT @NME: \"Iâ€™ve smoked a lot of joints over the years and drank a lot of vodka, so my brain is just cheese now!â€ Oddball-pop genius @SebTellâ€¦</td></tr>\n",
       "</tbody>\n",
       "</table>\n"
      ],
      "text/latex": [
       "A data.frame: 1 × 3\n",
       "\\begin{tabular}{r|lll}\n",
       "  & id & id\\_tweet & text\\\\\n",
       "  & <int> & <dbl> & <chr>\\\\\n",
       "\\hline\n",
       "\t146 & 224 & 1.258493e+18 & RT @NME: \"Iâ€™ve smoked a lot of joints over the years and drank a lot of vodka, so my brain is just cheese now!â€ Oddball-pop genius @SebTellâ€¦\\\\\n",
       "\\end{tabular}\n"
      ],
      "text/markdown": [
       "\n",
       "A data.frame: 1 × 3\n",
       "\n",
       "| <!--/--> | id &lt;int&gt; | id_tweet &lt;dbl&gt; | text &lt;chr&gt; |\n",
       "|---|---|---|---|\n",
       "| 146 | 224 | 1.258493e+18 | RT @NME: \"Iâ€™ve smoked a lot of joints over the years and drank a lot of vodka, so my brain is just cheese now!â€ Oddball-pop genius @SebTellâ€¦ |\n",
       "\n"
      ],
      "text/plain": [
       "    id  id_tweet    \n",
       "146 224 1.258493e+18\n",
       "    text                                                                                                                                              \n",
       "146 RT @NME: \"Iâ\\200\\231ve smoked a lot of joints over the years and drank a lot of vodka, so my brain is just cheese now!â\\200\\235 Oddball-pop genius @SebTellâ\\200¦"
      ]
     },
     "metadata": {},
     "output_type": "display_data"
    },
    {
     "data": {
      "text/html": [
       "<table>\n",
       "<caption>A data.frame: 1 × 3</caption>\n",
       "<thead>\n",
       "\t<tr><th></th><th scope=col>id</th><th scope=col>id_tweet</th><th scope=col>text</th></tr>\n",
       "\t<tr><th></th><th scope=col>&lt;int&gt;</th><th scope=col>&lt;dbl&gt;</th><th scope=col>&lt;chr&gt;</th></tr>\n",
       "</thead>\n",
       "<tbody>\n",
       "\t<tr><th scope=row>784</th><td>1419</td><td>1.258526e+18</td><td>@helenaandradee Reggae</td></tr>\n",
       "</tbody>\n",
       "</table>\n"
      ],
      "text/latex": [
       "A data.frame: 1 × 3\n",
       "\\begin{tabular}{r|lll}\n",
       "  & id & id\\_tweet & text\\\\\n",
       "  & <int> & <dbl> & <chr>\\\\\n",
       "\\hline\n",
       "\t784 & 1419 & 1.258526e+18 & @helenaandradee Reggae\\\\\n",
       "\\end{tabular}\n"
      ],
      "text/markdown": [
       "\n",
       "A data.frame: 1 × 3\n",
       "\n",
       "| <!--/--> | id &lt;int&gt; | id_tweet &lt;dbl&gt; | text &lt;chr&gt; |\n",
       "|---|---|---|---|\n",
       "| 784 | 1419 | 1.258526e+18 | @helenaandradee Reggae |\n",
       "\n"
      ],
      "text/plain": [
       "    id   id_tweet     text                  \n",
       "784 1419 1.258526e+18 @helenaandradee Reggae"
      ]
     },
     "metadata": {},
     "output_type": "display_data"
    },
    {
     "data": {
      "text/html": [
       "<table>\n",
       "<caption>A data.frame: 1 × 3</caption>\n",
       "<thead>\n",
       "\t<tr><th></th><th scope=col>id</th><th scope=col>id_tweet</th><th scope=col>text</th></tr>\n",
       "\t<tr><th></th><th scope=col>&lt;int&gt;</th><th scope=col>&lt;dbl&gt;</th><th scope=col>&lt;chr&gt;</th></tr>\n",
       "</thead>\n",
       "<tbody>\n",
       "\t<tr><th scope=row>792</th><td>1432</td><td>1.258524e+18</td><td>Iâ€™m here wondering who sisâ€™ new neighborhours are downstairs... all I hear is reggae ðŸ˜</td></tr>\n",
       "</tbody>\n",
       "</table>\n"
      ],
      "text/latex": [
       "A data.frame: 1 × 3\n",
       "\\begin{tabular}{r|lll}\n",
       "  & id & id\\_tweet & text\\\\\n",
       "  & <int> & <dbl> & <chr>\\\\\n",
       "\\hline\n",
       "\t792 & 1432 & 1.258524e+18 & Iâ€™m here wondering who sisâ€™ new neighborhours are downstairs... all I hear is reggae ðŸ˜\\\\\n",
       "\\end{tabular}\n"
      ],
      "text/markdown": [
       "\n",
       "A data.frame: 1 × 3\n",
       "\n",
       "| <!--/--> | id &lt;int&gt; | id_tweet &lt;dbl&gt; | text &lt;chr&gt; |\n",
       "|---|---|---|---|\n",
       "| 792 | 1432 | 1.258524e+18 | Iâ€™m here wondering who sisâ€™ new neighborhours are downstairs... all I hear is reggae ðŸ˜ |\n",
       "\n"
      ],
      "text/plain": [
       "    id   id_tweet    \n",
       "792 1432 1.258524e+18\n",
       "    text                                                                                         \n",
       "792 Iâ\\200\\231m here wondering who sisâ\\200\\231 new neighborhours are downstairs... all I hear is reggae ðŸ\\230\\215"
      ]
     },
     "metadata": {},
     "output_type": "display_data"
    },
    {
     "data": {
      "text/html": [
       "<table>\n",
       "<caption>A data.frame: 1 × 3</caption>\n",
       "<thead>\n",
       "\t<tr><th></th><th scope=col>id</th><th scope=col>id_tweet</th><th scope=col>text</th></tr>\n",
       "\t<tr><th></th><th scope=col>&lt;int&gt;</th><th scope=col>&lt;dbl&gt;</th><th scope=col>&lt;chr&gt;</th></tr>\n",
       "</thead>\n",
       "<tbody>\n",
       "\t<tr><th scope=row>1</th><td>0</td><td>1.258527e+18</td><td>RT @AnaCookman: Rock 'n' Roll pioneer Chuck Berry was born in 1926. Berry's music was a major influence on The Beatles, AC/DC and the Rolliâ€¦</td></tr>\n",
       "</tbody>\n",
       "</table>\n"
      ],
      "text/latex": [
       "A data.frame: 1 × 3\n",
       "\\begin{tabular}{r|lll}\n",
       "  & id & id\\_tweet & text\\\\\n",
       "  & <int> & <dbl> & <chr>\\\\\n",
       "\\hline\n",
       "\t1 & 0 & 1.258527e+18 & RT @AnaCookman: Rock 'n' Roll pioneer Chuck Berry was born in 1926. Berry's music was a major influence on The Beatles, AC/DC and the Rolliâ€¦\\\\\n",
       "\\end{tabular}\n"
      ],
      "text/markdown": [
       "\n",
       "A data.frame: 1 × 3\n",
       "\n",
       "| <!--/--> | id &lt;int&gt; | id_tweet &lt;dbl&gt; | text &lt;chr&gt; |\n",
       "|---|---|---|---|\n",
       "| 1 | 0 | 1.258527e+18 | RT @AnaCookman: Rock 'n' Roll pioneer Chuck Berry was born in 1926. Berry's music was a major influence on The Beatles, AC/DC and the Rolliâ€¦ |\n",
       "\n"
      ],
      "text/plain": [
       "  id id_tweet    \n",
       "1 0  1.258527e+18\n",
       "  text                                                                                                                                          \n",
       "1 RT @AnaCookman: Rock 'n' Roll pioneer Chuck Berry was born in 1926. Berry's music was a major influence on The Beatles, AC/DC and the Rolliâ\\200¦"
      ]
     },
     "metadata": {},
     "output_type": "display_data"
    },
    {
     "data": {
      "text/html": [
       "<table>\n",
       "<caption>A data.frame: 1 × 3</caption>\n",
       "<thead>\n",
       "\t<tr><th></th><th scope=col>id</th><th scope=col>id_tweet</th><th scope=col>text</th></tr>\n",
       "\t<tr><th></th><th scope=col>&lt;int&gt;</th><th scope=col>&lt;dbl&gt;</th><th scope=col>&lt;chr&gt;</th></tr>\n",
       "</thead>\n",
       "<tbody>\n",
       "\t<tr><th scope=row>116</th><td>176</td><td>1.258498e+18</td><td>RT @BatTheMusical: For crying out loud...YOU KNOW WE LOVE THIS ðŸ¤˜ðŸ–¤\n",
       "\n",
       "Raise your rockâ€™nâ€™roll horns to our @Glenn_Adamson and @MarthaKirbs whoâ€¦</td></tr>\n",
       "</tbody>\n",
       "</table>\n"
      ],
      "text/latex": [
       "A data.frame: 1 × 3\n",
       "\\begin{tabular}{r|lll}\n",
       "  & id & id\\_tweet & text\\\\\n",
       "  & <int> & <dbl> & <chr>\\\\\n",
       "\\hline\n",
       "\t116 & 176 & 1.258498e+18 & RT @BatTheMusical: For crying out loud...YOU KNOW WE LOVE THIS ðŸ¤˜ðŸ–¤\n",
       "\n",
       "Raise your rockâ€™nâ€™roll horns to our @Glenn\\_Adamson and @MarthaKirbs whoâ€¦\\\\\n",
       "\\end{tabular}\n"
      ],
      "text/markdown": [
       "\n",
       "A data.frame: 1 × 3\n",
       "\n",
       "| <!--/--> | id &lt;int&gt; | id_tweet &lt;dbl&gt; | text &lt;chr&gt; |\n",
       "|---|---|---|---|\n",
       "| 116 | 176 | 1.258498e+18 | RT @BatTheMusical: For crying out loud...YOU KNOW WE LOVE THIS ðŸ¤˜ðŸ–¤\n",
       "\n",
       "Raise your rockâ€™nâ€™roll horns to our @Glenn_Adamson and @MarthaKirbs whoâ€¦ |\n",
       "\n"
      ],
      "text/plain": [
       "    id  id_tweet    \n",
       "116 176 1.258498e+18\n",
       "    text                                                                                                                                                     \n",
       "116 RT @BatTheMusical: For crying out loud...YOU KNOW WE LOVE THIS ðŸ¤\\230ðŸ–¤\\n\\nRaise your rockâ\\200\\231nâ\\200\\231roll horns to our @Glenn_Adamson and @MarthaKirbs whoâ\\200¦"
      ]
     },
     "metadata": {},
     "output_type": "display_data"
    }
   ],
   "source": [
    "# cluster 3\n",
    "#choix des tweet aléatoire dans df3\n",
    "tweet = verite[verite['id']==224,]\n",
    "tweet\n",
    "\n",
    "tweet = verite[verite['id']==1419,]\n",
    "tweet\n",
    "\n",
    "tweet = verite[verite['id']==1432,]\n",
    "tweet\n",
    "\n",
    "tweet = verite[verite['id']==0,]\n",
    "tweet\n",
    "\n",
    "tweet = verite[verite['id']==176,]\n",
    "tweet"
   ]
  },
  {
   "cell_type": "code",
   "execution_count": 79,
   "metadata": {},
   "outputs": [
    {
     "data": {
      "text/html": [
       "<table>\n",
       "<caption>A data.frame: 1 × 3</caption>\n",
       "<thead>\n",
       "\t<tr><th></th><th scope=col>id</th><th scope=col>id_tweet</th><th scope=col>text</th></tr>\n",
       "\t<tr><th></th><th scope=col>&lt;int&gt;</th><th scope=col>&lt;dbl&gt;</th><th scope=col>&lt;chr&gt;</th></tr>\n",
       "</thead>\n",
       "<tbody>\n",
       "\t<tr><th scope=row>32</th><td>49</td><td>1.258519e+18</td><td>RT @GeorgeMgoblue07: Lou Reed - Sweet Jane from Rock n Roll Animal https://t.co/XiEhqqURU4 via @YouTube\n",
       "\n",
       "Lou \n",
       "\n",
       "Sweet Jane</td></tr>\n",
       "</tbody>\n",
       "</table>\n"
      ],
      "text/latex": [
       "A data.frame: 1 × 3\n",
       "\\begin{tabular}{r|lll}\n",
       "  & id & id\\_tweet & text\\\\\n",
       "  & <int> & <dbl> & <chr>\\\\\n",
       "\\hline\n",
       "\t32 & 49 & 1.258519e+18 & RT @GeorgeMgoblue07: Lou Reed - Sweet Jane from Rock n Roll Animal https://t.co/XiEhqqURU4 via @YouTube\n",
       "\n",
       "Lou \n",
       "\n",
       "Sweet Jane\\\\\n",
       "\\end{tabular}\n"
      ],
      "text/markdown": [
       "\n",
       "A data.frame: 1 × 3\n",
       "\n",
       "| <!--/--> | id &lt;int&gt; | id_tweet &lt;dbl&gt; | text &lt;chr&gt; |\n",
       "|---|---|---|---|\n",
       "| 32 | 49 | 1.258519e+18 | RT @GeorgeMgoblue07: Lou Reed - Sweet Jane from Rock n Roll Animal https://t.co/XiEhqqURU4 via @YouTube\n",
       "\n",
       "Lou \n",
       "\n",
       "Sweet Jane |\n",
       "\n"
      ],
      "text/plain": [
       "   id id_tweet    \n",
       "32 49 1.258519e+18\n",
       "   text                                                                                                                         \n",
       "32 RT @GeorgeMgoblue07: Lou Reed - Sweet Jane from Rock n Roll Animal https://t.co/XiEhqqURU4 via @YouTube\\n\\nLou \\n\\nSweet Jane"
      ]
     },
     "metadata": {},
     "output_type": "display_data"
    },
    {
     "data": {
      "text/html": [
       "<table>\n",
       "<caption>A data.frame: 1 × 3</caption>\n",
       "<thead>\n",
       "\t<tr><th></th><th scope=col>id</th><th scope=col>id_tweet</th><th scope=col>text</th></tr>\n",
       "\t<tr><th></th><th scope=col>&lt;int&gt;</th><th scope=col>&lt;dbl&gt;</th><th scope=col>&lt;chr&gt;</th></tr>\n",
       "</thead>\n",
       "<tbody>\n",
       "\t<tr><th scope=row>719</th><td>1310</td><td>1.258531e+18</td><td>RT @vitorxminaj: Such a monumental moment for female Hip-Hop/Rap ðŸ‘‘\n",
       "The beat drop for @NICKIMINAJâ€™s POWERFUL verse couldnâ€™t be any better ðŸ”¥â€¦</td></tr>\n",
       "</tbody>\n",
       "</table>\n"
      ],
      "text/latex": [
       "A data.frame: 1 × 3\n",
       "\\begin{tabular}{r|lll}\n",
       "  & id & id\\_tweet & text\\\\\n",
       "  & <int> & <dbl> & <chr>\\\\\n",
       "\\hline\n",
       "\t719 & 1310 & 1.258531e+18 & RT @vitorxminaj: Such a monumental moment for female Hip-Hop/Rap ðŸ‘‘\n",
       "The beat drop for @NICKIMINAJâ€™s POWERFUL verse couldnâ€™t be any better ðŸ”¥â€¦\\\\\n",
       "\\end{tabular}\n"
      ],
      "text/markdown": [
       "\n",
       "A data.frame: 1 × 3\n",
       "\n",
       "| <!--/--> | id &lt;int&gt; | id_tweet &lt;dbl&gt; | text &lt;chr&gt; |\n",
       "|---|---|---|---|\n",
       "| 719 | 1310 | 1.258531e+18 | RT @vitorxminaj: Such a monumental moment for female Hip-Hop/Rap ðŸ‘‘\n",
       "The beat drop for @NICKIMINAJâ€™s POWERFUL verse couldnâ€™t be any better ðŸ”¥â€¦ |\n",
       "\n"
      ],
      "text/plain": [
       "    id   id_tweet    \n",
       "719 1310 1.258531e+18\n",
       "    text                                                                                                                                                    \n",
       "719 RT @vitorxminaj: Such a monumental moment for female Hip-Hop/Rap ðŸ‘‘\\nThe beat drop for @NICKIMINAJâ\\200\\231s POWERFUL verse couldnâ\\200\\231t be any better ðŸ”¥â\\200¦"
      ]
     },
     "metadata": {},
     "output_type": "display_data"
    },
    {
     "data": {
      "text/html": [
       "<table>\n",
       "<caption>A data.frame: 1 × 3</caption>\n",
       "<thead>\n",
       "\t<tr><th></th><th scope=col>id</th><th scope=col>id_tweet</th><th scope=col>text</th></tr>\n",
       "\t<tr><th></th><th scope=col>&lt;int&gt;</th><th scope=col>&lt;dbl&gt;</th><th scope=col>&lt;chr&gt;</th></tr>\n",
       "</thead>\n",
       "<tbody>\n",
       "\t<tr><th scope=row>782</th><td>1411</td><td>1.258528e+18</td><td>Reggae is big vibe</td></tr>\n",
       "</tbody>\n",
       "</table>\n"
      ],
      "text/latex": [
       "A data.frame: 1 × 3\n",
       "\\begin{tabular}{r|lll}\n",
       "  & id & id\\_tweet & text\\\\\n",
       "  & <int> & <dbl> & <chr>\\\\\n",
       "\\hline\n",
       "\t782 & 1411 & 1.258528e+18 & Reggae is big vibe\\\\\n",
       "\\end{tabular}\n"
      ],
      "text/markdown": [
       "\n",
       "A data.frame: 1 × 3\n",
       "\n",
       "| <!--/--> | id &lt;int&gt; | id_tweet &lt;dbl&gt; | text &lt;chr&gt; |\n",
       "|---|---|---|---|\n",
       "| 782 | 1411 | 1.258528e+18 | Reggae is big vibe |\n",
       "\n"
      ],
      "text/plain": [
       "    id   id_tweet     text              \n",
       "782 1411 1.258528e+18 Reggae is big vibe"
      ]
     },
     "metadata": {},
     "output_type": "display_data"
    },
    {
     "data": {
      "text/html": [
       "<table>\n",
       "<caption>A data.frame: 1 × 3</caption>\n",
       "<thead>\n",
       "\t<tr><th></th><th scope=col>id</th><th scope=col>id_tweet</th><th scope=col>text</th></tr>\n",
       "\t<tr><th></th><th scope=col>&lt;int&gt;</th><th scope=col>&lt;dbl&gt;</th><th scope=col>&lt;chr&gt;</th></tr>\n",
       "</thead>\n",
       "<tbody>\n",
       "\t<tr><th scope=row>53</th><td>77</td><td>1.258514e+18</td><td>RT @b8tch_updates: Thinking about how much I hate the band The Black Keys because they gave us another generation of Rock n Roll guys and aâ€¦</td></tr>\n",
       "</tbody>\n",
       "</table>\n"
      ],
      "text/latex": [
       "A data.frame: 1 × 3\n",
       "\\begin{tabular}{r|lll}\n",
       "  & id & id\\_tweet & text\\\\\n",
       "  & <int> & <dbl> & <chr>\\\\\n",
       "\\hline\n",
       "\t53 & 77 & 1.258514e+18 & RT @b8tch\\_updates: Thinking about how much I hate the band The Black Keys because they gave us another generation of Rock n Roll guys and aâ€¦\\\\\n",
       "\\end{tabular}\n"
      ],
      "text/markdown": [
       "\n",
       "A data.frame: 1 × 3\n",
       "\n",
       "| <!--/--> | id &lt;int&gt; | id_tweet &lt;dbl&gt; | text &lt;chr&gt; |\n",
       "|---|---|---|---|\n",
       "| 53 | 77 | 1.258514e+18 | RT @b8tch_updates: Thinking about how much I hate the band The Black Keys because they gave us another generation of Rock n Roll guys and aâ€¦ |\n",
       "\n"
      ],
      "text/plain": [
       "   id id_tweet    \n",
       "53 77 1.258514e+18\n",
       "   text                                                                                                                                          \n",
       "53 RT @b8tch_updates: Thinking about how much I hate the band The Black Keys because they gave us another generation of Rock n Roll guys and aâ\\200¦"
      ]
     },
     "metadata": {},
     "output_type": "display_data"
    }
   ],
   "source": [
    "# cluster 4\n",
    "#choix des tweet aléatoire dans df4\n",
    "tweet = verite[verite['id']==49,]\n",
    "tweet\n",
    "\n",
    "tweet = verite[verite['id']==1310,]\n",
    "tweet\n",
    "\n",
    "tweet = verite[verite['id']==1411,]\n",
    "tweet\n",
    "\n"
   ]
  },
  {
   "cell_type": "code",
   "execution_count": 85,
   "metadata": {},
   "outputs": [
    {
     "data": {
      "text/html": [
       "<table>\n",
       "<caption>A data.frame: 1 × 3</caption>\n",
       "<thead>\n",
       "\t<tr><th></th><th scope=col>id</th><th scope=col>id_tweet</th><th scope=col>text</th></tr>\n",
       "\t<tr><th></th><th scope=col>&lt;int&gt;</th><th scope=col>&lt;dbl&gt;</th><th scope=col>&lt;chr&gt;</th></tr>\n",
       "</thead>\n",
       "<tbody>\n",
       "\t<tr><th scope=row>482</th><td>867</td><td>1.258526e+18</td><td>@alexgill Pop up lemonade stand at best. Needed a sense of reality.</td></tr>\n",
       "</tbody>\n",
       "</table>\n"
      ],
      "text/latex": [
       "A data.frame: 1 × 3\n",
       "\\begin{tabular}{r|lll}\n",
       "  & id & id\\_tweet & text\\\\\n",
       "  & <int> & <dbl> & <chr>\\\\\n",
       "\\hline\n",
       "\t482 & 867 & 1.258526e+18 & @alexgill Pop up lemonade stand at best. Needed a sense of reality.\\\\\n",
       "\\end{tabular}\n"
      ],
      "text/markdown": [
       "\n",
       "A data.frame: 1 × 3\n",
       "\n",
       "| <!--/--> | id &lt;int&gt; | id_tweet &lt;dbl&gt; | text &lt;chr&gt; |\n",
       "|---|---|---|---|\n",
       "| 482 | 867 | 1.258526e+18 | @alexgill Pop up lemonade stand at best. Needed a sense of reality. |\n",
       "\n"
      ],
      "text/plain": [
       "    id  id_tweet    \n",
       "482 867 1.258526e+18\n",
       "    text                                                               \n",
       "482 @alexgill Pop up lemonade stand at best. Needed a sense of reality."
      ]
     },
     "metadata": {},
     "output_type": "display_data"
    },
    {
     "data": {
      "text/html": [
       "<table>\n",
       "<caption>A data.frame: 1 × 3</caption>\n",
       "<thead>\n",
       "\t<tr><th></th><th scope=col>id</th><th scope=col>id_tweet</th><th scope=col>text</th></tr>\n",
       "\t<tr><th></th><th scope=col>&lt;int&gt;</th><th scope=col>&lt;dbl&gt;</th><th scope=col>&lt;chr&gt;</th></tr>\n",
       "</thead>\n",
       "<tbody>\n",
       "\t<tr><th scope=row>1181</th><td>2101</td><td>1.258528e+18</td><td>RT @DRIVE: This 455 V8-powered, ninth-gen Oldsmobile 98 was destined for a gruesome death via demolition derby, until jazz trumpeter (and Lâ€¦</td></tr>\n",
       "</tbody>\n",
       "</table>\n"
      ],
      "text/latex": [
       "A data.frame: 1 × 3\n",
       "\\begin{tabular}{r|lll}\n",
       "  & id & id\\_tweet & text\\\\\n",
       "  & <int> & <dbl> & <chr>\\\\\n",
       "\\hline\n",
       "\t1181 & 2101 & 1.258528e+18 & RT @DRIVE: This 455 V8-powered, ninth-gen Oldsmobile 98 was destined for a gruesome death via demolition derby, until jazz trumpeter (and Lâ€¦\\\\\n",
       "\\end{tabular}\n"
      ],
      "text/markdown": [
       "\n",
       "A data.frame: 1 × 3\n",
       "\n",
       "| <!--/--> | id &lt;int&gt; | id_tweet &lt;dbl&gt; | text &lt;chr&gt; |\n",
       "|---|---|---|---|\n",
       "| 1181 | 2101 | 1.258528e+18 | RT @DRIVE: This 455 V8-powered, ninth-gen Oldsmobile 98 was destined for a gruesome death via demolition derby, until jazz trumpeter (and Lâ€¦ |\n",
       "\n"
      ],
      "text/plain": [
       "     id   id_tweet    \n",
       "1181 2101 1.258528e+18\n",
       "     text                                                                                                                                          \n",
       "1181 RT @DRIVE: This 455 V8-powered, ninth-gen Oldsmobile 98 was destined for a gruesome death via demolition derby, until jazz trumpeter (and Lâ\\200¦"
      ]
     },
     "metadata": {},
     "output_type": "display_data"
    },
    {
     "data": {
      "text/html": [
       "<table>\n",
       "<caption>A data.frame: 1 × 3</caption>\n",
       "<thead>\n",
       "\t<tr><th></th><th scope=col>id</th><th scope=col>id_tweet</th><th scope=col>text</th></tr>\n",
       "\t<tr><th></th><th scope=col>&lt;int&gt;</th><th scope=col>&lt;dbl&gt;</th><th scope=col>&lt;chr&gt;</th></tr>\n",
       "</thead>\n",
       "<tbody>\n",
       "\t<tr><th scope=row>1207</th><td>2135</td><td>1.258527e+18</td><td>@wottermelon acid jazz son https://t.co/9pCYqpNba9</td></tr>\n",
       "</tbody>\n",
       "</table>\n"
      ],
      "text/latex": [
       "A data.frame: 1 × 3\n",
       "\\begin{tabular}{r|lll}\n",
       "  & id & id\\_tweet & text\\\\\n",
       "  & <int> & <dbl> & <chr>\\\\\n",
       "\\hline\n",
       "\t1207 & 2135 & 1.258527e+18 & @wottermelon acid jazz son https://t.co/9pCYqpNba9\\\\\n",
       "\\end{tabular}\n"
      ],
      "text/markdown": [
       "\n",
       "A data.frame: 1 × 3\n",
       "\n",
       "| <!--/--> | id &lt;int&gt; | id_tweet &lt;dbl&gt; | text &lt;chr&gt; |\n",
       "|---|---|---|---|\n",
       "| 1207 | 2135 | 1.258527e+18 | @wottermelon acid jazz son https://t.co/9pCYqpNba9 |\n",
       "\n"
      ],
      "text/plain": [
       "     id   id_tweet     text                                              \n",
       "1207 2135 1.258527e+18 @wottermelon acid jazz son https://t.co/9pCYqpNba9"
      ]
     },
     "metadata": {},
     "output_type": "display_data"
    }
   ],
   "source": [
    "# cluster 5\n",
    "#choix des tweet aléatoire dans df5\n",
    "tweet = verite[verite['id']==867,]\n",
    "tweet\n",
    "\n",
    "tweet = verite[verite['id']==2101,]\n",
    "tweet\n",
    "\n",
    "\n",
    "tweet = verite[verite['id']==2135,]\n",
    "tweet\n"
   ]
  },
  {
   "cell_type": "code",
   "execution_count": 88,
   "metadata": {},
   "outputs": [
    {
     "data": {
      "text/html": [
       "<table>\n",
       "<caption>A data.frame: 1 × 3</caption>\n",
       "<thead>\n",
       "\t<tr><th></th><th scope=col>id</th><th scope=col>id_tweet</th><th scope=col>text</th></tr>\n",
       "\t<tr><th></th><th scope=col>&lt;int&gt;</th><th scope=col>&lt;dbl&gt;</th><th scope=col>&lt;chr&gt;</th></tr>\n",
       "</thead>\n",
       "<tbody>\n",
       "\t<tr><th scope=row>1120</th><td>2001</td><td>1.258529e+18</td><td>@alisonbrie @FrontlineFoods @CommunityTV Gah, I work (essential and all that jazz).  \n",
       "\n",
       "It's going to be epic.    #AndAMovie</td></tr>\n",
       "</tbody>\n",
       "</table>\n"
      ],
      "text/latex": [
       "A data.frame: 1 × 3\n",
       "\\begin{tabular}{r|lll}\n",
       "  & id & id\\_tweet & text\\\\\n",
       "  & <int> & <dbl> & <chr>\\\\\n",
       "\\hline\n",
       "\t1120 & 2001 & 1.258529e+18 & @alisonbrie @FrontlineFoods @CommunityTV Gah, I work (essential and all that jazz).  \n",
       "\n",
       "It's going to be epic.    \\#AndAMovie\\\\\n",
       "\\end{tabular}\n"
      ],
      "text/markdown": [
       "\n",
       "A data.frame: 1 × 3\n",
       "\n",
       "| <!--/--> | id &lt;int&gt; | id_tweet &lt;dbl&gt; | text &lt;chr&gt; |\n",
       "|---|---|---|---|\n",
       "| 1120 | 2001 | 1.258529e+18 | @alisonbrie @FrontlineFoods @CommunityTV Gah, I work (essential and all that jazz).  \n",
       "\n",
       "It's going to be epic.    #AndAMovie |\n",
       "\n"
      ],
      "text/plain": [
       "     id   id_tweet    \n",
       "1120 2001 1.258529e+18\n",
       "     text                                                                                                                         \n",
       "1120 @alisonbrie @FrontlineFoods @CommunityTV Gah, I work (essential and all that jazz).  \\n\\nIt's going to be epic.    #AndAMovie"
      ]
     },
     "metadata": {},
     "output_type": "display_data"
    },
    {
     "data": {
      "text/html": [
       "<table>\n",
       "<caption>A data.frame: 1 × 3</caption>\n",
       "<thead>\n",
       "\t<tr><th></th><th scope=col>id</th><th scope=col>id_tweet</th><th scope=col>text</th></tr>\n",
       "\t<tr><th></th><th scope=col>&lt;int&gt;</th><th scope=col>&lt;dbl&gt;</th><th scope=col>&lt;chr&gt;</th></tr>\n",
       "</thead>\n",
       "<tbody>\n",
       "\t<tr><th scope=row>1147</th><td>2048</td><td>1.258529e+18</td><td>Fritzel's European Jazz Pub in Black and White\n",
       "New Orleans https://t.co/wMLicSZuIg</td></tr>\n",
       "</tbody>\n",
       "</table>\n"
      ],
      "text/latex": [
       "A data.frame: 1 × 3\n",
       "\\begin{tabular}{r|lll}\n",
       "  & id & id\\_tweet & text\\\\\n",
       "  & <int> & <dbl> & <chr>\\\\\n",
       "\\hline\n",
       "\t1147 & 2048 & 1.258529e+18 & Fritzel's European Jazz Pub in Black and White\n",
       "New Orleans https://t.co/wMLicSZuIg\\\\\n",
       "\\end{tabular}\n"
      ],
      "text/markdown": [
       "\n",
       "A data.frame: 1 × 3\n",
       "\n",
       "| <!--/--> | id &lt;int&gt; | id_tweet &lt;dbl&gt; | text &lt;chr&gt; |\n",
       "|---|---|---|---|\n",
       "| 1147 | 2048 | 1.258529e+18 | Fritzel's European Jazz Pub in Black and White\n",
       "New Orleans https://t.co/wMLicSZuIg |\n",
       "\n"
      ],
      "text/plain": [
       "     id   id_tweet    \n",
       "1147 2048 1.258529e+18\n",
       "     text                                                                               \n",
       "1147 Fritzel's European Jazz Pub in Black and White\\nNew Orleans https://t.co/wMLicSZuIg"
      ]
     },
     "metadata": {},
     "output_type": "display_data"
    },
    {
     "data": {
      "text/html": [
       "<table>\n",
       "<caption>A data.frame: 1 × 3</caption>\n",
       "<thead>\n",
       "\t<tr><th></th><th scope=col>id</th><th scope=col>id_tweet</th><th scope=col>text</th></tr>\n",
       "\t<tr><th></th><th scope=col>&lt;int&gt;</th><th scope=col>&lt;dbl&gt;</th><th scope=col>&lt;chr&gt;</th></tr>\n",
       "</thead>\n",
       "<tbody>\n",
       "\t<tr><th scope=row>1103</th><td>1969</td><td>1.25853e+18</td><td>This is the hotel where we stayed on our two visits there for the Jazz Fest!! @pauljimerson https://t.co/MGZ64Pj9Jn</td></tr>\n",
       "</tbody>\n",
       "</table>\n"
      ],
      "text/latex": [
       "A data.frame: 1 × 3\n",
       "\\begin{tabular}{r|lll}\n",
       "  & id & id\\_tweet & text\\\\\n",
       "  & <int> & <dbl> & <chr>\\\\\n",
       "\\hline\n",
       "\t1103 & 1969 & 1.25853e+18 & This is the hotel where we stayed on our two visits there for the Jazz Fest!! @pauljimerson https://t.co/MGZ64Pj9Jn\\\\\n",
       "\\end{tabular}\n"
      ],
      "text/markdown": [
       "\n",
       "A data.frame: 1 × 3\n",
       "\n",
       "| <!--/--> | id &lt;int&gt; | id_tweet &lt;dbl&gt; | text &lt;chr&gt; |\n",
       "|---|---|---|---|\n",
       "| 1103 | 1969 | 1.25853e+18 | This is the hotel where we stayed on our two visits there for the Jazz Fest!! @pauljimerson https://t.co/MGZ64Pj9Jn |\n",
       "\n"
      ],
      "text/plain": [
       "     id   id_tweet   \n",
       "1103 1969 1.25853e+18\n",
       "     text                                                                                                               \n",
       "1103 This is the hotel where we stayed on our two visits there for the Jazz Fest!! @pauljimerson https://t.co/MGZ64Pj9Jn"
      ]
     },
     "metadata": {},
     "output_type": "display_data"
    }
   ],
   "source": [
    "# cluster 6\n",
    "#choix des tweet aléatoire dans df6\n",
    "tweet = verite[verite['id']==2001,]\n",
    "tweet\n",
    "\n",
    "tweet = verite[verite['id']==2048,]\n",
    "tweet\n",
    "\n",
    "tweet = verite[verite['id']==1969,]\n",
    "tweet"
   ]
  },
  {
   "cell_type": "code",
   "execution_count": 90,
   "metadata": {},
   "outputs": [
    {
     "data": {
      "text/html": [
       "<table>\n",
       "<caption>A data.frame: 1 × 3</caption>\n",
       "<thead>\n",
       "\t<tr><th></th><th scope=col>id</th><th scope=col>id_tweet</th><th scope=col>text</th></tr>\n",
       "\t<tr><th></th><th scope=col>&lt;int&gt;</th><th scope=col>&lt;dbl&gt;</th><th scope=col>&lt;chr&gt;</th></tr>\n",
       "</thead>\n",
       "<tbody>\n",
       "\t<tr><th scope=row>43</th><td>62</td><td>1.258516e+18</td><td>RT @kouzai2007: rock'n roll\n",
       " https://t.co/sJxBQe4HCf</td></tr>\n",
       "</tbody>\n",
       "</table>\n"
      ],
      "text/latex": [
       "A data.frame: 1 × 3\n",
       "\\begin{tabular}{r|lll}\n",
       "  & id & id\\_tweet & text\\\\\n",
       "  & <int> & <dbl> & <chr>\\\\\n",
       "\\hline\n",
       "\t43 & 62 & 1.258516e+18 & RT @kouzai2007: rock'n roll\n",
       " https://t.co/sJxBQe4HCf\\\\\n",
       "\\end{tabular}\n"
      ],
      "text/markdown": [
       "\n",
       "A data.frame: 1 × 3\n",
       "\n",
       "| <!--/--> | id &lt;int&gt; | id_tweet &lt;dbl&gt; | text &lt;chr&gt; |\n",
       "|---|---|---|---|\n",
       "| 43 | 62 | 1.258516e+18 | RT @kouzai2007: rock'n roll\n",
       " https://t.co/sJxBQe4HCf |\n",
       "\n"
      ],
      "text/plain": [
       "   id id_tweet     text                                                 \n",
       "43 62 1.258516e+18 RT @kouzai2007: rock'n roll\\n https://t.co/sJxBQe4HCf"
      ]
     },
     "metadata": {},
     "output_type": "display_data"
    },
    {
     "data": {
      "text/html": [
       "<table>\n",
       "<caption>A data.frame: 1 × 3</caption>\n",
       "<thead>\n",
       "\t<tr><th></th><th scope=col>id</th><th scope=col>id_tweet</th><th scope=col>text</th></tr>\n",
       "\t<tr><th></th><th scope=col>&lt;int&gt;</th><th scope=col>&lt;dbl&gt;</th><th scope=col>&lt;chr&gt;</th></tr>\n",
       "</thead>\n",
       "<tbody>\n",
       "\t<tr><th scope=row>78</th><td>113</td><td>1.258507e+18</td><td>RT @openmicartists: New post (Revisiting Wayneâ€™s World, A Rockâ€™nâ€™Roll Party That Still Feels Familiar) has been published on Open Mic Artisâ€¦</td></tr>\n",
       "</tbody>\n",
       "</table>\n"
      ],
      "text/latex": [
       "A data.frame: 1 × 3\n",
       "\\begin{tabular}{r|lll}\n",
       "  & id & id\\_tweet & text\\\\\n",
       "  & <int> & <dbl> & <chr>\\\\\n",
       "\\hline\n",
       "\t78 & 113 & 1.258507e+18 & RT @openmicartists: New post (Revisiting Wayneâ€™s World, A Rockâ€™nâ€™Roll Party That Still Feels Familiar) has been published on Open Mic Artisâ€¦\\\\\n",
       "\\end{tabular}\n"
      ],
      "text/markdown": [
       "\n",
       "A data.frame: 1 × 3\n",
       "\n",
       "| <!--/--> | id &lt;int&gt; | id_tweet &lt;dbl&gt; | text &lt;chr&gt; |\n",
       "|---|---|---|---|\n",
       "| 78 | 113 | 1.258507e+18 | RT @openmicartists: New post (Revisiting Wayneâ€™s World, A Rockâ€™nâ€™Roll Party That Still Feels Familiar) has been published on Open Mic Artisâ€¦ |\n",
       "\n"
      ],
      "text/plain": [
       "   id  id_tweet    \n",
       "78 113 1.258507e+18\n",
       "   text                                                                                                                                                \n",
       "78 RT @openmicartists: New post (Revisiting Wayneâ\\200\\231s World, A Rockâ\\200\\231nâ\\200\\231Roll Party That Still Feels Familiar) has been published on Open Mic Artisâ\\200¦"
      ]
     },
     "metadata": {},
     "output_type": "display_data"
    },
    {
     "data": {
      "text/html": [
       "<table>\n",
       "<caption>A data.frame: 1 × 3</caption>\n",
       "<thead>\n",
       "\t<tr><th></th><th scope=col>id</th><th scope=col>id_tweet</th><th scope=col>text</th></tr>\n",
       "\t<tr><th></th><th scope=col>&lt;int&gt;</th><th scope=col>&lt;dbl&gt;</th><th scope=col>&lt;chr&gt;</th></tr>\n",
       "</thead>\n",
       "<tbody>\n",
       "\t<tr><th scope=row>790</th><td>1430</td><td>1.258525e+18</td><td>Great track and video! #Reggae #MusicVideo #YouTube https://t.co/njAkhIf5pL</td></tr>\n",
       "</tbody>\n",
       "</table>\n"
      ],
      "text/latex": [
       "A data.frame: 1 × 3\n",
       "\\begin{tabular}{r|lll}\n",
       "  & id & id\\_tweet & text\\\\\n",
       "  & <int> & <dbl> & <chr>\\\\\n",
       "\\hline\n",
       "\t790 & 1430 & 1.258525e+18 & Great track and video! \\#Reggae \\#MusicVideo \\#YouTube https://t.co/njAkhIf5pL\\\\\n",
       "\\end{tabular}\n"
      ],
      "text/markdown": [
       "\n",
       "A data.frame: 1 × 3\n",
       "\n",
       "| <!--/--> | id &lt;int&gt; | id_tweet &lt;dbl&gt; | text &lt;chr&gt; |\n",
       "|---|---|---|---|\n",
       "| 790 | 1430 | 1.258525e+18 | Great track and video! #Reggae #MusicVideo #YouTube https://t.co/njAkhIf5pL |\n",
       "\n"
      ],
      "text/plain": [
       "    id   id_tweet    \n",
       "790 1430 1.258525e+18\n",
       "    text                                                                       \n",
       "790 Great track and video! #Reggae #MusicVideo #YouTube https://t.co/njAkhIf5pL"
      ]
     },
     "metadata": {},
     "output_type": "display_data"
    }
   ],
   "source": [
    "# cluster 7\n",
    "#choix des tweet aléatoire dans df7\n",
    "tweet = verite[verite['id']==62,]\n",
    "tweet\n",
    "\n",
    "tweet = verite[verite['id']==113,]\n",
    "tweet\n",
    "\n",
    "tweet = verite[verite['id']==1430,]\n",
    "tweet"
   ]
  },
  {
   "cell_type": "markdown",
   "metadata": {},
   "source": [
    "## K Means sur l'AFC"
   ]
  },
  {
   "cell_type": "code",
   "execution_count": 97,
   "metadata": {},
   "outputs": [],
   "source": [
    "km <- kmeans(music.afc$row$coord,7)"
   ]
  },
  {
   "cell_type": "code",
   "execution_count": 98,
   "metadata": {},
   "outputs": [
    {
     "data": {
      "image/png": "[encoded data removed]",
      "text/plain": [
       "plot without title"
      ]
     },
     "metadata": {
      "image/png": {
       "height": 420,
       "width": 420
      },
      "text/plain": {
       "height": 420,
       "width": 420
      }
     },
     "output_type": "display_data"
    }
   ],
   "source": [
    "fviz_cluster(km,data=music.afc$row$coord)"
   ]
  },
  {
   "cell_type": "code",
   "execution_count": 99,
   "metadata": {},
   "outputs": [],
   "source": [
    "matrice.cluster <- as.data.frame(km$cluster)"
   ]
  },
  {
   "cell_type": "code",
   "execution_count": 101,
   "metadata": {},
   "outputs": [
    {
     "name": "stdout",
     "output_type": "stream",
     "text": [
      "Nombre de tweet dans le cluster 1 :  205 \n",
      "Nombre de tweet dans le cluster 2 :  1164 \n",
      "Nombre de tweet dans le cluster 3 :  2 \n",
      "Nombre de tweet dans le cluster 4 :  1 \n",
      "Nombre de tweet dans le cluster 5 :  8 \n",
      "Nombre de tweet dans le cluster 6 :  8 \n",
      "Nombre de tweet dans le cluster 7 :  4 \n"
     ]
    }
   ],
   "source": [
    "df1 <- as.data.frame(subset(matrice.cluster,matrice.cluster['km$cluster']==1))\n",
    "df2 <- subset(matrice.cluster,matrice.cluster['km$cluster']==2)\n",
    "df3 <- subset(matrice.cluster,matrice.cluster['km$cluster']==3)\n",
    "df4 <- subset(matrice.cluster,matrice.cluster['km$cluster']==4)\n",
    "df5 <- subset(matrice.cluster,matrice.cluster['km$cluster']==5)\n",
    "df6 <- subset(matrice.cluster,matrice.cluster['km$cluster']==6)\n",
    "df7 <- subset(matrice.cluster,matrice.cluster['km$cluster']==7)\n",
    "cat(\"Nombre de tweet dans le cluster 1 : \",nrow(df1),\"\\n\")\n",
    "cat(\"Nombre de tweet dans le cluster 2 : \",nrow(df2),\"\\n\")\n",
    "cat(\"Nombre de tweet dans le cluster 3 : \",nrow(df3),\"\\n\")\n",
    "cat(\"Nombre de tweet dans le cluster 4 : \",nrow(df4),\"\\n\")\n",
    "cat(\"Nombre de tweet dans le cluster 5 : \",nrow(df5),\"\\n\")\n",
    "cat(\"Nombre de tweet dans le cluster 6 : \",nrow(df6),\"\\n\")\n",
    "cat(\"Nombre de tweet dans le cluster 7 : \",nrow(df7),\"\\n\")"
   ]
  },
  {
   "cell_type": "code",
   "execution_count": 120,
   "metadata": {},
   "outputs": [
    {
     "data": {
      "text/html": [
       "<table>\n",
       "<caption>A data.frame: 4 × 1</caption>\n",
       "<thead>\n",
       "\t<tr><th></th><th scope=col>km$cluster</th></tr>\n",
       "\t<tr><th></th><th scope=col>&lt;int&gt;</th></tr>\n",
       "</thead>\n",
       "<tbody>\n",
       "\t<tr><th scope=row>522</th><td>7</td></tr>\n",
       "\t<tr><th scope=row>1069</th><td>7</td></tr>\n",
       "\t<tr><th scope=row>1077</th><td>7</td></tr>\n",
       "\t<tr><th scope=row>2214</th><td>7</td></tr>\n",
       "</tbody>\n",
       "</table>\n"
      ],
      "text/latex": [
       "A data.frame: 4 × 1\n",
       "\\begin{tabular}{r|l}\n",
       "  & km\\$cluster\\\\\n",
       "  & <int>\\\\\n",
       "\\hline\n",
       "\t522 & 7\\\\\n",
       "\t1069 & 7\\\\\n",
       "\t1077 & 7\\\\\n",
       "\t2214 & 7\\\\\n",
       "\\end{tabular}\n"
      ],
      "text/markdown": [
       "\n",
       "A data.frame: 4 × 1\n",
       "\n",
       "| <!--/--> | km$cluster &lt;int&gt; |\n",
       "|---|---|\n",
       "| 522 | 7 |\n",
       "| 1069 | 7 |\n",
       "| 1077 | 7 |\n",
       "| 2214 | 7 |\n",
       "\n"
      ],
      "text/plain": [
       "     km$cluster\n",
       "522  7         \n",
       "1069 7         \n",
       "1077 7         \n",
       "2214 7         "
      ]
     },
     "metadata": {},
     "output_type": "display_data"
    }
   ],
   "source": [
    "df7"
   ]
  },
  {
   "cell_type": "markdown",
   "metadata": {},
   "source": [
    "## Lecture Matrice des Teewts [id,texte]"
   ]
  },
  {
   "cell_type": "code",
   "execution_count": 102,
   "metadata": {},
   "outputs": [],
   "source": [
    "verite <- read.csv2(\"../../Data/music_df_id_text.csv\",sep=',',header=T)"
   ]
  },
  {
   "cell_type": "code",
   "execution_count": 104,
   "metadata": {},
   "outputs": [
    {
     "data": {
      "text/html": [
       "<table>\n",
       "<caption>A data.frame: 1 × 3</caption>\n",
       "<thead>\n",
       "\t<tr><th></th><th scope=col>id</th><th scope=col>id_tweet</th><th scope=col>text</th></tr>\n",
       "\t<tr><th></th><th scope=col>&lt;int&gt;</th><th scope=col>&lt;dbl&gt;</th><th scope=col>&lt;chr&gt;</th></tr>\n",
       "</thead>\n",
       "<tbody>\n",
       "\t<tr><th scope=row>36</th><td>53</td><td>1.258518e+18</td><td>Now playing Rainbow - Long Live Rock 'N' Roll on Classic Rock 109. https://t.co/BrOZxviDIn</td></tr>\n",
       "</tbody>\n",
       "</table>\n"
      ],
      "text/latex": [
       "A data.frame: 1 × 3\n",
       "\\begin{tabular}{r|lll}\n",
       "  & id & id\\_tweet & text\\\\\n",
       "  & <int> & <dbl> & <chr>\\\\\n",
       "\\hline\n",
       "\t36 & 53 & 1.258518e+18 & Now playing Rainbow - Long Live Rock 'N' Roll on Classic Rock 109. https://t.co/BrOZxviDIn\\\\\n",
       "\\end{tabular}\n"
      ],
      "text/markdown": [
       "\n",
       "A data.frame: 1 × 3\n",
       "\n",
       "| <!--/--> | id &lt;int&gt; | id_tweet &lt;dbl&gt; | text &lt;chr&gt; |\n",
       "|---|---|---|---|\n",
       "| 36 | 53 | 1.258518e+18 | Now playing Rainbow - Long Live Rock 'N' Roll on Classic Rock 109. https://t.co/BrOZxviDIn |\n",
       "\n"
      ],
      "text/plain": [
       "   id id_tweet    \n",
       "36 53 1.258518e+18\n",
       "   text                                                                                      \n",
       "36 Now playing Rainbow - Long Live Rock 'N' Roll on Classic Rock 109. https://t.co/BrOZxviDIn"
      ]
     },
     "metadata": {},
     "output_type": "display_data"
    },
    {
     "data": {
      "text/html": [
       "<table>\n",
       "<caption>A data.frame: 1 × 3</caption>\n",
       "<thead>\n",
       "\t<tr><th></th><th scope=col>id</th><th scope=col>id_tweet</th><th scope=col>text</th></tr>\n",
       "\t<tr><th></th><th scope=col>&lt;int&gt;</th><th scope=col>&lt;dbl&gt;</th><th scope=col>&lt;chr&gt;</th></tr>\n",
       "</thead>\n",
       "<tbody>\n",
       "\t<tr><th scope=row>14</th><td>25</td><td>1.258523e+18</td><td>RT @Suburbanhero714: Bad Company - Rock 'N' Roll Fantasy \n",
       "https://t.co/1vxQFleEsU https://t.co/Q0Dm4dkJYX</td></tr>\n",
       "</tbody>\n",
       "</table>\n"
      ],
      "text/latex": [
       "A data.frame: 1 × 3\n",
       "\\begin{tabular}{r|lll}\n",
       "  & id & id\\_tweet & text\\\\\n",
       "  & <int> & <dbl> & <chr>\\\\\n",
       "\\hline\n",
       "\t14 & 25 & 1.258523e+18 & RT @Suburbanhero714: Bad Company - Rock 'N' Roll Fantasy \n",
       "https://t.co/1vxQFleEsU https://t.co/Q0Dm4dkJYX\\\\\n",
       "\\end{tabular}\n"
      ],
      "text/markdown": [
       "\n",
       "A data.frame: 1 × 3\n",
       "\n",
       "| <!--/--> | id &lt;int&gt; | id_tweet &lt;dbl&gt; | text &lt;chr&gt; |\n",
       "|---|---|---|---|\n",
       "| 14 | 25 | 1.258523e+18 | RT @Suburbanhero714: Bad Company - Rock 'N' Roll Fantasy \n",
       "https://t.co/1vxQFleEsU https://t.co/Q0Dm4dkJYX |\n",
       "\n"
      ],
      "text/plain": [
       "   id id_tweet    \n",
       "14 25 1.258523e+18\n",
       "   text                                                                                                      \n",
       "14 RT @Suburbanhero714: Bad Company - Rock 'N' Roll Fantasy \\nhttps://t.co/1vxQFleEsU https://t.co/Q0Dm4dkJYX"
      ]
     },
     "metadata": {},
     "output_type": "display_data"
    },
    {
     "data": {
      "text/html": [
       "<table>\n",
       "<caption>A data.frame: 1 × 3</caption>\n",
       "<thead>\n",
       "\t<tr><th></th><th scope=col>id</th><th scope=col>id_tweet</th><th scope=col>text</th></tr>\n",
       "\t<tr><th></th><th scope=col>&lt;int&gt;</th><th scope=col>&lt;dbl&gt;</th><th scope=col>&lt;chr&gt;</th></tr>\n",
       "</thead>\n",
       "<tbody>\n",
       "\t<tr><th scope=row>1284</th><td>2258</td><td>1.258675e+18</td><td>RT @Only_rock_radio: Listen on rotation now: Don't You Know by Deuces Wild Rock n Roll @deuceswildrnr on https://t.co/PZqZAxv5zf https://t.â€¦</td></tr>\n",
       "</tbody>\n",
       "</table>\n"
      ],
      "text/latex": [
       "A data.frame: 1 × 3\n",
       "\\begin{tabular}{r|lll}\n",
       "  & id & id\\_tweet & text\\\\\n",
       "  & <int> & <dbl> & <chr>\\\\\n",
       "\\hline\n",
       "\t1284 & 2258 & 1.258675e+18 & RT @Only\\_rock\\_radio: Listen on rotation now: Don't You Know by Deuces Wild Rock n Roll @deuceswildrnr on https://t.co/PZqZAxv5zf https://t.â€¦\\\\\n",
       "\\end{tabular}\n"
      ],
      "text/markdown": [
       "\n",
       "A data.frame: 1 × 3\n",
       "\n",
       "| <!--/--> | id &lt;int&gt; | id_tweet &lt;dbl&gt; | text &lt;chr&gt; |\n",
       "|---|---|---|---|\n",
       "| 1284 | 2258 | 1.258675e+18 | RT @Only_rock_radio: Listen on rotation now: Don't You Know by Deuces Wild Rock n Roll @deuceswildrnr on https://t.co/PZqZAxv5zf https://t.â€¦ |\n",
       "\n"
      ],
      "text/plain": [
       "     id   id_tweet    \n",
       "1284 2258 1.258675e+18\n",
       "     text                                                                                                                                          \n",
       "1284 RT @Only_rock_radio: Listen on rotation now: Don't You Know by Deuces Wild Rock n Roll @deuceswildrnr on https://t.co/PZqZAxv5zf https://t.â\\200¦"
      ]
     },
     "metadata": {},
     "output_type": "display_data"
    }
   ],
   "source": [
    "# cluster 1\n",
    "#choix des tweet aléatoire dans df1\n",
    "tweet = verite[verite['id']==53,]\n",
    "tweet\n",
    "\n",
    "tweet = verite[verite['id']==25,]\n",
    "tweet\n",
    "\n",
    "tweet = verite[verite['id']==2258,]\n",
    "tweet"
   ]
  },
  {
   "cell_type": "code",
   "execution_count": 106,
   "metadata": {},
   "outputs": [
    {
     "data": {
      "text/html": [
       "<table>\n",
       "<caption>A data.frame: 1 × 3</caption>\n",
       "<thead>\n",
       "\t<tr><th></th><th scope=col>id</th><th scope=col>id_tweet</th><th scope=col>text</th></tr>\n",
       "\t<tr><th></th><th scope=col>&lt;int&gt;</th><th scope=col>&lt;dbl&gt;</th><th scope=col>&lt;chr&gt;</th></tr>\n",
       "</thead>\n",
       "<tbody>\n",
       "\t<tr><th scope=row>17</th><td>30</td><td>1.258523e+18</td><td>RT @the_yubin: 200507 IG\n",
       "\n",
       "\"rock n roll ðŸ‘©ðŸ¼â€ðŸŽ¤\" \n",
       "\n",
       "#YUBIN #ìœ ë¹ˆ https://t.co/oKpwCdeG5d</td></tr>\n",
       "</tbody>\n",
       "</table>\n"
      ],
      "text/latex": [
       "A data.frame: 1 × 3\n",
       "\\begin{tabular}{r|lll}\n",
       "  & id & id\\_tweet & text\\\\\n",
       "  & <int> & <dbl> & <chr>\\\\\n",
       "\\hline\n",
       "\t17 & 30 & 1.258523e+18 & RT @the\\_yubin: 200507 IG\n",
       "\n",
       "\"rock n roll ðŸ‘©ðŸ¼â€ðŸŽ¤\" \n",
       "\n",
       "\\#YUBIN \\#ìœ ë¹ˆ https://t.co/oKpwCdeG5d\\\\\n",
       "\\end{tabular}\n"
      ],
      "text/markdown": [
       "\n",
       "A data.frame: 1 × 3\n",
       "\n",
       "| <!--/--> | id &lt;int&gt; | id_tweet &lt;dbl&gt; | text &lt;chr&gt; |\n",
       "|---|---|---|---|\n",
       "| 17 | 30 | 1.258523e+18 | RT @the_yubin: 200507 IG\n",
       "\n",
       "\"rock n roll ðŸ‘©ðŸ¼â€ðŸŽ¤\" \n",
       "\n",
       "#YUBIN #ìœ ë¹ˆ https://t.co/oKpwCdeG5d |\n",
       "\n"
      ],
      "text/plain": [
       "   id id_tweet    \n",
       "17 30 1.258523e+18\n",
       "   text                                                                                                \n",
       "17 RT @the_yubin: 200507 IG\\n\\n\"rock n roll ðŸ‘©ðŸ\\217¼â\\200\\215ðŸŽ¤\" \\n\\n#YUBIN #ìœ ë¹\\210 https://t.co/oKpwCdeG5d"
      ]
     },
     "metadata": {},
     "output_type": "display_data"
    },
    {
     "data": {
      "text/html": [
       "<table>\n",
       "<caption>A data.frame: 1 × 3</caption>\n",
       "<thead>\n",
       "\t<tr><th></th><th scope=col>id</th><th scope=col>id_tweet</th><th scope=col>text</th></tr>\n",
       "\t<tr><th></th><th scope=col>&lt;int&gt;</th><th scope=col>&lt;dbl&gt;</th><th scope=col>&lt;chr&gt;</th></tr>\n",
       "</thead>\n",
       "<tbody>\n",
       "\t<tr><th scope=row>55</th><td>80</td><td>1.258513e+18</td><td>Noel gallagher: please don't put your life in the hands of a rock n roll band \n",
       "\n",
       "Me: https://t.co/SbD9anIrMm</td></tr>\n",
       "</tbody>\n",
       "</table>\n"
      ],
      "text/latex": [
       "A data.frame: 1 × 3\n",
       "\\begin{tabular}{r|lll}\n",
       "  & id & id\\_tweet & text\\\\\n",
       "  & <int> & <dbl> & <chr>\\\\\n",
       "\\hline\n",
       "\t55 & 80 & 1.258513e+18 & Noel gallagher: please don't put your life in the hands of a rock n roll band \n",
       "\n",
       "Me: https://t.co/SbD9anIrMm\\\\\n",
       "\\end{tabular}\n"
      ],
      "text/markdown": [
       "\n",
       "A data.frame: 1 × 3\n",
       "\n",
       "| <!--/--> | id &lt;int&gt; | id_tweet &lt;dbl&gt; | text &lt;chr&gt; |\n",
       "|---|---|---|---|\n",
       "| 55 | 80 | 1.258513e+18 | Noel gallagher: please don't put your life in the hands of a rock n roll band \n",
       "\n",
       "Me: https://t.co/SbD9anIrMm |\n",
       "\n"
      ],
      "text/plain": [
       "   id id_tweet    \n",
       "55 80 1.258513e+18\n",
       "   text                                                                                                         \n",
       "55 Noel gallagher: please don't put your life in the hands of a rock n roll band \\n\\nMe: https://t.co/SbD9anIrMm"
      ]
     },
     "metadata": {},
     "output_type": "display_data"
    },
    {
     "data": {
      "text/html": [
       "<table>\n",
       "<caption>A data.frame: 1 × 3</caption>\n",
       "<thead>\n",
       "\t<tr><th></th><th scope=col>id</th><th scope=col>id_tweet</th><th scope=col>text</th></tr>\n",
       "\t<tr><th></th><th scope=col>&lt;int&gt;</th><th scope=col>&lt;dbl&gt;</th><th scope=col>&lt;chr&gt;</th></tr>\n",
       "</thead>\n",
       "<tbody>\n",
       "\t<tr><th scope=row>1398</th><td>2461</td><td>1.258624e+18</td><td>RT @inkmxster: @ChapelVocalist i love your rock n roll ass</td></tr>\n",
       "</tbody>\n",
       "</table>\n"
      ],
      "text/latex": [
       "A data.frame: 1 × 3\n",
       "\\begin{tabular}{r|lll}\n",
       "  & id & id\\_tweet & text\\\\\n",
       "  & <int> & <dbl> & <chr>\\\\\n",
       "\\hline\n",
       "\t1398 & 2461 & 1.258624e+18 & RT @inkmxster: @ChapelVocalist i love your rock n roll ass\\\\\n",
       "\\end{tabular}\n"
      ],
      "text/markdown": [
       "\n",
       "A data.frame: 1 × 3\n",
       "\n",
       "| <!--/--> | id &lt;int&gt; | id_tweet &lt;dbl&gt; | text &lt;chr&gt; |\n",
       "|---|---|---|---|\n",
       "| 1398 | 2461 | 1.258624e+18 | RT @inkmxster: @ChapelVocalist i love your rock n roll ass |\n",
       "\n"
      ],
      "text/plain": [
       "     id   id_tweet    \n",
       "1398 2461 1.258624e+18\n",
       "     text                                                      \n",
       "1398 RT @inkmxster: @ChapelVocalist i love your rock n roll ass"
      ]
     },
     "metadata": {},
     "output_type": "display_data"
    }
   ],
   "source": [
    "# cluster 2\n",
    "#choix des tweet aléatoire dans df2\n",
    "tweet = verite[verite['id']==30,]\n",
    "tweet\n",
    "tweet = verite[verite['id']==80,]\n",
    "tweet\n",
    "tweet = verite[verite['id']==2461,]\n",
    "tweet"
   ]
  },
  {
   "cell_type": "code",
   "execution_count": 108,
   "metadata": {
    "scrolled": true
   },
   "outputs": [
    {
     "data": {
      "text/html": [
       "<table>\n",
       "<caption>A data.frame: 1 × 3</caption>\n",
       "<thead>\n",
       "\t<tr><th></th><th scope=col>id</th><th scope=col>id_tweet</th><th scope=col>text</th></tr>\n",
       "\t<tr><th></th><th scope=col>&lt;int&gt;</th><th scope=col>&lt;dbl&gt;</th><th scope=col>&lt;chr&gt;</th></tr>\n",
       "</thead>\n",
       "<tbody>\n",
       "\t<tr><th scope=row>949</th><td>1695</td><td>1.258504e+18</td><td>#NowPlaying Featured Artist @promodj - Devocean - Empty Bottles on Reggae Chalet #Radio https://t.co/suKZ5qnN0t</td></tr>\n",
       "</tbody>\n",
       "</table>\n"
      ],
      "text/latex": [
       "A data.frame: 1 × 3\n",
       "\\begin{tabular}{r|lll}\n",
       "  & id & id\\_tweet & text\\\\\n",
       "  & <int> & <dbl> & <chr>\\\\\n",
       "\\hline\n",
       "\t949 & 1695 & 1.258504e+18 & \\#NowPlaying Featured Artist @promodj - Devocean - Empty Bottles on Reggae Chalet \\#Radio https://t.co/suKZ5qnN0t\\\\\n",
       "\\end{tabular}\n"
      ],
      "text/markdown": [
       "\n",
       "A data.frame: 1 × 3\n",
       "\n",
       "| <!--/--> | id &lt;int&gt; | id_tweet &lt;dbl&gt; | text &lt;chr&gt; |\n",
       "|---|---|---|---|\n",
       "| 949 | 1695 | 1.258504e+18 | #NowPlaying Featured Artist @promodj - Devocean - Empty Bottles on Reggae Chalet #Radio https://t.co/suKZ5qnN0t |\n",
       "\n"
      ],
      "text/plain": [
       "    id   id_tweet    \n",
       "949 1695 1.258504e+18\n",
       "    text                                                                                                           \n",
       "949 #NowPlaying Featured Artist @promodj - Devocean - Empty Bottles on Reggae Chalet #Radio https://t.co/suKZ5qnN0t"
      ]
     },
     "metadata": {},
     "output_type": "display_data"
    },
    {
     "data": {
      "text/html": [
       "<table>\n",
       "<caption>A data.frame: 1 × 3</caption>\n",
       "<thead>\n",
       "\t<tr><th></th><th scope=col>id</th><th scope=col>id_tweet</th><th scope=col>text</th></tr>\n",
       "\t<tr><th></th><th scope=col>&lt;int&gt;</th><th scope=col>&lt;dbl&gt;</th><th scope=col>&lt;chr&gt;</th></tr>\n",
       "</thead>\n",
       "<tbody>\n",
       "\t<tr><th scope=row>976</th><td>1751</td><td>1.2585e+18</td><td>Btc is a bunch of garbage ðŸ˜¶ðŸ˜¶</td></tr>\n",
       "</tbody>\n",
       "</table>\n"
      ],
      "text/latex": [
       "A data.frame: 1 × 3\n",
       "\\begin{tabular}{r|lll}\n",
       "  & id & id\\_tweet & text\\\\\n",
       "  & <int> & <dbl> & <chr>\\\\\n",
       "\\hline\n",
       "\t976 & 1751 & 1.2585e+18 & Btc is a bunch of garbage ðŸ˜¶ðŸ˜¶\\\\\n",
       "\\end{tabular}\n"
      ],
      "text/markdown": [
       "\n",
       "A data.frame: 1 × 3\n",
       "\n",
       "| <!--/--> | id &lt;int&gt; | id_tweet &lt;dbl&gt; | text &lt;chr&gt; |\n",
       "|---|---|---|---|\n",
       "| 976 | 1751 | 1.2585e+18 | Btc is a bunch of garbage ðŸ˜¶ðŸ˜¶ |\n",
       "\n"
      ],
      "text/plain": [
       "    id   id_tweet   text                              \n",
       "976 1751 1.2585e+18 Btc is a bunch of garbage ðŸ\\230¶ðŸ\\230¶"
      ]
     },
     "metadata": {},
     "output_type": "display_data"
    }
   ],
   "source": [
    "# cluster 3\n",
    "#choix des tweet aléatoire dans df3\n",
    "tweet = verite[verite['id']==1695,]\n",
    "tweet\n",
    "\n",
    "tweet = verite[verite['id']==1751,]\n",
    "tweet"
   ]
  },
  {
   "cell_type": "code",
   "execution_count": 110,
   "metadata": {},
   "outputs": [
    {
     "data": {
      "text/html": [
       "<table>\n",
       "<caption>A data.frame: 1 × 3</caption>\n",
       "<thead>\n",
       "\t<tr><th></th><th scope=col>id</th><th scope=col>id_tweet</th><th scope=col>text</th></tr>\n",
       "\t<tr><th></th><th scope=col>&lt;int&gt;</th><th scope=col>&lt;dbl&gt;</th><th scope=col>&lt;chr&gt;</th></tr>\n",
       "</thead>\n",
       "<tbody>\n",
       "\t<tr><th scope=row>1327</th><td>2334</td><td>1.258659e+18</td><td>RT @LennaLeprena: Electric Light Orchestra - Rock n' Roll Is King (Official Video) https://t.co/T1pM6by08h via @YouTube</td></tr>\n",
       "</tbody>\n",
       "</table>\n"
      ],
      "text/latex": [
       "A data.frame: 1 × 3\n",
       "\\begin{tabular}{r|lll}\n",
       "  & id & id\\_tweet & text\\\\\n",
       "  & <int> & <dbl> & <chr>\\\\\n",
       "\\hline\n",
       "\t1327 & 2334 & 1.258659e+18 & RT @LennaLeprena: Electric Light Orchestra - Rock n' Roll Is King (Official Video) https://t.co/T1pM6by08h via @YouTube\\\\\n",
       "\\end{tabular}\n"
      ],
      "text/markdown": [
       "\n",
       "A data.frame: 1 × 3\n",
       "\n",
       "| <!--/--> | id &lt;int&gt; | id_tweet &lt;dbl&gt; | text &lt;chr&gt; |\n",
       "|---|---|---|---|\n",
       "| 1327 | 2334 | 1.258659e+18 | RT @LennaLeprena: Electric Light Orchestra - Rock n' Roll Is King (Official Video) https://t.co/T1pM6by08h via @YouTube |\n",
       "\n"
      ],
      "text/plain": [
       "     id   id_tweet    \n",
       "1327 2334 1.258659e+18\n",
       "     text                                                                                                                   \n",
       "1327 RT @LennaLeprena: Electric Light Orchestra - Rock n' Roll Is King (Official Video) https://t.co/T1pM6by08h via @YouTube"
      ]
     },
     "metadata": {},
     "output_type": "display_data"
    }
   ],
   "source": [
    "#cluster 4\n",
    "#choix des tweet aléatoire dans df4\n",
    "tweet = verite[verite['id']==2334,]\n",
    "tweet"
   ]
  },
  {
   "cell_type": "code",
   "execution_count": 113,
   "metadata": {},
   "outputs": [
    {
     "data": {
      "text/html": [
       "<table>\n",
       "<caption>A data.frame: 1 × 3</caption>\n",
       "<thead>\n",
       "\t<tr><th></th><th scope=col>id</th><th scope=col>id_tweet</th><th scope=col>text</th></tr>\n",
       "\t<tr><th></th><th scope=col>&lt;int&gt;</th><th scope=col>&lt;dbl&gt;</th><th scope=col>&lt;chr&gt;</th></tr>\n",
       "</thead>\n",
       "<tbody>\n",
       "\t<tr><th scope=row>642</th><td>1156</td><td>1.258531e+18</td><td>RT @visecs: And I got her nigga..... Grocery Bag\n",
       "Is still the greatest bar in the history of rap.</td></tr>\n",
       "</tbody>\n",
       "</table>\n"
      ],
      "text/latex": [
       "A data.frame: 1 × 3\n",
       "\\begin{tabular}{r|lll}\n",
       "  & id & id\\_tweet & text\\\\\n",
       "  & <int> & <dbl> & <chr>\\\\\n",
       "\\hline\n",
       "\t642 & 1156 & 1.258531e+18 & RT @visecs: And I got her nigga..... Grocery Bag\n",
       "Is still the greatest bar in the history of rap.\\\\\n",
       "\\end{tabular}\n"
      ],
      "text/markdown": [
       "\n",
       "A data.frame: 1 × 3\n",
       "\n",
       "| <!--/--> | id &lt;int&gt; | id_tweet &lt;dbl&gt; | text &lt;chr&gt; |\n",
       "|---|---|---|---|\n",
       "| 642 | 1156 | 1.258531e+18 | RT @visecs: And I got her nigga..... Grocery Bag\n",
       "Is still the greatest bar in the history of rap. |\n",
       "\n"
      ],
      "text/plain": [
       "    id   id_tweet    \n",
       "642 1156 1.258531e+18\n",
       "    text                                                                                              \n",
       "642 RT @visecs: And I got her nigga..... Grocery Bag\\nIs still the greatest bar in the history of rap."
      ]
     },
     "metadata": {},
     "output_type": "display_data"
    },
    {
     "data": {
      "text/html": [
       "<table>\n",
       "<caption>A data.frame: 1 × 3</caption>\n",
       "<thead>\n",
       "\t<tr><th></th><th scope=col>id</th><th scope=col>id_tweet</th><th scope=col>text</th></tr>\n",
       "\t<tr><th></th><th scope=col>&lt;int&gt;</th><th scope=col>&lt;dbl&gt;</th><th scope=col>&lt;chr&gt;</th></tr>\n",
       "</thead>\n",
       "<tbody>\n",
       "\t<tr><th scope=row>621</th><td>1108</td><td>1.258532e+18</td><td>RT @RainychRan: [new cover] \n",
       "'been wanting to cover this for ages ðŸ’œðŸ¥º\n",
       "and added a little bit rap in the middle.\n",
       "Plastic Love by the legend,â€¦</td></tr>\n",
       "</tbody>\n",
       "</table>\n"
      ],
      "text/latex": [
       "A data.frame: 1 × 3\n",
       "\\begin{tabular}{r|lll}\n",
       "  & id & id\\_tweet & text\\\\\n",
       "  & <int> & <dbl> & <chr>\\\\\n",
       "\\hline\n",
       "\t621 & 1108 & 1.258532e+18 & RT @RainychRan: {[}new cover{]} \n",
       "'been wanting to cover this for ages ðŸ’œðŸ¥º\n",
       "and added a little bit rap in the middle.\n",
       "Plastic Love by the legend,â€¦\\\\\n",
       "\\end{tabular}\n"
      ],
      "text/markdown": [
       "\n",
       "A data.frame: 1 × 3\n",
       "\n",
       "| <!--/--> | id &lt;int&gt; | id_tweet &lt;dbl&gt; | text &lt;chr&gt; |\n",
       "|---|---|---|---|\n",
       "| 621 | 1108 | 1.258532e+18 | RT @RainychRan: [new cover] \n",
       "'been wanting to cover this for ages ðŸ’œðŸ¥º\n",
       "and added a little bit rap in the middle.\n",
       "Plastic Love by the legend,â€¦ |\n",
       "\n"
      ],
      "text/plain": [
       "    id   id_tweet    \n",
       "621 1108 1.258532e+18\n",
       "    text                                                                                                                                                  \n",
       "621 RT @RainychRan: [new cover] \\n'been wanting to cover this for ages ðŸ’œðŸ¥º\\nand added a little bit rap in the middle.\\nPlastic Love by the legend,â\\200¦"
      ]
     },
     "metadata": {},
     "output_type": "display_data"
    },
    {
     "data": {
      "text/html": [
       "<table>\n",
       "<caption>A data.frame: 1 × 3</caption>\n",
       "<thead>\n",
       "\t<tr><th></th><th scope=col>id</th><th scope=col>id_tweet</th><th scope=col>text</th></tr>\n",
       "\t<tr><th></th><th scope=col>&lt;int&gt;</th><th scope=col>&lt;dbl&gt;</th><th scope=col>&lt;chr&gt;</th></tr>\n",
       "</thead>\n",
       "<tbody>\n",
       "\t<tr><th scope=row>568</th><td>1009</td><td>1.258532e+18</td><td>@EveningStandard DJing, rap, graffiti, B-boying</td></tr>\n",
       "</tbody>\n",
       "</table>\n"
      ],
      "text/latex": [
       "A data.frame: 1 × 3\n",
       "\\begin{tabular}{r|lll}\n",
       "  & id & id\\_tweet & text\\\\\n",
       "  & <int> & <dbl> & <chr>\\\\\n",
       "\\hline\n",
       "\t568 & 1009 & 1.258532e+18 & @EveningStandard DJing, rap, graffiti, B-boying\\\\\n",
       "\\end{tabular}\n"
      ],
      "text/markdown": [
       "\n",
       "A data.frame: 1 × 3\n",
       "\n",
       "| <!--/--> | id &lt;int&gt; | id_tweet &lt;dbl&gt; | text &lt;chr&gt; |\n",
       "|---|---|---|---|\n",
       "| 568 | 1009 | 1.258532e+18 | @EveningStandard DJing, rap, graffiti, B-boying |\n",
       "\n"
      ],
      "text/plain": [
       "    id   id_tweet     text                                           \n",
       "568 1009 1.258532e+18 @EveningStandard DJing, rap, graffiti, B-boying"
      ]
     },
     "metadata": {},
     "output_type": "display_data"
    }
   ],
   "source": [
    "# cluster 5\n",
    "#choix des tweet aléatoire dans df5\n",
    "tweet = verite[verite['id']==1156,]\n",
    "tweet\n",
    "\n",
    "tweet = verite[verite['id']==1108,]\n",
    "tweet\n",
    "\n",
    "tweet = verite[verite['id']==1009,]\n",
    "tweet"
   ]
  },
  {
   "cell_type": "code",
   "execution_count": 119,
   "metadata": {},
   "outputs": [
    {
     "data": {
      "text/html": [
       "<table>\n",
       "<caption>A data.frame: 1 × 3</caption>\n",
       "<thead>\n",
       "\t<tr><th></th><th scope=col>id</th><th scope=col>id_tweet</th><th scope=col>text</th></tr>\n",
       "\t<tr><th></th><th scope=col>&lt;int&gt;</th><th scope=col>&lt;dbl&gt;</th><th scope=col>&lt;chr&gt;</th></tr>\n",
       "</thead>\n",
       "<tbody>\n",
       "\t<tr><th scope=row>309</th><td>520</td><td>1.258527e+18</td><td>RT @billboard: From @ladygaga's #Chromatica to @TX_bighit's \"The Dream Chapter: Eternity\" EP, which pop music release are you most excitedâ€¦</td></tr>\n",
       "</tbody>\n",
       "</table>\n"
      ],
      "text/latex": [
       "A data.frame: 1 × 3\n",
       "\\begin{tabular}{r|lll}\n",
       "  & id & id\\_tweet & text\\\\\n",
       "  & <int> & <dbl> & <chr>\\\\\n",
       "\\hline\n",
       "\t309 & 520 & 1.258527e+18 & RT @billboard: From @ladygaga's \\#Chromatica to @TX\\_bighit's \"The Dream Chapter: Eternity\" EP, which pop music release are you most excitedâ€¦\\\\\n",
       "\\end{tabular}\n"
      ],
      "text/markdown": [
       "\n",
       "A data.frame: 1 × 3\n",
       "\n",
       "| <!--/--> | id &lt;int&gt; | id_tweet &lt;dbl&gt; | text &lt;chr&gt; |\n",
       "|---|---|---|---|\n",
       "| 309 | 520 | 1.258527e+18 | RT @billboard: From @ladygaga's #Chromatica to @TX_bighit's \"The Dream Chapter: Eternity\" EP, which pop music release are you most excitedâ€¦ |\n",
       "\n"
      ],
      "text/plain": [
       "    id  id_tweet    \n",
       "309 520 1.258527e+18\n",
       "    text                                                                                                                                         \n",
       "309 RT @billboard: From @ladygaga's #Chromatica to @TX_bighit's \"The Dream Chapter: Eternity\" EP, which pop music release are you most excitedâ\\200¦"
      ]
     },
     "metadata": {},
     "output_type": "display_data"
    },
    {
     "data": {
      "text/html": [
       "<table>\n",
       "<caption>A data.frame: 1 × 3</caption>\n",
       "<thead>\n",
       "\t<tr><th></th><th scope=col>id</th><th scope=col>id_tweet</th><th scope=col>text</th></tr>\n",
       "\t<tr><th></th><th scope=col>&lt;int&gt;</th><th scope=col>&lt;dbl&gt;</th><th scope=col>&lt;chr&gt;</th></tr>\n",
       "</thead>\n",
       "<tbody>\n",
       "\t<tr><th scope=row>652</th><td>1173</td><td>1.258531e+18</td><td>RT @rapvillainy_: RAP VILLAIN's KENDRICK LAMAR MADNESS BRACKET\n",
       "\n",
       "Round 2: Almost 70,000 votes in round 1 left us with 32 Kendrick Lamar songâ€¦</td></tr>\n",
       "</tbody>\n",
       "</table>\n"
      ],
      "text/latex": [
       "A data.frame: 1 × 3\n",
       "\\begin{tabular}{r|lll}\n",
       "  & id & id\\_tweet & text\\\\\n",
       "  & <int> & <dbl> & <chr>\\\\\n",
       "\\hline\n",
       "\t652 & 1173 & 1.258531e+18 & RT @rapvillainy\\_: RAP VILLAIN's KENDRICK LAMAR MADNESS BRACKET\n",
       "\n",
       "Round 2: Almost 70,000 votes in round 1 left us with 32 Kendrick Lamar songâ€¦\\\\\n",
       "\\end{tabular}\n"
      ],
      "text/markdown": [
       "\n",
       "A data.frame: 1 × 3\n",
       "\n",
       "| <!--/--> | id &lt;int&gt; | id_tweet &lt;dbl&gt; | text &lt;chr&gt; |\n",
       "|---|---|---|---|\n",
       "| 652 | 1173 | 1.258531e+18 | RT @rapvillainy_: RAP VILLAIN's KENDRICK LAMAR MADNESS BRACKET\n",
       "\n",
       "Round 2: Almost 70,000 votes in round 1 left us with 32 Kendrick Lamar songâ€¦ |\n",
       "\n"
      ],
      "text/plain": [
       "    id   id_tweet    \n",
       "652 1173 1.258531e+18\n",
       "    text                                                                                                                                            \n",
       "652 RT @rapvillainy_: RAP VILLAIN's KENDRICK LAMAR MADNESS BRACKET\\n\\nRound 2: Almost 70,000 votes in round 1 left us with 32 Kendrick Lamar songâ\\200¦"
      ]
     },
     "metadata": {},
     "output_type": "display_data"
    },
    {
     "data": {
      "text/html": [
       "<table>\n",
       "<caption>A data.frame: 1 × 3</caption>\n",
       "<thead>\n",
       "\t<tr><th></th><th scope=col>id</th><th scope=col>id_tweet</th><th scope=col>text</th></tr>\n",
       "\t<tr><th></th><th scope=col>&lt;int&gt;</th><th scope=col>&lt;dbl&gt;</th><th scope=col>&lt;chr&gt;</th></tr>\n",
       "</thead>\n",
       "<tbody>\n",
       "\t<tr><th scope=row>614</th><td>1095</td><td>1.258532e+18</td><td>Fortnite Pandemic Rap Fest Shows Future of Gaming - Bloomberg https://t.co/DFiP1PBEqU</td></tr>\n",
       "</tbody>\n",
       "</table>\n"
      ],
      "text/latex": [
       "A data.frame: 1 × 3\n",
       "\\begin{tabular}{r|lll}\n",
       "  & id & id\\_tweet & text\\\\\n",
       "  & <int> & <dbl> & <chr>\\\\\n",
       "\\hline\n",
       "\t614 & 1095 & 1.258532e+18 & Fortnite Pandemic Rap Fest Shows Future of Gaming - Bloomberg https://t.co/DFiP1PBEqU\\\\\n",
       "\\end{tabular}\n"
      ],
      "text/markdown": [
       "\n",
       "A data.frame: 1 × 3\n",
       "\n",
       "| <!--/--> | id &lt;int&gt; | id_tweet &lt;dbl&gt; | text &lt;chr&gt; |\n",
       "|---|---|---|---|\n",
       "| 614 | 1095 | 1.258532e+18 | Fortnite Pandemic Rap Fest Shows Future of Gaming - Bloomberg https://t.co/DFiP1PBEqU |\n",
       "\n"
      ],
      "text/plain": [
       "    id   id_tweet    \n",
       "614 1095 1.258532e+18\n",
       "    text                                                                                 \n",
       "614 Fortnite Pandemic Rap Fest Shows Future of Gaming - Bloomberg https://t.co/DFiP1PBEqU"
      ]
     },
     "metadata": {},
     "output_type": "display_data"
    }
   ],
   "source": [
    "# cluster 6\n",
    "#choix des tweet aléatoire dans df6\n",
    "tweet = verite[verite['id']==520,]\n",
    "tweet\n",
    "\n",
    "tweet = verite[verite['id']==1173,]\n",
    "tweet\n",
    "\n",
    "tweet = verite[verite['id']==1095,]\n",
    "tweet"
   ]
  },
  {
   "cell_type": "code",
   "execution_count": 121,
   "metadata": {},
   "outputs": [
    {
     "data": {
      "text/html": [
       "<table>\n",
       "<caption>A data.frame: 1 × 3</caption>\n",
       "<thead>\n",
       "\t<tr><th></th><th scope=col>id</th><th scope=col>id_tweet</th><th scope=col>text</th></tr>\n",
       "\t<tr><th></th><th scope=col>&lt;int&gt;</th><th scope=col>&lt;dbl&gt;</th><th scope=col>&lt;chr&gt;</th></tr>\n",
       "</thead>\n",
       "<tbody>\n",
       "\t<tr><th scope=row>311</th><td>522</td><td>1.258527e+18</td><td><span style=white-space:pre-wrap>https://t.co/7xZCgwO7j3   Tees Yu-gi-oh Blue-eyes White Dragon T-shirt &amp;amp;amp;   Box Set - Boxlunch  - 22:40:50 2020-05-07 UTC</span></td></tr>\n",
       "</tbody>\n",
       "</table>\n"
      ],
      "text/latex": [
       "A data.frame: 1 × 3\n",
       "\\begin{tabular}{r|lll}\n",
       "  & id & id\\_tweet & text\\\\\n",
       "  & <int> & <dbl> & <chr>\\\\\n",
       "\\hline\n",
       "\t311 & 522 & 1.258527e+18 & https://t.co/7xZCgwO7j3   Tees Yu-gi-oh Blue-eyes White Dragon T-shirt \\&amp;amp;   Box Set - Boxlunch  - 22:40:50 2020-05-07 UTC\\\\\n",
       "\\end{tabular}\n"
      ],
      "text/markdown": [
       "\n",
       "A data.frame: 1 × 3\n",
       "\n",
       "| <!--/--> | id &lt;int&gt; | id_tweet &lt;dbl&gt; | text &lt;chr&gt; |\n",
       "|---|---|---|---|\n",
       "| 311 | 522 | 1.258527e+18 | https://t.co/7xZCgwO7j3   Tees Yu-gi-oh Blue-eyes White Dragon T-shirt &amp;amp;amp;   Box Set - Boxlunch  - 22:40:50 2020-05-07 UTC |\n",
       "\n"
      ],
      "text/plain": [
       "    id  id_tweet    \n",
       "311 522 1.258527e+18\n",
       "    text                                                                                                                            \n",
       "311 https://t.co/7xZCgwO7j3   Tees Yu-gi-oh Blue-eyes White Dragon T-shirt &amp;amp;   Box Set - Boxlunch  - 22:40:50 2020-05-07 UTC"
      ]
     },
     "metadata": {},
     "output_type": "display_data"
    },
    {
     "data": {
      "text/html": [
       "<table>\n",
       "<caption>A data.frame: 1 × 3</caption>\n",
       "<thead>\n",
       "\t<tr><th></th><th scope=col>id</th><th scope=col>id_tweet</th><th scope=col>text</th></tr>\n",
       "\t<tr><th></th><th scope=col>&lt;int&gt;</th><th scope=col>&lt;dbl&gt;</th><th scope=col>&lt;chr&gt;</th></tr>\n",
       "</thead>\n",
       "<tbody>\n",
       "\t<tr><th scope=row>599</th><td>1069</td><td>1.258532e+18</td><td>RT @iBetUWntA_Lexus: Music in the late 90s through early 2000s was just fucking fire! From Rap to R&amp;amp;B, Pop &amp;amp; Alternative music was lit!</td></tr>\n",
       "</tbody>\n",
       "</table>\n"
      ],
      "text/latex": [
       "A data.frame: 1 × 3\n",
       "\\begin{tabular}{r|lll}\n",
       "  & id & id\\_tweet & text\\\\\n",
       "  & <int> & <dbl> & <chr>\\\\\n",
       "\\hline\n",
       "\t599 & 1069 & 1.258532e+18 & RT @iBetUWntA\\_Lexus: Music in the late 90s through early 2000s was just fucking fire! From Rap to R\\&amp;B, Pop \\&amp; Alternative music was lit!\\\\\n",
       "\\end{tabular}\n"
      ],
      "text/markdown": [
       "\n",
       "A data.frame: 1 × 3\n",
       "\n",
       "| <!--/--> | id &lt;int&gt; | id_tweet &lt;dbl&gt; | text &lt;chr&gt; |\n",
       "|---|---|---|---|\n",
       "| 599 | 1069 | 1.258532e+18 | RT @iBetUWntA_Lexus: Music in the late 90s through early 2000s was just fucking fire! From Rap to R&amp;amp;B, Pop &amp;amp; Alternative music was lit! |\n",
       "\n"
      ],
      "text/plain": [
       "    id   id_tweet    \n",
       "599 1069 1.258532e+18\n",
       "    text                                                                                                                                           \n",
       "599 RT @iBetUWntA_Lexus: Music in the late 90s through early 2000s was just fucking fire! From Rap to R&amp;B, Pop &amp; Alternative music was lit!"
      ]
     },
     "metadata": {},
     "output_type": "display_data"
    },
    {
     "data": {
      "text/html": [
       "<table>\n",
       "<caption>A data.frame: 1 × 3</caption>\n",
       "<thead>\n",
       "\t<tr><th></th><th scope=col>id</th><th scope=col>id_tweet</th><th scope=col>text</th></tr>\n",
       "\t<tr><th></th><th scope=col>&lt;int&gt;</th><th scope=col>&lt;dbl&gt;</th><th scope=col>&lt;chr&gt;</th></tr>\n",
       "</thead>\n",
       "<tbody>\n",
       "\t<tr><th scope=row>604</th><td>1077</td><td>1.258532e+18</td><td>RT @Aboa_Banku: If Tulenkey 's rap was rap a human being  #TulenkeyDream</td></tr>\n",
       "</tbody>\n",
       "</table>\n"
      ],
      "text/latex": [
       "A data.frame: 1 × 3\n",
       "\\begin{tabular}{r|lll}\n",
       "  & id & id\\_tweet & text\\\\\n",
       "  & <int> & <dbl> & <chr>\\\\\n",
       "\\hline\n",
       "\t604 & 1077 & 1.258532e+18 & RT @Aboa\\_Banku: If Tulenkey 's rap was rap a human being  \\#TulenkeyDream\\\\\n",
       "\\end{tabular}\n"
      ],
      "text/markdown": [
       "\n",
       "A data.frame: 1 × 3\n",
       "\n",
       "| <!--/--> | id &lt;int&gt; | id_tweet &lt;dbl&gt; | text &lt;chr&gt; |\n",
       "|---|---|---|---|\n",
       "| 604 | 1077 | 1.258532e+18 | RT @Aboa_Banku: If Tulenkey 's rap was rap a human being  #TulenkeyDream |\n",
       "\n"
      ],
      "text/plain": [
       "    id   id_tweet    \n",
       "604 1077 1.258532e+18\n",
       "    text                                                                    \n",
       "604 RT @Aboa_Banku: If Tulenkey 's rap was rap a human being  #TulenkeyDream"
      ]
     },
     "metadata": {},
     "output_type": "display_data"
    },
    {
     "data": {
      "text/html": [
       "<table>\n",
       "<caption>A data.frame: 1 × 3</caption>\n",
       "<thead>\n",
       "\t<tr><th></th><th scope=col>id</th><th scope=col>id_tweet</th><th scope=col>text</th></tr>\n",
       "\t<tr><th></th><th scope=col>&lt;int&gt;</th><th scope=col>&lt;dbl&gt;</th><th scope=col>&lt;chr&gt;</th></tr>\n",
       "</thead>\n",
       "<tbody>\n",
       "\t<tr><th scope=row>1255</th><td>2214</td><td>1.258526e+18</td><td>jazz is just an excuse to fuck up all the notes in a blues song</td></tr>\n",
       "</tbody>\n",
       "</table>\n"
      ],
      "text/latex": [
       "A data.frame: 1 × 3\n",
       "\\begin{tabular}{r|lll}\n",
       "  & id & id\\_tweet & text\\\\\n",
       "  & <int> & <dbl> & <chr>\\\\\n",
       "\\hline\n",
       "\t1255 & 2214 & 1.258526e+18 & jazz is just an excuse to fuck up all the notes in a blues song\\\\\n",
       "\\end{tabular}\n"
      ],
      "text/markdown": [
       "\n",
       "A data.frame: 1 × 3\n",
       "\n",
       "| <!--/--> | id &lt;int&gt; | id_tweet &lt;dbl&gt; | text &lt;chr&gt; |\n",
       "|---|---|---|---|\n",
       "| 1255 | 2214 | 1.258526e+18 | jazz is just an excuse to fuck up all the notes in a blues song |\n",
       "\n"
      ],
      "text/plain": [
       "     id   id_tweet    \n",
       "1255 2214 1.258526e+18\n",
       "     text                                                           \n",
       "1255 jazz is just an excuse to fuck up all the notes in a blues song"
      ]
     },
     "metadata": {},
     "output_type": "display_data"
    }
   ],
   "source": [
    "# cluster 7\n",
    "#choix des tweet aléatoire dans df7\n",
    "tweet = verite[verite['id']==522,]\n",
    "tweet\n",
    "\n",
    "tweet = verite[verite['id']==1069,]\n",
    "tweet\n",
    "\n",
    "tweet = verite[verite['id']==1077,]\n",
    "tweet\n",
    "\n",
    "tweet = verite[verite['id']==2214,]\n",
    "tweet"
   ]
  },
  {
   "cell_type": "markdown",
   "metadata": {},
   "source": [
    "## K Means sur K-1 composantes principales de l'AFC"
   ]
  },
  {
   "cell_type": "code",
   "execution_count": 4,
   "metadata": {},
   "outputs": [],
   "source": [
    "kmcp <- kmeans(music.afc$row$coord[,c(1,2,3,4,5,6)],7)"
   ]
  },
  {
   "cell_type": "code",
   "execution_count": 5,
   "metadata": {},
   "outputs": [
    {
     "data": {
      "image/png": "[encoded data removed]",
      "text/plain": [
       "plot without title"
      ]
     },
     "metadata": {
      "image/png": {
       "height": 420,
       "width": 420
      },
      "text/plain": {
       "height": 420,
       "width": 420
      }
     },
     "output_type": "display_data"
    }
   ],
   "source": [
    "fviz_cluster(kmcp,data=music.afc$row$coord)"
   ]
  },
  {
   "cell_type": "code",
   "execution_count": 7,
   "metadata": {},
   "outputs": [],
   "source": [
    "matrice.cluster <- as.data.frame(kmcp$cluster)"
   ]
  },
  {
   "cell_type": "code",
   "execution_count": 9,
   "metadata": {},
   "outputs": [
    {
     "name": "stdout",
     "output_type": "stream",
     "text": [
      "Nombre de tweet dans le cluster 1 :  1271 \n",
      "Nombre de tweet dans le cluster 2 :  2 \n",
      "Nombre de tweet dans le cluster 3 :  1 \n",
      "Nombre de tweet dans le cluster 4 :  10 \n",
      "Nombre de tweet dans le cluster 5 :  5 \n",
      "Nombre de tweet dans le cluster 6 :  1 \n",
      "Nombre de tweet dans le cluster 7 :  102 \n"
     ]
    }
   ],
   "source": [
    "df1 <- as.data.frame(subset(matrice.cluster,matrice.cluster['kmcp$cluster']==1))\n",
    "df2 <- subset(matrice.cluster,matrice.cluster['kmcp$cluster']==2)\n",
    "df3 <- subset(matrice.cluster,matrice.cluster['kmcp$cluster']==3)\n",
    "df4 <- subset(matrice.cluster,matrice.cluster['kmcp$cluster']==4)\n",
    "df5 <- subset(matrice.cluster,matrice.cluster['kmcp$cluster']==5)\n",
    "df6 <- subset(matrice.cluster,matrice.cluster['kmcp$cluster']==6)\n",
    "df7 <- subset(matrice.cluster,matrice.cluster['kmcp$cluster']==7)\n",
    "cat(\"Nombre de tweet dans le cluster 1 : \",nrow(df1),\"\\n\")\n",
    "cat(\"Nombre de tweet dans le cluster 2 : \",nrow(df2),\"\\n\")\n",
    "cat(\"Nombre de tweet dans le cluster 3 : \",nrow(df3),\"\\n\")\n",
    "cat(\"Nombre de tweet dans le cluster 4 : \",nrow(df4),\"\\n\")\n",
    "cat(\"Nombre de tweet dans le cluster 5 : \",nrow(df5),\"\\n\")\n",
    "cat(\"Nombre de tweet dans le cluster 6 : \",nrow(df6),\"\\n\")\n",
    "cat(\"Nombre de tweet dans le cluster 7 : \",nrow(df7),\"\\n\")"
   ]
  },
  {
   "cell_type": "code",
   "execution_count": 24,
   "metadata": {},
   "outputs": [
    {
     "data": {
      "text/html": [
       "<table>\n",
       "<caption>A data.frame: 102 × 1</caption>\n",
       "<thead>\n",
       "\t<tr><th></th><th scope=col>kmcp$cluster</th></tr>\n",
       "\t<tr><th></th><th scope=col>&lt;int&gt;</th></tr>\n",
       "</thead>\n",
       "<tbody>\n",
       "\t<tr><th scope=row>150</th><td>7</td></tr>\n",
       "\t<tr><th scope=row>280</th><td>7</td></tr>\n",
       "\t<tr><th scope=row>305</th><td>7</td></tr>\n",
       "\t<tr><th scope=row>332</th><td>7</td></tr>\n",
       "\t<tr><th scope=row>335</th><td>7</td></tr>\n",
       "\t<tr><th scope=row>342</th><td>7</td></tr>\n",
       "\t<tr><th scope=row>381</th><td>7</td></tr>\n",
       "\t<tr><th scope=row>403</th><td>7</td></tr>\n",
       "\t<tr><th scope=row>432</th><td>7</td></tr>\n",
       "\t<tr><th scope=row>474</th><td>7</td></tr>\n",
       "\t<tr><th scope=row>520</th><td>7</td></tr>\n",
       "\t<tr><th scope=row>552</th><td>7</td></tr>\n",
       "\t<tr><th scope=row>754</th><td>7</td></tr>\n",
       "\t<tr><th scope=row>921</th><td>7</td></tr>\n",
       "\t<tr><th scope=row>1003</th><td>7</td></tr>\n",
       "\t<tr><th scope=row>1035</th><td>7</td></tr>\n",
       "\t<tr><th scope=row>1037</th><td>7</td></tr>\n",
       "\t<tr><th scope=row>1039</th><td>7</td></tr>\n",
       "\t<tr><th scope=row>1042</th><td>7</td></tr>\n",
       "\t<tr><th scope=row>1072</th><td>7</td></tr>\n",
       "\t<tr><th scope=row>1086</th><td>7</td></tr>\n",
       "\t<tr><th scope=row>1097</th><td>7</td></tr>\n",
       "\t<tr><th scope=row>1113</th><td>7</td></tr>\n",
       "\t<tr><th scope=row>1130</th><td>7</td></tr>\n",
       "\t<tr><th scope=row>1135</th><td>7</td></tr>\n",
       "\t<tr><th scope=row>1137</th><td>7</td></tr>\n",
       "\t<tr><th scope=row>1138</th><td>7</td></tr>\n",
       "\t<tr><th scope=row>1152</th><td>7</td></tr>\n",
       "\t<tr><th scope=row>1158</th><td>7</td></tr>\n",
       "\t<tr><th scope=row>1166</th><td>7</td></tr>\n",
       "\t<tr><th scope=row>...</th><td>...</td></tr>\n",
       "\t<tr><th scope=row>2283</th><td>7</td></tr>\n",
       "\t<tr><th scope=row>2288</th><td>7</td></tr>\n",
       "\t<tr><th scope=row>2291</th><td>7</td></tr>\n",
       "\t<tr><th scope=row>2298</th><td>7</td></tr>\n",
       "\t<tr><th scope=row>2314</th><td>7</td></tr>\n",
       "\t<tr><th scope=row>2328</th><td>7</td></tr>\n",
       "\t<tr><th scope=row>2334</th><td>7</td></tr>\n",
       "\t<tr><th scope=row>2335</th><td>7</td></tr>\n",
       "\t<tr><th scope=row>2354</th><td>7</td></tr>\n",
       "\t<tr><th scope=row>2356</th><td>7</td></tr>\n",
       "\t<tr><th scope=row>2366</th><td>7</td></tr>\n",
       "\t<tr><th scope=row>2370</th><td>7</td></tr>\n",
       "\t<tr><th scope=row>2385</th><td>7</td></tr>\n",
       "\t<tr><th scope=row>2387</th><td>7</td></tr>\n",
       "\t<tr><th scope=row>2392</th><td>7</td></tr>\n",
       "\t<tr><th scope=row>2394</th><td>7</td></tr>\n",
       "\t<tr><th scope=row>2396</th><td>7</td></tr>\n",
       "\t<tr><th scope=row>2397</th><td>7</td></tr>\n",
       "\t<tr><th scope=row>2409</th><td>7</td></tr>\n",
       "\t<tr><th scope=row>2418</th><td>7</td></tr>\n",
       "\t<tr><th scope=row>2424</th><td>7</td></tr>\n",
       "\t<tr><th scope=row>2426</th><td>7</td></tr>\n",
       "\t<tr><th scope=row>2438</th><td>7</td></tr>\n",
       "\t<tr><th scope=row>2461</th><td>7</td></tr>\n",
       "\t<tr><th scope=row>2470</th><td>7</td></tr>\n",
       "\t<tr><th scope=row>2482</th><td>7</td></tr>\n",
       "\t<tr><th scope=row>2489</th><td>7</td></tr>\n",
       "\t<tr><th scope=row>2492</th><td>7</td></tr>\n",
       "\t<tr><th scope=row>2495</th><td>7</td></tr>\n",
       "\t<tr><th scope=row>2497</th><td>7</td></tr>\n",
       "</tbody>\n",
       "</table>\n"
      ],
      "text/latex": [
       "A data.frame: 102 × 1\n",
       "\\begin{tabular}{r|l}\n",
       "  & kmcp\\$cluster\\\\\n",
       "  & <int>\\\\\n",
       "\\hline\n",
       "\t150 & 7\\\\\n",
       "\t280 & 7\\\\\n",
       "\t305 & 7\\\\\n",
       "\t332 & 7\\\\\n",
       "\t335 & 7\\\\\n",
       "\t342 & 7\\\\\n",
       "\t381 & 7\\\\\n",
       "\t403 & 7\\\\\n",
       "\t432 & 7\\\\\n",
       "\t474 & 7\\\\\n",
       "\t520 & 7\\\\\n",
       "\t552 & 7\\\\\n",
       "\t754 & 7\\\\\n",
       "\t921 & 7\\\\\n",
       "\t1003 & 7\\\\\n",
       "\t1035 & 7\\\\\n",
       "\t1037 & 7\\\\\n",
       "\t1039 & 7\\\\\n",
       "\t1042 & 7\\\\\n",
       "\t1072 & 7\\\\\n",
       "\t1086 & 7\\\\\n",
       "\t1097 & 7\\\\\n",
       "\t1113 & 7\\\\\n",
       "\t1130 & 7\\\\\n",
       "\t1135 & 7\\\\\n",
       "\t1137 & 7\\\\\n",
       "\t1138 & 7\\\\\n",
       "\t1152 & 7\\\\\n",
       "\t1158 & 7\\\\\n",
       "\t1166 & 7\\\\\n",
       "\t... & ...\\\\\n",
       "\t2283 & 7\\\\\n",
       "\t2288 & 7\\\\\n",
       "\t2291 & 7\\\\\n",
       "\t2298 & 7\\\\\n",
       "\t2314 & 7\\\\\n",
       "\t2328 & 7\\\\\n",
       "\t2334 & 7\\\\\n",
       "\t2335 & 7\\\\\n",
       "\t2354 & 7\\\\\n",
       "\t2356 & 7\\\\\n",
       "\t2366 & 7\\\\\n",
       "\t2370 & 7\\\\\n",
       "\t2385 & 7\\\\\n",
       "\t2387 & 7\\\\\n",
       "\t2392 & 7\\\\\n",
       "\t2394 & 7\\\\\n",
       "\t2396 & 7\\\\\n",
       "\t2397 & 7\\\\\n",
       "\t2409 & 7\\\\\n",
       "\t2418 & 7\\\\\n",
       "\t2424 & 7\\\\\n",
       "\t2426 & 7\\\\\n",
       "\t2438 & 7\\\\\n",
       "\t2461 & 7\\\\\n",
       "\t2470 & 7\\\\\n",
       "\t2482 & 7\\\\\n",
       "\t2489 & 7\\\\\n",
       "\t2492 & 7\\\\\n",
       "\t2495 & 7\\\\\n",
       "\t2497 & 7\\\\\n",
       "\\end{tabular}\n"
      ],
      "text/markdown": [
       "\n",
       "A data.frame: 102 × 1\n",
       "\n",
       "| <!--/--> | kmcp$cluster &lt;int&gt; |\n",
       "|---|---|\n",
       "| 150 | 7 |\n",
       "| 280 | 7 |\n",
       "| 305 | 7 |\n",
       "| 332 | 7 |\n",
       "| 335 | 7 |\n",
       "| 342 | 7 |\n",
       "| 381 | 7 |\n",
       "| 403 | 7 |\n",
       "| 432 | 7 |\n",
       "| 474 | 7 |\n",
       "| 520 | 7 |\n",
       "| 552 | 7 |\n",
       "| 754 | 7 |\n",
       "| 921 | 7 |\n",
       "| 1003 | 7 |\n",
       "| 1035 | 7 |\n",
       "| 1037 | 7 |\n",
       "| 1039 | 7 |\n",
       "| 1042 | 7 |\n",
       "| 1072 | 7 |\n",
       "| 1086 | 7 |\n",
       "| 1097 | 7 |\n",
       "| 1113 | 7 |\n",
       "| 1130 | 7 |\n",
       "| 1135 | 7 |\n",
       "| 1137 | 7 |\n",
       "| 1138 | 7 |\n",
       "| 1152 | 7 |\n",
       "| 1158 | 7 |\n",
       "| 1166 | 7 |\n",
       "| ... | ... |\n",
       "| 2283 | 7 |\n",
       "| 2288 | 7 |\n",
       "| 2291 | 7 |\n",
       "| 2298 | 7 |\n",
       "| 2314 | 7 |\n",
       "| 2328 | 7 |\n",
       "| 2334 | 7 |\n",
       "| 2335 | 7 |\n",
       "| 2354 | 7 |\n",
       "| 2356 | 7 |\n",
       "| 2366 | 7 |\n",
       "| 2370 | 7 |\n",
       "| 2385 | 7 |\n",
       "| 2387 | 7 |\n",
       "| 2392 | 7 |\n",
       "| 2394 | 7 |\n",
       "| 2396 | 7 |\n",
       "| 2397 | 7 |\n",
       "| 2409 | 7 |\n",
       "| 2418 | 7 |\n",
       "| 2424 | 7 |\n",
       "| 2426 | 7 |\n",
       "| 2438 | 7 |\n",
       "| 2461 | 7 |\n",
       "| 2470 | 7 |\n",
       "| 2482 | 7 |\n",
       "| 2489 | 7 |\n",
       "| 2492 | 7 |\n",
       "| 2495 | 7 |\n",
       "| 2497 | 7 |\n",
       "\n"
      ],
      "text/plain": [
       "     kmcp$cluster\n",
       "150  7           \n",
       "280  7           \n",
       "305  7           \n",
       "332  7           \n",
       "335  7           \n",
       "342  7           \n",
       "381  7           \n",
       "403  7           \n",
       "432  7           \n",
       "474  7           \n",
       "520  7           \n",
       "552  7           \n",
       "754  7           \n",
       "921  7           \n",
       "1003 7           \n",
       "1035 7           \n",
       "1037 7           \n",
       "1039 7           \n",
       "1042 7           \n",
       "1072 7           \n",
       "1086 7           \n",
       "1097 7           \n",
       "1113 7           \n",
       "1130 7           \n",
       "1135 7           \n",
       "1137 7           \n",
       "1138 7           \n",
       "1152 7           \n",
       "1158 7           \n",
       "1166 7           \n",
       "...  ...         \n",
       "2283 7           \n",
       "2288 7           \n",
       "2291 7           \n",
       "2298 7           \n",
       "2314 7           \n",
       "2328 7           \n",
       "2334 7           \n",
       "2335 7           \n",
       "2354 7           \n",
       "2356 7           \n",
       "2366 7           \n",
       "2370 7           \n",
       "2385 7           \n",
       "2387 7           \n",
       "2392 7           \n",
       "2394 7           \n",
       "2396 7           \n",
       "2397 7           \n",
       "2409 7           \n",
       "2418 7           \n",
       "2424 7           \n",
       "2426 7           \n",
       "2438 7           \n",
       "2461 7           \n",
       "2470 7           \n",
       "2482 7           \n",
       "2489 7           \n",
       "2492 7           \n",
       "2495 7           \n",
       "2497 7           "
      ]
     },
     "metadata": {},
     "output_type": "display_data"
    }
   ],
   "source": [
    "df7"
   ]
  },
  {
   "cell_type": "markdown",
   "metadata": {},
   "source": [
    "## Lecture Matrice des Teewts [id,texte]"
   ]
  },
  {
   "cell_type": "code",
   "execution_count": 13,
   "metadata": {},
   "outputs": [],
   "source": [
    "verite <- read.csv2(\"../../Data/music_df_id_text.csv\",sep=',',header=T)"
   ]
  },
  {
   "cell_type": "code",
   "execution_count": 18,
   "metadata": {},
   "outputs": [
    {
     "data": {
      "text/html": [
       "<table>\n",
       "<caption>A data.frame: 1 × 3</caption>\n",
       "<thead>\n",
       "\t<tr><th></th><th scope=col>id</th><th scope=col>id_tweet</th><th scope=col>text</th></tr>\n",
       "\t<tr><th></th><th scope=col>&lt;int&gt;</th><th scope=col>&lt;dbl&gt;</th><th scope=col>&lt;chr&gt;</th></tr>\n",
       "</thead>\n",
       "<tbody>\n",
       "\t<tr><th scope=row>29</th><td>46</td><td>1.25852e+18</td><td>@herp_bees I do too, but am baking some \"rock n roll\" chicken bites and tater tots lol</td></tr>\n",
       "</tbody>\n",
       "</table>\n"
      ],
      "text/latex": [
       "A data.frame: 1 × 3\n",
       "\\begin{tabular}{r|lll}\n",
       "  & id & id\\_tweet & text\\\\\n",
       "  & <int> & <dbl> & <chr>\\\\\n",
       "\\hline\n",
       "\t29 & 46 & 1.25852e+18 & @herp\\_bees I do too, but am baking some \"rock n roll\" chicken bites and tater tots lol\\\\\n",
       "\\end{tabular}\n"
      ],
      "text/markdown": [
       "\n",
       "A data.frame: 1 × 3\n",
       "\n",
       "| <!--/--> | id &lt;int&gt; | id_tweet &lt;dbl&gt; | text &lt;chr&gt; |\n",
       "|---|---|---|---|\n",
       "| 29 | 46 | 1.25852e+18 | @herp_bees I do too, but am baking some \"rock n roll\" chicken bites and tater tots lol |\n",
       "\n"
      ],
      "text/plain": [
       "   id id_tweet   \n",
       "29 46 1.25852e+18\n",
       "   text                                                                                  \n",
       "29 @herp_bees I do too, but am baking some \"rock n roll\" chicken bites and tater tots lol"
      ]
     },
     "metadata": {},
     "output_type": "display_data"
    },
    {
     "data": {
      "text/html": [
       "<table>\n",
       "<caption>A data.frame: 1 × 3</caption>\n",
       "<thead>\n",
       "\t<tr><th></th><th scope=col>id</th><th scope=col>id_tweet</th><th scope=col>text</th></tr>\n",
       "\t<tr><th></th><th scope=col>&lt;int&gt;</th><th scope=col>&lt;dbl&gt;</th><th scope=col>&lt;chr&gt;</th></tr>\n",
       "</thead>\n",
       "<tbody>\n",
       "\t<tr><th scope=row>1378</th><td>2429</td><td>1.258633e+18</td><td>RT @ironaodhan: @riannarevanche Ppl tend to assume Iâ€™m badass sex drugs and rock n roll man, when in reality I kinda just sit here and playâ€¦</td></tr>\n",
       "</tbody>\n",
       "</table>\n"
      ],
      "text/latex": [
       "A data.frame: 1 × 3\n",
       "\\begin{tabular}{r|lll}\n",
       "  & id & id\\_tweet & text\\\\\n",
       "  & <int> & <dbl> & <chr>\\\\\n",
       "\\hline\n",
       "\t1378 & 2429 & 1.258633e+18 & RT @ironaodhan: @riannarevanche Ppl tend to assume Iâ€™m badass sex drugs and rock n roll man, when in reality I kinda just sit here and playâ€¦\\\\\n",
       "\\end{tabular}\n"
      ],
      "text/markdown": [
       "\n",
       "A data.frame: 1 × 3\n",
       "\n",
       "| <!--/--> | id &lt;int&gt; | id_tweet &lt;dbl&gt; | text &lt;chr&gt; |\n",
       "|---|---|---|---|\n",
       "| 1378 | 2429 | 1.258633e+18 | RT @ironaodhan: @riannarevanche Ppl tend to assume Iâ€™m badass sex drugs and rock n roll man, when in reality I kinda just sit here and playâ€¦ |\n",
       "\n"
      ],
      "text/plain": [
       "     id   id_tweet    \n",
       "1378 2429 1.258633e+18\n",
       "     text                                                                                                                                            \n",
       "1378 RT @ironaodhan: @riannarevanche Ppl tend to assume Iâ\\200\\231m badass sex drugs and rock n roll man, when in reality I kinda just sit here and playâ\\200¦"
      ]
     },
     "metadata": {},
     "output_type": "display_data"
    },
    {
     "data": {
      "text/html": [
       "<table>\n",
       "<caption>A data.frame: 1 × 3</caption>\n",
       "<thead>\n",
       "\t<tr><th></th><th scope=col>id</th><th scope=col>id_tweet</th><th scope=col>text</th></tr>\n",
       "\t<tr><th></th><th scope=col>&lt;int&gt;</th><th scope=col>&lt;dbl&gt;</th><th scope=col>&lt;chr&gt;</th></tr>\n",
       "</thead>\n",
       "<tbody>\n",
       "\t<tr><th scope=row>16</th><td>28</td><td>1.258523e+18</td><td>@RobConsigliere @SheLa9876 @jenniferlee_75 Run DMC isnâ€™t even Rock â€˜N Roll and yet they were elected to the RNR HOF.</td></tr>\n",
       "</tbody>\n",
       "</table>\n"
      ],
      "text/latex": [
       "A data.frame: 1 × 3\n",
       "\\begin{tabular}{r|lll}\n",
       "  & id & id\\_tweet & text\\\\\n",
       "  & <int> & <dbl> & <chr>\\\\\n",
       "\\hline\n",
       "\t16 & 28 & 1.258523e+18 & @RobConsigliere @SheLa9876 @jenniferlee\\_75 Run DMC isnâ€™t even Rock â€˜N Roll and yet they were elected to the RNR HOF.\\\\\n",
       "\\end{tabular}\n"
      ],
      "text/markdown": [
       "\n",
       "A data.frame: 1 × 3\n",
       "\n",
       "| <!--/--> | id &lt;int&gt; | id_tweet &lt;dbl&gt; | text &lt;chr&gt; |\n",
       "|---|---|---|---|\n",
       "| 16 | 28 | 1.258523e+18 | @RobConsigliere @SheLa9876 @jenniferlee_75 Run DMC isnâ€™t even Rock â€˜N Roll and yet they were elected to the RNR HOF. |\n",
       "\n"
      ],
      "text/plain": [
       "   id id_tweet    \n",
       "16 28 1.258523e+18\n",
       "   text                                                                                                                    \n",
       "16 @RobConsigliere @SheLa9876 @jenniferlee_75 Run DMC isnâ\\200\\231t even Rock â\\200\\230N Roll and yet they were elected to the RNR HOF."
      ]
     },
     "metadata": {},
     "output_type": "display_data"
    },
    {
     "data": {
      "text/html": [
       "<table>\n",
       "<caption>A data.frame: 1 × 3</caption>\n",
       "<thead>\n",
       "\t<tr><th></th><th scope=col>id</th><th scope=col>id_tweet</th><th scope=col>text</th></tr>\n",
       "\t<tr><th></th><th scope=col>&lt;int&gt;</th><th scope=col>&lt;dbl&gt;</th><th scope=col>&lt;chr&gt;</th></tr>\n",
       "</thead>\n",
       "<tbody>\n",
       "\t<tr><th scope=row>6</th><td>11</td><td>1.258526e+18</td><td>@theQuietus Now that is well and truly rock n roll.</td></tr>\n",
       "</tbody>\n",
       "</table>\n"
      ],
      "text/latex": [
       "A data.frame: 1 × 3\n",
       "\\begin{tabular}{r|lll}\n",
       "  & id & id\\_tweet & text\\\\\n",
       "  & <int> & <dbl> & <chr>\\\\\n",
       "\\hline\n",
       "\t6 & 11 & 1.258526e+18 & @theQuietus Now that is well and truly rock n roll.\\\\\n",
       "\\end{tabular}\n"
      ],
      "text/markdown": [
       "\n",
       "A data.frame: 1 × 3\n",
       "\n",
       "| <!--/--> | id &lt;int&gt; | id_tweet &lt;dbl&gt; | text &lt;chr&gt; |\n",
       "|---|---|---|---|\n",
       "| 6 | 11 | 1.258526e+18 | @theQuietus Now that is well and truly rock n roll. |\n",
       "\n"
      ],
      "text/plain": [
       "  id id_tweet     text                                               \n",
       "6 11 1.258526e+18 @theQuietus Now that is well and truly rock n roll."
      ]
     },
     "metadata": {},
     "output_type": "display_data"
    }
   ],
   "source": [
    "# cluster 1\n",
    "#choix des tweet aléatoire dans df1\n",
    "tweet = verite[verite['id']==46,]\n",
    "tweet\n",
    "\n",
    "tweet = verite[verite['id']==2429,]\n",
    "tweet\n",
    "\n",
    "tweet = verite[verite['id']==28,]\n",
    "tweet\n",
    "\n",
    "tweet = verite[verite['id']==11,]\n",
    "tweet"
   ]
  },
  {
   "cell_type": "code",
   "execution_count": 19,
   "metadata": {},
   "outputs": [
    {
     "data": {
      "text/html": [
       "<table>\n",
       "<caption>A data.frame: 1 × 3</caption>\n",
       "<thead>\n",
       "\t<tr><th></th><th scope=col>id</th><th scope=col>id_tweet</th><th scope=col>text</th></tr>\n",
       "\t<tr><th></th><th scope=col>&lt;int&gt;</th><th scope=col>&lt;dbl&gt;</th><th scope=col>&lt;chr&gt;</th></tr>\n",
       "</thead>\n",
       "<tbody>\n",
       "\t<tr><th scope=row>949</th><td>1695</td><td>1.258504e+18</td><td>#NowPlaying Featured Artist @promodj - Devocean - Empty Bottles on Reggae Chalet #Radio https://t.co/suKZ5qnN0t</td></tr>\n",
       "</tbody>\n",
       "</table>\n"
      ],
      "text/latex": [
       "A data.frame: 1 × 3\n",
       "\\begin{tabular}{r|lll}\n",
       "  & id & id\\_tweet & text\\\\\n",
       "  & <int> & <dbl> & <chr>\\\\\n",
       "\\hline\n",
       "\t949 & 1695 & 1.258504e+18 & \\#NowPlaying Featured Artist @promodj - Devocean - Empty Bottles on Reggae Chalet \\#Radio https://t.co/suKZ5qnN0t\\\\\n",
       "\\end{tabular}\n"
      ],
      "text/markdown": [
       "\n",
       "A data.frame: 1 × 3\n",
       "\n",
       "| <!--/--> | id &lt;int&gt; | id_tweet &lt;dbl&gt; | text &lt;chr&gt; |\n",
       "|---|---|---|---|\n",
       "| 949 | 1695 | 1.258504e+18 | #NowPlaying Featured Artist @promodj - Devocean - Empty Bottles on Reggae Chalet #Radio https://t.co/suKZ5qnN0t |\n",
       "\n"
      ],
      "text/plain": [
       "    id   id_tweet    \n",
       "949 1695 1.258504e+18\n",
       "    text                                                                                                           \n",
       "949 #NowPlaying Featured Artist @promodj - Devocean - Empty Bottles on Reggae Chalet #Radio https://t.co/suKZ5qnN0t"
      ]
     },
     "metadata": {},
     "output_type": "display_data"
    },
    {
     "data": {
      "text/html": [
       "<table>\n",
       "<caption>A data.frame: 1 × 3</caption>\n",
       "<thead>\n",
       "\t<tr><th></th><th scope=col>id</th><th scope=col>id_tweet</th><th scope=col>text</th></tr>\n",
       "\t<tr><th></th><th scope=col>&lt;int&gt;</th><th scope=col>&lt;dbl&gt;</th><th scope=col>&lt;chr&gt;</th></tr>\n",
       "</thead>\n",
       "<tbody>\n",
       "\t<tr><th scope=row>976</th><td>1751</td><td>1.2585e+18</td><td>Btc is a bunch of garbage ðŸ˜¶ðŸ˜¶</td></tr>\n",
       "</tbody>\n",
       "</table>\n"
      ],
      "text/latex": [
       "A data.frame: 1 × 3\n",
       "\\begin{tabular}{r|lll}\n",
       "  & id & id\\_tweet & text\\\\\n",
       "  & <int> & <dbl> & <chr>\\\\\n",
       "\\hline\n",
       "\t976 & 1751 & 1.2585e+18 & Btc is a bunch of garbage ðŸ˜¶ðŸ˜¶\\\\\n",
       "\\end{tabular}\n"
      ],
      "text/markdown": [
       "\n",
       "A data.frame: 1 × 3\n",
       "\n",
       "| <!--/--> | id &lt;int&gt; | id_tweet &lt;dbl&gt; | text &lt;chr&gt; |\n",
       "|---|---|---|---|\n",
       "| 976 | 1751 | 1.2585e+18 | Btc is a bunch of garbage ðŸ˜¶ðŸ˜¶ |\n",
       "\n"
      ],
      "text/plain": [
       "    id   id_tweet   text                              \n",
       "976 1751 1.2585e+18 Btc is a bunch of garbage ðŸ\\230¶ðŸ\\230¶"
      ]
     },
     "metadata": {},
     "output_type": "display_data"
    }
   ],
   "source": [
    "# cluster 2\n",
    "#choix des tweet aléatoire dans df2\n",
    "tweet = verite[verite['id']==1695,]\n",
    "tweet\n",
    "\n",
    "tweet = verite[verite['id']==1751,]\n",
    "tweet\n",
    "\n"
   ]
  },
  {
   "cell_type": "code",
   "execution_count": 20,
   "metadata": {},
   "outputs": [
    {
     "data": {
      "text/html": [
       "<table>\n",
       "<caption>A data.frame: 1 × 3</caption>\n",
       "<thead>\n",
       "\t<tr><th></th><th scope=col>id</th><th scope=col>id_tweet</th><th scope=col>text</th></tr>\n",
       "\t<tr><th></th><th scope=col>&lt;int&gt;</th><th scope=col>&lt;dbl&gt;</th><th scope=col>&lt;chr&gt;</th></tr>\n",
       "</thead>\n",
       "<tbody>\n",
       "\t<tr><th scope=row>400</th><td>680</td><td>1.258527e+18</td><td>RT @GodXanny: might pop a xan and drown in the bath ðŸ›€ðŸ¿ðŸ¥°</td></tr>\n",
       "</tbody>\n",
       "</table>\n"
      ],
      "text/latex": [
       "A data.frame: 1 × 3\n",
       "\\begin{tabular}{r|lll}\n",
       "  & id & id\\_tweet & text\\\\\n",
       "  & <int> & <dbl> & <chr>\\\\\n",
       "\\hline\n",
       "\t400 & 680 & 1.258527e+18 & RT @GodXanny: might pop a xan and drown in the bath ðŸ›€ðŸ¿ðŸ¥°\\\\\n",
       "\\end{tabular}\n"
      ],
      "text/markdown": [
       "\n",
       "A data.frame: 1 × 3\n",
       "\n",
       "| <!--/--> | id &lt;int&gt; | id_tweet &lt;dbl&gt; | text &lt;chr&gt; |\n",
       "|---|---|---|---|\n",
       "| 400 | 680 | 1.258527e+18 | RT @GodXanny: might pop a xan and drown in the bath ðŸ›€ðŸ¿ðŸ¥° |\n",
       "\n"
      ],
      "text/plain": [
       "    id  id_tweet    \n",
       "400 680 1.258527e+18\n",
       "    text                                                            \n",
       "400 RT @GodXanny: might pop a xan and drown in the bath ðŸ›\\200ðŸ\\217¿ðŸ¥°"
      ]
     },
     "metadata": {},
     "output_type": "display_data"
    }
   ],
   "source": [
    "# cluster 3\n",
    "#choix des tweet aléatoire dans df3\n",
    "tweet = verite[verite['id']==680,]\n",
    "tweet\n"
   ]
  },
  {
   "cell_type": "code",
   "execution_count": 21,
   "metadata": {},
   "outputs": [
    {
     "data": {
      "text/html": [
       "<table>\n",
       "<caption>A data.frame: 1 × 3</caption>\n",
       "<thead>\n",
       "\t<tr><th></th><th scope=col>id</th><th scope=col>id_tweet</th><th scope=col>text</th></tr>\n",
       "\t<tr><th></th><th scope=col>&lt;int&gt;</th><th scope=col>&lt;dbl&gt;</th><th scope=col>&lt;chr&gt;</th></tr>\n",
       "</thead>\n",
       "<tbody>\n",
       "\t<tr><th scope=row>652</th><td>1173</td><td>1.258531e+18</td><td>RT @rapvillainy_: RAP VILLAIN's KENDRICK LAMAR MADNESS BRACKET\n",
       "\n",
       "Round 2: Almost 70,000 votes in round 1 left us with 32 Kendrick Lamar songâ€¦</td></tr>\n",
       "</tbody>\n",
       "</table>\n"
      ],
      "text/latex": [
       "A data.frame: 1 × 3\n",
       "\\begin{tabular}{r|lll}\n",
       "  & id & id\\_tweet & text\\\\\n",
       "  & <int> & <dbl> & <chr>\\\\\n",
       "\\hline\n",
       "\t652 & 1173 & 1.258531e+18 & RT @rapvillainy\\_: RAP VILLAIN's KENDRICK LAMAR MADNESS BRACKET\n",
       "\n",
       "Round 2: Almost 70,000 votes in round 1 left us with 32 Kendrick Lamar songâ€¦\\\\\n",
       "\\end{tabular}\n"
      ],
      "text/markdown": [
       "\n",
       "A data.frame: 1 × 3\n",
       "\n",
       "| <!--/--> | id &lt;int&gt; | id_tweet &lt;dbl&gt; | text &lt;chr&gt; |\n",
       "|---|---|---|---|\n",
       "| 652 | 1173 | 1.258531e+18 | RT @rapvillainy_: RAP VILLAIN's KENDRICK LAMAR MADNESS BRACKET\n",
       "\n",
       "Round 2: Almost 70,000 votes in round 1 left us with 32 Kendrick Lamar songâ€¦ |\n",
       "\n"
      ],
      "text/plain": [
       "    id   id_tweet    \n",
       "652 1173 1.258531e+18\n",
       "    text                                                                                                                                            \n",
       "652 RT @rapvillainy_: RAP VILLAIN's KENDRICK LAMAR MADNESS BRACKET\\n\\nRound 2: Almost 70,000 votes in round 1 left us with 32 Kendrick Lamar songâ\\200¦"
      ]
     },
     "metadata": {},
     "output_type": "display_data"
    },
    {
     "data": {
      "text/html": [
       "<table>\n",
       "<caption>A data.frame: 1 × 3</caption>\n",
       "<thead>\n",
       "\t<tr><th></th><th scope=col>id</th><th scope=col>id_tweet</th><th scope=col>text</th></tr>\n",
       "\t<tr><th></th><th scope=col>&lt;int&gt;</th><th scope=col>&lt;dbl&gt;</th><th scope=col>&lt;chr&gt;</th></tr>\n",
       "</thead>\n",
       "<tbody>\n",
       "\t<tr><th scope=row>681</th><td>1237</td><td>1.258531e+18</td><td>@sovic_brown â€œna the leastâ€ ðŸ˜‚</td></tr>\n",
       "</tbody>\n",
       "</table>\n"
      ],
      "text/latex": [
       "A data.frame: 1 × 3\n",
       "\\begin{tabular}{r|lll}\n",
       "  & id & id\\_tweet & text\\\\\n",
       "  & <int> & <dbl> & <chr>\\\\\n",
       "\\hline\n",
       "\t681 & 1237 & 1.258531e+18 & @sovic\\_brown â€œna the leastâ€ ðŸ˜‚\\\\\n",
       "\\end{tabular}\n"
      ],
      "text/markdown": [
       "\n",
       "A data.frame: 1 × 3\n",
       "\n",
       "| <!--/--> | id &lt;int&gt; | id_tweet &lt;dbl&gt; | text &lt;chr&gt; |\n",
       "|---|---|---|---|\n",
       "| 681 | 1237 | 1.258531e+18 | @sovic_brown â€œna the leastâ€ ðŸ˜‚ |\n",
       "\n"
      ],
      "text/plain": [
       "    id   id_tweet     text                                \n",
       "681 1237 1.258531e+18 @sovic_brown â\\200œna the leastâ\\200\\235 ðŸ\\230‚"
      ]
     },
     "metadata": {},
     "output_type": "display_data"
    },
    {
     "data": {
      "text/html": [
       "<table>\n",
       "<caption>A data.frame: 1 × 3</caption>\n",
       "<thead>\n",
       "\t<tr><th></th><th scope=col>id</th><th scope=col>id_tweet</th><th scope=col>text</th></tr>\n",
       "\t<tr><th></th><th scope=col>&lt;int&gt;</th><th scope=col>&lt;dbl&gt;</th><th scope=col>&lt;chr&gt;</th></tr>\n",
       "</thead>\n",
       "<tbody>\n",
       "\t<tr><th scope=row>592</th><td>1061</td><td>1.258532e+18</td><td>RT @garyjkemp: Such an important influence upon so much of the music we know, from Bowie, to electronica, much of the 80s and beyond into mâ€¦</td></tr>\n",
       "</tbody>\n",
       "</table>\n"
      ],
      "text/latex": [
       "A data.frame: 1 × 3\n",
       "\\begin{tabular}{r|lll}\n",
       "  & id & id\\_tweet & text\\\\\n",
       "  & <int> & <dbl> & <chr>\\\\\n",
       "\\hline\n",
       "\t592 & 1061 & 1.258532e+18 & RT @garyjkemp: Such an important influence upon so much of the music we know, from Bowie, to electronica, much of the 80s and beyond into mâ€¦\\\\\n",
       "\\end{tabular}\n"
      ],
      "text/markdown": [
       "\n",
       "A data.frame: 1 × 3\n",
       "\n",
       "| <!--/--> | id &lt;int&gt; | id_tweet &lt;dbl&gt; | text &lt;chr&gt; |\n",
       "|---|---|---|---|\n",
       "| 592 | 1061 | 1.258532e+18 | RT @garyjkemp: Such an important influence upon so much of the music we know, from Bowie, to electronica, much of the 80s and beyond into mâ€¦ |\n",
       "\n"
      ],
      "text/plain": [
       "    id   id_tweet    \n",
       "592 1061 1.258532e+18\n",
       "    text                                                                                                                                          \n",
       "592 RT @garyjkemp: Such an important influence upon so much of the music we know, from Bowie, to electronica, much of the 80s and beyond into mâ\\200¦"
      ]
     },
     "metadata": {},
     "output_type": "display_data"
    },
    {
     "data": {
      "text/html": [
       "<table>\n",
       "<caption>A data.frame: 1 × 3</caption>\n",
       "<thead>\n",
       "\t<tr><th></th><th scope=col>id</th><th scope=col>id_tweet</th><th scope=col>text</th></tr>\n",
       "\t<tr><th></th><th scope=col>&lt;int&gt;</th><th scope=col>&lt;dbl&gt;</th><th scope=col>&lt;chr&gt;</th></tr>\n",
       "</thead>\n",
       "<tbody>\n",
       "\t<tr><th scope=row>1407</th><td>2476</td><td>1.258619e+18</td><td>RT @WonderstruckYT: Oh you like Rock N Roll? \n",
       "\n",
       "No thanks.\n",
       "\n",
       "I only listen to whole-wheat smoke signal/Mongolian acoustic lesbian edm.</td></tr>\n",
       "</tbody>\n",
       "</table>\n"
      ],
      "text/latex": [
       "A data.frame: 1 × 3\n",
       "\\begin{tabular}{r|lll}\n",
       "  & id & id\\_tweet & text\\\\\n",
       "  & <int> & <dbl> & <chr>\\\\\n",
       "\\hline\n",
       "\t1407 & 2476 & 1.258619e+18 & RT @WonderstruckYT: Oh you like Rock N Roll? \n",
       "\n",
       "No thanks.\n",
       "\n",
       "I only listen to whole-wheat smoke signal/Mongolian acoustic lesbian edm.\\\\\n",
       "\\end{tabular}\n"
      ],
      "text/markdown": [
       "\n",
       "A data.frame: 1 × 3\n",
       "\n",
       "| <!--/--> | id &lt;int&gt; | id_tweet &lt;dbl&gt; | text &lt;chr&gt; |\n",
       "|---|---|---|---|\n",
       "| 1407 | 2476 | 1.258619e+18 | RT @WonderstruckYT: Oh you like Rock N Roll? \n",
       "\n",
       "No thanks.\n",
       "\n",
       "I only listen to whole-wheat smoke signal/Mongolian acoustic lesbian edm. |\n",
       "\n"
      ],
      "text/plain": [
       "     id   id_tweet    \n",
       "1407 2476 1.258619e+18\n",
       "     text                                                                                                                                    \n",
       "1407 RT @WonderstruckYT: Oh you like Rock N Roll? \\n\\nNo thanks.\\n\\nI only listen to whole-wheat smoke signal/Mongolian acoustic lesbian edm."
      ]
     },
     "metadata": {},
     "output_type": "display_data"
    }
   ],
   "source": [
    "# cluster 4\n",
    "#choix des tweet aléatoire dans df4\n",
    "tweet = verite[verite['id']==1173,]\n",
    "tweet\n",
    "\n",
    "tweet = verite[verite['id']==1237,]\n",
    "tweet\n",
    "\n",
    "tweet = verite[verite['id']==1061,]\n",
    "tweet\n",
    "\n",
    "tweet = verite[verite['id']==2476,]\n",
    "tweet"
   ]
  },
  {
   "cell_type": "code",
   "execution_count": 22,
   "metadata": {},
   "outputs": [
    {
     "data": {
      "text/html": [
       "<table>\n",
       "<caption>A data.frame: 1 × 3</caption>\n",
       "<thead>\n",
       "\t<tr><th></th><th scope=col>id</th><th scope=col>id_tweet</th><th scope=col>text</th></tr>\n",
       "\t<tr><th></th><th scope=col>&lt;int&gt;</th><th scope=col>&lt;dbl&gt;</th><th scope=col>&lt;chr&gt;</th></tr>\n",
       "</thead>\n",
       "<tbody>\n",
       "\t<tr><th scope=row>474</th><td>845</td><td>1.258526e+18</td><td>RT @mynameisjro: In the national conversation of demanding justice for Black lives, remember to invoke Nina Popâ€™s name. A 28 year old Blackâ€¦</td></tr>\n",
       "</tbody>\n",
       "</table>\n"
      ],
      "text/latex": [
       "A data.frame: 1 × 3\n",
       "\\begin{tabular}{r|lll}\n",
       "  & id & id\\_tweet & text\\\\\n",
       "  & <int> & <dbl> & <chr>\\\\\n",
       "\\hline\n",
       "\t474 & 845 & 1.258526e+18 & RT @mynameisjro: In the national conversation of demanding justice for Black lives, remember to invoke Nina Popâ€™s name. A 28 year old Blackâ€¦\\\\\n",
       "\\end{tabular}\n"
      ],
      "text/markdown": [
       "\n",
       "A data.frame: 1 × 3\n",
       "\n",
       "| <!--/--> | id &lt;int&gt; | id_tweet &lt;dbl&gt; | text &lt;chr&gt; |\n",
       "|---|---|---|---|\n",
       "| 474 | 845 | 1.258526e+18 | RT @mynameisjro: In the national conversation of demanding justice for Black lives, remember to invoke Nina Popâ€™s name. A 28 year old Blackâ€¦ |\n",
       "\n"
      ],
      "text/plain": [
       "    id  id_tweet    \n",
       "474 845 1.258526e+18\n",
       "    text                                                                                                                                            \n",
       "474 RT @mynameisjro: In the national conversation of demanding justice for Black lives, remember to invoke Nina Popâ\\200\\231s name. A 28 year old Blackâ\\200¦"
      ]
     },
     "metadata": {},
     "output_type": "display_data"
    },
    {
     "data": {
      "text/html": [
       "<table>\n",
       "<caption>A data.frame: 1 × 3</caption>\n",
       "<thead>\n",
       "\t<tr><th></th><th scope=col>id</th><th scope=col>id_tweet</th><th scope=col>text</th></tr>\n",
       "\t<tr><th></th><th scope=col>&lt;int&gt;</th><th scope=col>&lt;dbl&gt;</th><th scope=col>&lt;chr&gt;</th></tr>\n",
       "</thead>\n",
       "<tbody>\n",
       "\t<tr><th scope=row>475</th><td>846</td><td>1.258526e+18</td><td>@LavenderxPop Mint popðŸŒ¿</td></tr>\n",
       "</tbody>\n",
       "</table>\n"
      ],
      "text/latex": [
       "A data.frame: 1 × 3\n",
       "\\begin{tabular}{r|lll}\n",
       "  & id & id\\_tweet & text\\\\\n",
       "  & <int> & <dbl> & <chr>\\\\\n",
       "\\hline\n",
       "\t475 & 846 & 1.258526e+18 & @LavenderxPop Mint popðŸŒ¿\\\\\n",
       "\\end{tabular}\n"
      ],
      "text/markdown": [
       "\n",
       "A data.frame: 1 × 3\n",
       "\n",
       "| <!--/--> | id &lt;int&gt; | id_tweet &lt;dbl&gt; | text &lt;chr&gt; |\n",
       "|---|---|---|---|\n",
       "| 475 | 846 | 1.258526e+18 | @LavenderxPop Mint popðŸŒ¿ |\n",
       "\n"
      ],
      "text/plain": [
       "    id  id_tweet     text                      \n",
       "475 846 1.258526e+18 @LavenderxPop Mint popðŸŒ¿"
      ]
     },
     "metadata": {},
     "output_type": "display_data"
    },
    {
     "data": {
      "text/html": [
       "<table>\n",
       "<caption>A data.frame: 1 × 3</caption>\n",
       "<thead>\n",
       "\t<tr><th></th><th scope=col>id</th><th scope=col>id_tweet</th><th scope=col>text</th></tr>\n",
       "\t<tr><th></th><th scope=col>&lt;int&gt;</th><th scope=col>&lt;dbl&gt;</th><th scope=col>&lt;chr&gt;</th></tr>\n",
       "</thead>\n",
       "<tbody>\n",
       "\t<tr><th scope=row>476</th><td>850</td><td>1.258526e+18</td><td>RT @danbloom1: Brandon Lewis has just told the BBC there's \"a technical issue in the laboratories\" with tests for coronavirus. Hmm. Is thatâ€¦</td></tr>\n",
       "</tbody>\n",
       "</table>\n"
      ],
      "text/latex": [
       "A data.frame: 1 × 3\n",
       "\\begin{tabular}{r|lll}\n",
       "  & id & id\\_tweet & text\\\\\n",
       "  & <int> & <dbl> & <chr>\\\\\n",
       "\\hline\n",
       "\t476 & 850 & 1.258526e+18 & RT @danbloom1: Brandon Lewis has just told the BBC there's \"a technical issue in the laboratories\" with tests for coronavirus. Hmm. Is thatâ€¦\\\\\n",
       "\\end{tabular}\n"
      ],
      "text/markdown": [
       "\n",
       "A data.frame: 1 × 3\n",
       "\n",
       "| <!--/--> | id &lt;int&gt; | id_tweet &lt;dbl&gt; | text &lt;chr&gt; |\n",
       "|---|---|---|---|\n",
       "| 476 | 850 | 1.258526e+18 | RT @danbloom1: Brandon Lewis has just told the BBC there's \"a technical issue in the laboratories\" with tests for coronavirus. Hmm. Is thatâ€¦ |\n",
       "\n"
      ],
      "text/plain": [
       "    id  id_tweet    \n",
       "476 850 1.258526e+18\n",
       "    text                                                                                                                                          \n",
       "476 RT @danbloom1: Brandon Lewis has just told the BBC there's \"a technical issue in the laboratories\" with tests for coronavirus. Hmm. Is thatâ\\200¦"
      ]
     },
     "metadata": {},
     "output_type": "display_data"
    },
    {
     "data": {
      "text/html": [
       "<table>\n",
       "<caption>A data.frame: 1 × 3</caption>\n",
       "<thead>\n",
       "\t<tr><th></th><th scope=col>id</th><th scope=col>id_tweet</th><th scope=col>text</th></tr>\n",
       "\t<tr><th></th><th scope=col>&lt;int&gt;</th><th scope=col>&lt;dbl&gt;</th><th scope=col>&lt;chr&gt;</th></tr>\n",
       "</thead>\n",
       "<tbody>\n",
       "\t<tr><th scope=row>599</th><td>1069</td><td>1.258532e+18</td><td>RT @iBetUWntA_Lexus: Music in the late 90s through early 2000s was just fucking fire! From Rap to R&amp;amp;B, Pop &amp;amp; Alternative music was lit!</td></tr>\n",
       "</tbody>\n",
       "</table>\n"
      ],
      "text/latex": [
       "A data.frame: 1 × 3\n",
       "\\begin{tabular}{r|lll}\n",
       "  & id & id\\_tweet & text\\\\\n",
       "  & <int> & <dbl> & <chr>\\\\\n",
       "\\hline\n",
       "\t599 & 1069 & 1.258532e+18 & RT @iBetUWntA\\_Lexus: Music in the late 90s through early 2000s was just fucking fire! From Rap to R\\&amp;B, Pop \\&amp; Alternative music was lit!\\\\\n",
       "\\end{tabular}\n"
      ],
      "text/markdown": [
       "\n",
       "A data.frame: 1 × 3\n",
       "\n",
       "| <!--/--> | id &lt;int&gt; | id_tweet &lt;dbl&gt; | text &lt;chr&gt; |\n",
       "|---|---|---|---|\n",
       "| 599 | 1069 | 1.258532e+18 | RT @iBetUWntA_Lexus: Music in the late 90s through early 2000s was just fucking fire! From Rap to R&amp;amp;B, Pop &amp;amp; Alternative music was lit! |\n",
       "\n"
      ],
      "text/plain": [
       "    id   id_tweet    \n",
       "599 1069 1.258532e+18\n",
       "    text                                                                                                                                           \n",
       "599 RT @iBetUWntA_Lexus: Music in the late 90s through early 2000s was just fucking fire! From Rap to R&amp;B, Pop &amp; Alternative music was lit!"
      ]
     },
     "metadata": {},
     "output_type": "display_data"
    },
    {
     "data": {
      "text/html": [
       "<table>\n",
       "<caption>A data.frame: 1 × 3</caption>\n",
       "<thead>\n",
       "\t<tr><th></th><th scope=col>id</th><th scope=col>id_tweet</th><th scope=col>text</th></tr>\n",
       "\t<tr><th></th><th scope=col>&lt;int&gt;</th><th scope=col>&lt;dbl&gt;</th><th scope=col>&lt;chr&gt;</th></tr>\n",
       "</thead>\n",
       "<tbody>\n",
       "\t<tr><th scope=row>1255</th><td>2214</td><td>1.258526e+18</td><td>jazz is just an excuse to fuck up all the notes in a blues song</td></tr>\n",
       "</tbody>\n",
       "</table>\n"
      ],
      "text/latex": [
       "A data.frame: 1 × 3\n",
       "\\begin{tabular}{r|lll}\n",
       "  & id & id\\_tweet & text\\\\\n",
       "  & <int> & <dbl> & <chr>\\\\\n",
       "\\hline\n",
       "\t1255 & 2214 & 1.258526e+18 & jazz is just an excuse to fuck up all the notes in a blues song\\\\\n",
       "\\end{tabular}\n"
      ],
      "text/markdown": [
       "\n",
       "A data.frame: 1 × 3\n",
       "\n",
       "| <!--/--> | id &lt;int&gt; | id_tweet &lt;dbl&gt; | text &lt;chr&gt; |\n",
       "|---|---|---|---|\n",
       "| 1255 | 2214 | 1.258526e+18 | jazz is just an excuse to fuck up all the notes in a blues song |\n",
       "\n"
      ],
      "text/plain": [
       "     id   id_tweet    \n",
       "1255 2214 1.258526e+18\n",
       "     text                                                           \n",
       "1255 jazz is just an excuse to fuck up all the notes in a blues song"
      ]
     },
     "metadata": {},
     "output_type": "display_data"
    }
   ],
   "source": [
    "# cluster 5\n",
    "#choix des tweet aléatoire dans df5\n",
    "tweet = verite[verite['id']==845,]\n",
    "tweet\n",
    "\n",
    "tweet = verite[verite['id']==846,]\n",
    "tweet\n",
    "\n",
    "tweet = verite[verite['id']==850,]\n",
    "tweet\n",
    "\n",
    "tweet = verite[verite['id']==1069,]\n",
    "tweet\n",
    "\n",
    "tweet = verite[verite['id']==2214,]\n",
    "tweet"
   ]
  },
  {
   "cell_type": "code",
   "execution_count": 23,
   "metadata": {},
   "outputs": [
    {
     "data": {
      "text/html": [
       "<table>\n",
       "<caption>A data.frame: 1 × 3</caption>\n",
       "<thead>\n",
       "\t<tr><th></th><th scope=col>id</th><th scope=col>id_tweet</th><th scope=col>text</th></tr>\n",
       "\t<tr><th></th><th scope=col>&lt;int&gt;</th><th scope=col>&lt;dbl&gt;</th><th scope=col>&lt;chr&gt;</th></tr>\n",
       "</thead>\n",
       "<tbody>\n",
       "\t<tr><th scope=row>604</th><td>1077</td><td>1.258532e+18</td><td>RT @Aboa_Banku: If Tulenkey 's rap was rap a human being  #TulenkeyDream</td></tr>\n",
       "</tbody>\n",
       "</table>\n"
      ],
      "text/latex": [
       "A data.frame: 1 × 3\n",
       "\\begin{tabular}{r|lll}\n",
       "  & id & id\\_tweet & text\\\\\n",
       "  & <int> & <dbl> & <chr>\\\\\n",
       "\\hline\n",
       "\t604 & 1077 & 1.258532e+18 & RT @Aboa\\_Banku: If Tulenkey 's rap was rap a human being  \\#TulenkeyDream\\\\\n",
       "\\end{tabular}\n"
      ],
      "text/markdown": [
       "\n",
       "A data.frame: 1 × 3\n",
       "\n",
       "| <!--/--> | id &lt;int&gt; | id_tweet &lt;dbl&gt; | text &lt;chr&gt; |\n",
       "|---|---|---|---|\n",
       "| 604 | 1077 | 1.258532e+18 | RT @Aboa_Banku: If Tulenkey 's rap was rap a human being  #TulenkeyDream |\n",
       "\n"
      ],
      "text/plain": [
       "    id   id_tweet    \n",
       "604 1077 1.258532e+18\n",
       "    text                                                                    \n",
       "604 RT @Aboa_Banku: If Tulenkey 's rap was rap a human being  #TulenkeyDream"
      ]
     },
     "metadata": {},
     "output_type": "display_data"
    }
   ],
   "source": [
    "#cluster 6\n",
    "#choix des tweet aléatoire dans df6\n",
    "tweet = verite[verite['id']==1077,]\n",
    "tweet"
   ]
  },
  {
   "cell_type": "code",
   "execution_count": 25,
   "metadata": {},
   "outputs": [
    {
     "data": {
      "text/html": [
       "<table>\n",
       "<caption>A data.frame: 1 × 3</caption>\n",
       "<thead>\n",
       "\t<tr><th></th><th scope=col>id</th><th scope=col>id_tweet</th><th scope=col>text</th></tr>\n",
       "\t<tr><th></th><th scope=col>&lt;int&gt;</th><th scope=col>&lt;dbl&gt;</th><th scope=col>&lt;chr&gt;</th></tr>\n",
       "</thead>\n",
       "<tbody>\n",
       "\t<tr><th scope=row>201</th><td>332</td><td>1.258477e+18</td><td>RT @FANGORIA: Haven't you heard that \"lust, sweat, blood, and exploding genitals\" is the new \"sex, drugs, and rock 'n roll?!\" See FANGORIA'â€¦</td></tr>\n",
       "</tbody>\n",
       "</table>\n"
      ],
      "text/latex": [
       "A data.frame: 1 × 3\n",
       "\\begin{tabular}{r|lll}\n",
       "  & id & id\\_tweet & text\\\\\n",
       "  & <int> & <dbl> & <chr>\\\\\n",
       "\\hline\n",
       "\t201 & 332 & 1.258477e+18 & RT @FANGORIA: Haven't you heard that \"lust, sweat, blood, and exploding genitals\" is the new \"sex, drugs, and rock 'n roll?!\" See FANGORIA'â€¦\\\\\n",
       "\\end{tabular}\n"
      ],
      "text/markdown": [
       "\n",
       "A data.frame: 1 × 3\n",
       "\n",
       "| <!--/--> | id &lt;int&gt; | id_tweet &lt;dbl&gt; | text &lt;chr&gt; |\n",
       "|---|---|---|---|\n",
       "| 201 | 332 | 1.258477e+18 | RT @FANGORIA: Haven't you heard that \"lust, sweat, blood, and exploding genitals\" is the new \"sex, drugs, and rock 'n roll?!\" See FANGORIA'â€¦ |\n",
       "\n"
      ],
      "text/plain": [
       "    id  id_tweet    \n",
       "201 332 1.258477e+18\n",
       "    text                                                                                                                                          \n",
       "201 RT @FANGORIA: Haven't you heard that \"lust, sweat, blood, and exploding genitals\" is the new \"sex, drugs, and rock 'n roll?!\" See FANGORIA'â\\200¦"
      ]
     },
     "metadata": {},
     "output_type": "display_data"
    },
    {
     "data": {
      "text/html": [
       "<table>\n",
       "<caption>A data.frame: 1 × 3</caption>\n",
       "<thead>\n",
       "\t<tr><th></th><th scope=col>id</th><th scope=col>id_tweet</th><th scope=col>text</th></tr>\n",
       "\t<tr><th></th><th scope=col>&lt;int&gt;</th><th scope=col>&lt;dbl&gt;</th><th scope=col>&lt;chr&gt;</th></tr>\n",
       "</thead>\n",
       "<tbody>\n",
       "\t<tr><th scope=row>1327</th><td>2334</td><td>1.258659e+18</td><td>RT @LennaLeprena: Electric Light Orchestra - Rock n' Roll Is King (Official Video) https://t.co/T1pM6by08h via @YouTube</td></tr>\n",
       "</tbody>\n",
       "</table>\n"
      ],
      "text/latex": [
       "A data.frame: 1 × 3\n",
       "\\begin{tabular}{r|lll}\n",
       "  & id & id\\_tweet & text\\\\\n",
       "  & <int> & <dbl> & <chr>\\\\\n",
       "\\hline\n",
       "\t1327 & 2334 & 1.258659e+18 & RT @LennaLeprena: Electric Light Orchestra - Rock n' Roll Is King (Official Video) https://t.co/T1pM6by08h via @YouTube\\\\\n",
       "\\end{tabular}\n"
      ],
      "text/markdown": [
       "\n",
       "A data.frame: 1 × 3\n",
       "\n",
       "| <!--/--> | id &lt;int&gt; | id_tweet &lt;dbl&gt; | text &lt;chr&gt; |\n",
       "|---|---|---|---|\n",
       "| 1327 | 2334 | 1.258659e+18 | RT @LennaLeprena: Electric Light Orchestra - Rock n' Roll Is King (Official Video) https://t.co/T1pM6by08h via @YouTube |\n",
       "\n"
      ],
      "text/plain": [
       "     id   id_tweet    \n",
       "1327 2334 1.258659e+18\n",
       "     text                                                                                                                   \n",
       "1327 RT @LennaLeprena: Electric Light Orchestra - Rock n' Roll Is King (Official Video) https://t.co/T1pM6by08h via @YouTube"
      ]
     },
     "metadata": {},
     "output_type": "display_data"
    },
    {
     "data": {
      "text/html": [
       "<table>\n",
       "<caption>A data.frame: 1 × 3</caption>\n",
       "<thead>\n",
       "\t<tr><th></th><th scope=col>id</th><th scope=col>id_tweet</th><th scope=col>text</th></tr>\n",
       "\t<tr><th></th><th scope=col>&lt;int&gt;</th><th scope=col>&lt;dbl&gt;</th><th scope=col>&lt;chr&gt;</th></tr>\n",
       "</thead>\n",
       "<tbody>\n",
       "\t<tr><th scope=row>1318</th><td>2314</td><td>1.258663e+18</td><td>@bizbiz3450 @FootWag Yeaaaah rock'n roll! https://t.co/Q42pi1Ozf0</td></tr>\n",
       "</tbody>\n",
       "</table>\n"
      ],
      "text/latex": [
       "A data.frame: 1 × 3\n",
       "\\begin{tabular}{r|lll}\n",
       "  & id & id\\_tweet & text\\\\\n",
       "  & <int> & <dbl> & <chr>\\\\\n",
       "\\hline\n",
       "\t1318 & 2314 & 1.258663e+18 & @bizbiz3450 @FootWag Yeaaaah rock'n roll! https://t.co/Q42pi1Ozf0\\\\\n",
       "\\end{tabular}\n"
      ],
      "text/markdown": [
       "\n",
       "A data.frame: 1 × 3\n",
       "\n",
       "| <!--/--> | id &lt;int&gt; | id_tweet &lt;dbl&gt; | text &lt;chr&gt; |\n",
       "|---|---|---|---|\n",
       "| 1318 | 2314 | 1.258663e+18 | @bizbiz3450 @FootWag Yeaaaah rock'n roll! https://t.co/Q42pi1Ozf0 |\n",
       "\n"
      ],
      "text/plain": [
       "     id   id_tweet    \n",
       "1318 2314 1.258663e+18\n",
       "     text                                                             \n",
       "1318 @bizbiz3450 @FootWag Yeaaaah rock'n roll! https://t.co/Q42pi1Ozf0"
      ]
     },
     "metadata": {},
     "output_type": "display_data"
    },
    {
     "data": {
      "text/html": [
       "<table>\n",
       "<caption>A data.frame: 1 × 3</caption>\n",
       "<thead>\n",
       "\t<tr><th></th><th scope=col>id</th><th scope=col>id_tweet</th><th scope=col>text</th></tr>\n",
       "\t<tr><th></th><th scope=col>&lt;int&gt;</th><th scope=col>&lt;dbl&gt;</th><th scope=col>&lt;chr&gt;</th></tr>\n",
       "</thead>\n",
       "<tbody>\n",
       "\t<tr><th scope=row>180</th><td>280</td><td>1.258485e+18</td><td>- This â€œRock n Rollâ€ poster from 1957 https://t.co/0WVXHVDZsM</td></tr>\n",
       "</tbody>\n",
       "</table>\n"
      ],
      "text/latex": [
       "A data.frame: 1 × 3\n",
       "\\begin{tabular}{r|lll}\n",
       "  & id & id\\_tweet & text\\\\\n",
       "  & <int> & <dbl> & <chr>\\\\\n",
       "\\hline\n",
       "\t180 & 280 & 1.258485e+18 & - This â€œRock n Rollâ€ poster from 1957 https://t.co/0WVXHVDZsM\\\\\n",
       "\\end{tabular}\n"
      ],
      "text/markdown": [
       "\n",
       "A data.frame: 1 × 3\n",
       "\n",
       "| <!--/--> | id &lt;int&gt; | id_tweet &lt;dbl&gt; | text &lt;chr&gt; |\n",
       "|---|---|---|---|\n",
       "| 180 | 280 | 1.258485e+18 | - This â€œRock n Rollâ€ poster from 1957 https://t.co/0WVXHVDZsM |\n",
       "\n"
      ],
      "text/plain": [
       "    id  id_tweet    \n",
       "180 280 1.258485e+18\n",
       "    text                                                             \n",
       "180 - This â\\200œRock n Rollâ\\200\\235 poster from 1957 https://t.co/0WVXHVDZsM"
      ]
     },
     "metadata": {},
     "output_type": "display_data"
    },
    {
     "data": {
      "text/html": [
       "<table>\n",
       "<caption>A data.frame: 1 × 3</caption>\n",
       "<thead>\n",
       "\t<tr><th></th><th scope=col>id</th><th scope=col>id_tweet</th><th scope=col>text</th></tr>\n",
       "\t<tr><th></th><th scope=col>&lt;int&gt;</th><th scope=col>&lt;dbl&gt;</th><th scope=col>&lt;chr&gt;</th></tr>\n",
       "</thead>\n",
       "<tbody>\n",
       "\t<tr><th scope=row>439</th><td>754</td><td>1.258527e+18</td><td>RT @HotFreestyle: Lil Tjay is dropping his new single â€˜Zoo Yorkâ€™ featuring Pop Smoke &amp;amp; Fivio Foreign this Friday https://t.co/HnPUKXvbKJ</td></tr>\n",
       "</tbody>\n",
       "</table>\n"
      ],
      "text/latex": [
       "A data.frame: 1 × 3\n",
       "\\begin{tabular}{r|lll}\n",
       "  & id & id\\_tweet & text\\\\\n",
       "  & <int> & <dbl> & <chr>\\\\\n",
       "\\hline\n",
       "\t439 & 754 & 1.258527e+18 & RT @HotFreestyle: Lil Tjay is dropping his new single â€˜Zoo Yorkâ€™ featuring Pop Smoke \\&amp; Fivio Foreign this Friday https://t.co/HnPUKXvbKJ\\\\\n",
       "\\end{tabular}\n"
      ],
      "text/markdown": [
       "\n",
       "A data.frame: 1 × 3\n",
       "\n",
       "| <!--/--> | id &lt;int&gt; | id_tweet &lt;dbl&gt; | text &lt;chr&gt; |\n",
       "|---|---|---|---|\n",
       "| 439 | 754 | 1.258527e+18 | RT @HotFreestyle: Lil Tjay is dropping his new single â€˜Zoo Yorkâ€™ featuring Pop Smoke &amp;amp; Fivio Foreign this Friday https://t.co/HnPUKXvbKJ |\n",
       "\n"
      ],
      "text/plain": [
       "    id  id_tweet    \n",
       "439 754 1.258527e+18\n",
       "    text                                                                                                                                            \n",
       "439 RT @HotFreestyle: Lil Tjay is dropping his new single â\\200\\230Zoo Yorkâ\\200\\231 featuring Pop Smoke &amp; Fivio Foreign this Friday https://t.co/HnPUKXvbKJ"
      ]
     },
     "metadata": {},
     "output_type": "display_data"
    }
   ],
   "source": [
    "# cluster 7\n",
    "#choix des tweet aléatoire dans df7\n",
    "tweet = verite[verite['id']==332,]\n",
    "tweet\n",
    "\n",
    "tweet = verite[verite['id']==2334,]\n",
    "tweet\n",
    "\n",
    "tweet = verite[verite['id']==2314,]\n",
    "tweet\n",
    "\n",
    "tweet = verite[verite['id']==280,]\n",
    "tweet\n",
    "\n",
    "tweet = verite[verite['id']==754,]\n",
    "tweet"
   ]
  }
 ],
 "metadata": {
  "kernelspec": {
   "display_name": "R",
   "language": "R",
   "name": "ir"
  },
  "language_info": {
   "codemirror_mode": "r",
   "file_extension": ".r",
   "mimetype": "text/x-r-source",
   "name": "R",
   "pygments_lexer": "r",
   "version": "3.6.1"
  }
 },
 "nbformat": 4,
 "nbformat_minor": 2
}
